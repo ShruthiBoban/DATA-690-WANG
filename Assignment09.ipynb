{
 "cells": [
  {
   "cell_type": "markdown",
   "metadata": {},
   "source": [
    "# Assignment 8\n",
    "\n",
    "For this assignment , we will use the college scorecard dataset."
   ]
  },
  {
   "cell_type": "markdown",
   "metadata": {},
   "source": [
    "1 - Import necessary libraries"
   ]
  },
  {
   "cell_type": "code",
   "execution_count": 1,
   "metadata": {},
   "outputs": [],
   "source": [
    "import os\n",
    "import pandas as pd\n",
    "import matplotlib.pyplot as plt\n",
    "from matplotlib.pyplot import figure \n",
    "import numpy as np"
   ]
  },
  {
   "cell_type": "code",
   "execution_count": 2,
   "metadata": {},
   "outputs": [
    {
     "data": {
      "text/plain": [
       "'C:\\\\Users\\\\shrut\\\\Assignment07'"
      ]
     },
     "execution_count": 2,
     "metadata": {},
     "output_type": "execute_result"
    }
   ],
   "source": [
    "os.getcwd()"
   ]
  },
  {
   "cell_type": "markdown",
   "metadata": {},
   "source": [
    "\n",
    "2 - Retrieve the names of the 22 files and assign them to a List variable, filter out other files\n",
    "\n",
    "Display the names of these 22 files"
   ]
  },
  {
   "cell_type": "code",
   "execution_count": 3,
   "metadata": {},
   "outputs": [
    {
     "data": {
      "text/plain": [
       "['.ipynb_checkpoints',\n",
       " 'a.DS_Store',\n",
       " 'Crosswalks.zip',\n",
       " 'data.yaml',\n",
       " 'MERGED1996_97_PP.csv',\n",
       " 'MERGED1997_98_PP.csv',\n",
       " 'MERGED1998_99_PP.csv',\n",
       " 'MERGED1999_00_PP.csv',\n",
       " 'MERGED2000_01_PP.csv',\n",
       " 'MERGED2001_02_PP.csv',\n",
       " 'MERGED2002_03_PP.csv',\n",
       " 'MERGED2003_04_PP.csv',\n",
       " 'MERGED2004_05_PP.csv',\n",
       " 'MERGED2005_06_PP.csv',\n",
       " 'MERGED2006_07_PP.csv',\n",
       " 'MERGED2007_08_PP.csv',\n",
       " 'MERGED2008_09_PP.csv',\n",
       " 'MERGED2009_10_PP.csv',\n",
       " 'MERGED2010_11_PP.csv',\n",
       " 'MERGED2011_12_PP.csv',\n",
       " 'MERGED2012_13_PP.csv',\n",
       " 'MERGED2013_14_PP.csv',\n",
       " 'MERGED2014_15_PP.csv',\n",
       " 'MERGED2015_16_PP.csv',\n",
       " 'MERGED2016_17_PP.csv',\n",
       " 'MERGED2017_18_PP.csv',\n",
       " 'MERGED2018_19_PP.csv']"
      ]
     },
     "execution_count": 3,
     "metadata": {},
     "output_type": "execute_result"
    }
   ],
   "source": [
    "DATA_FOLDER = \"../Assignment07/CollegeScorecard_Raw_Data/\"\n",
    "file_list = os.listdir(DATA_FOLDER)\n",
    "file_list"
   ]
  },
  {
   "cell_type": "code",
   "execution_count": 4,
   "metadata": {},
   "outputs": [
    {
     "data": {
      "text/plain": [
       "['MERGED1996_97_PP.csv',\n",
       " 'MERGED1997_98_PP.csv',\n",
       " 'MERGED1998_99_PP.csv',\n",
       " 'MERGED1999_00_PP.csv',\n",
       " 'MERGED2000_01_PP.csv',\n",
       " 'MERGED2001_02_PP.csv',\n",
       " 'MERGED2002_03_PP.csv',\n",
       " 'MERGED2003_04_PP.csv',\n",
       " 'MERGED2004_05_PP.csv',\n",
       " 'MERGED2005_06_PP.csv',\n",
       " 'MERGED2006_07_PP.csv',\n",
       " 'MERGED2007_08_PP.csv',\n",
       " 'MERGED2008_09_PP.csv',\n",
       " 'MERGED2009_10_PP.csv',\n",
       " 'MERGED2010_11_PP.csv',\n",
       " 'MERGED2011_12_PP.csv',\n",
       " 'MERGED2012_13_PP.csv',\n",
       " 'MERGED2013_14_PP.csv',\n",
       " 'MERGED2014_15_PP.csv',\n",
       " 'MERGED2015_16_PP.csv',\n",
       " 'MERGED2016_17_PP.csv',\n",
       " 'MERGED2017_18_PP.csv',\n",
       " 'MERGED2018_19_PP.csv']"
      ]
     },
     "execution_count": 4,
     "metadata": {},
     "output_type": "execute_result"
    }
   ],
   "source": [
    "file_name_list = [x for x in file_list if x.endswith(\".csv\")]\n",
    "file_name_list"
   ]
  },
  {
   "cell_type": "markdown",
   "metadata": {},
   "source": [
    "3 - Write code to randomly select one file name out of the 22 files names\n",
    "\n",
    "Display the file name"
   ]
  },
  {
   "cell_type": "code",
   "execution_count": 5,
   "metadata": {},
   "outputs": [
    {
     "data": {
      "text/plain": [
       "'MERGED2015_16_PP.csv'"
      ]
     },
     "execution_count": 5,
     "metadata": {},
     "output_type": "execute_result"
    }
   ],
   "source": [
    "import random\n",
    "random.choice(file_name_list)"
   ]
  },
  {
   "cell_type": "markdown",
   "metadata": {},
   "source": [
    "4 - Only read the two columns: college name (INSTNM) and in state tution (\"TUITIONFEE_IN\") from this file into a data frame aand display use info() function to display a summary information"
   ]
  },
  {
   "cell_type": "code",
   "execution_count": 6,
   "metadata": {},
   "outputs": [
    {
     "name": "stdout",
     "output_type": "stream",
     "text": [
      "Reading file MERGED1996_97_PP.csv ......\n",
      "Reading file MERGED1997_98_PP.csv ......\n",
      "Reading file MERGED1998_99_PP.csv ......\n",
      "Reading file MERGED1999_00_PP.csv ......\n",
      "Reading file MERGED2000_01_PP.csv ......\n",
      "Reading file MERGED2001_02_PP.csv ......\n",
      "Reading file MERGED2002_03_PP.csv ......\n",
      "Reading file MERGED2003_04_PP.csv ......\n",
      "Reading file MERGED2004_05_PP.csv ......\n",
      "Reading file MERGED2005_06_PP.csv ......\n",
      "Reading file MERGED2006_07_PP.csv ......\n",
      "Reading file MERGED2007_08_PP.csv ......\n",
      "Reading file MERGED2008_09_PP.csv ......\n",
      "Reading file MERGED2009_10_PP.csv ......\n",
      "Reading file MERGED2010_11_PP.csv ......\n",
      "Reading file MERGED2011_12_PP.csv ......\n",
      "Reading file MERGED2012_13_PP.csv ......\n",
      "Reading file MERGED2013_14_PP.csv ......\n",
      "Reading file MERGED2014_15_PP.csv ......\n",
      "Reading file MERGED2015_16_PP.csv ......\n",
      "Reading file MERGED2016_17_PP.csv ......\n",
      "Reading file MERGED2017_18_PP.csv ......\n",
      "Reading file MERGED2018_19_PP.csv ......\n",
      "<class 'pandas.core.frame.DataFrame'>\n",
      "RangeIndex: 163331 entries, 0 to 163330\n",
      "Data columns (total 2 columns):\n",
      "INSTNM           163331 non-null object\n",
      "TUITIONFEE_IN    79194 non-null float64\n",
      "dtypes: float64(1), object(1)\n",
      "memory usage: 2.5+ MB\n"
     ]
    }
   ],
   "source": [
    "COLUMN_LIST = [\"INSTNM\", \"TUITIONFEE_IN\"]\n",
    "df_list = []\n",
    "\n",
    "for file in file_name_list:\n",
    "    print(\"Reading file \" + file + \" ......\")\n",
    "    tmp_df = pd.read_csv(DATA_FOLDER + file, usecols=COLUMN_LIST)\n",
    "    #tmp_df[\"YEAR\"] = file[6:13]\n",
    "    df_list.append(tmp_df)\n",
    "    \n",
    "df = pd.concat(df_list, ignore_index = True)\n",
    "df.info()"
   ]
  },
  {
   "cell_type": "code",
   "execution_count": 7,
   "metadata": {},
   "outputs": [
    {
     "data": {
      "text/html": [
       "<div>\n",
       "<style scoped>\n",
       "    .dataframe tbody tr th:only-of-type {\n",
       "        vertical-align: middle;\n",
       "    }\n",
       "\n",
       "    .dataframe tbody tr th {\n",
       "        vertical-align: top;\n",
       "    }\n",
       "\n",
       "    .dataframe thead th {\n",
       "        text-align: right;\n",
       "    }\n",
       "</style>\n",
       "<table border=\"1\" class=\"dataframe\">\n",
       "  <thead>\n",
       "    <tr style=\"text-align: right;\">\n",
       "      <th></th>\n",
       "      <th>INSTNM</th>\n",
       "      <th>TUITIONFEE_IN</th>\n",
       "    </tr>\n",
       "  </thead>\n",
       "  <tbody>\n",
       "    <tr>\n",
       "      <th>0</th>\n",
       "      <td>Community College of the Air Force</td>\n",
       "      <td>NaN</td>\n",
       "    </tr>\n",
       "    <tr>\n",
       "      <th>1</th>\n",
       "      <td>Alabama A &amp; M University</td>\n",
       "      <td>NaN</td>\n",
       "    </tr>\n",
       "    <tr>\n",
       "      <th>2</th>\n",
       "      <td>University of Alabama at Birmingham</td>\n",
       "      <td>NaN</td>\n",
       "    </tr>\n",
       "    <tr>\n",
       "      <th>3</th>\n",
       "      <td>ALABAMA AVIATION AND TECHNICAL COLLEGE</td>\n",
       "      <td>NaN</td>\n",
       "    </tr>\n",
       "    <tr>\n",
       "      <th>4</th>\n",
       "      <td>Amridge University</td>\n",
       "      <td>NaN</td>\n",
       "    </tr>\n",
       "  </tbody>\n",
       "</table>\n",
       "</div>"
      ],
      "text/plain": [
       "                                   INSTNM  TUITIONFEE_IN\n",
       "0      Community College of the Air Force            NaN\n",
       "1                Alabama A & M University            NaN\n",
       "2     University of Alabama at Birmingham            NaN\n",
       "3  ALABAMA AVIATION AND TECHNICAL COLLEGE            NaN\n",
       "4                      Amridge University            NaN"
      ]
     },
     "execution_count": 7,
     "metadata": {},
     "output_type": "execute_result"
    }
   ],
   "source": [
    "df.reset_index(drop=True, inplace=True)\n",
    "df.head(5)"
   ]
  },
  {
   "cell_type": "code",
   "execution_count": 8,
   "metadata": {},
   "outputs": [
    {
     "data": {
      "text/plain": [
       "(163331, 2)"
      ]
     },
     "execution_count": 8,
     "metadata": {},
     "output_type": "execute_result"
    }
   ],
   "source": [
    "df.shape"
   ]
  },
  {
   "cell_type": "markdown",
   "metadata": {},
   "source": [
    "5 - Find out how many observations have missing value."
   ]
  },
  {
   "cell_type": "code",
   "execution_count": 9,
   "metadata": {},
   "outputs": [
    {
     "data": {
      "text/plain": [
       "INSTNM               0\n",
       "TUITIONFEE_IN    84137\n",
       "dtype: int64"
      ]
     },
     "execution_count": 9,
     "metadata": {},
     "output_type": "execute_result"
    }
   ],
   "source": [
    "df.isnull().sum()"
   ]
  },
  {
   "cell_type": "markdown",
   "metadata": {},
   "source": [
    "7 - Find out how many observations have 0 tution."
   ]
  },
  {
   "cell_type": "code",
   "execution_count": 10,
   "metadata": {},
   "outputs": [
    {
     "data": {
      "text/plain": [
       "INSTNM            True\n",
       "TUITIONFEE_IN    False\n",
       "dtype: bool"
      ]
     },
     "execution_count": 10,
     "metadata": {},
     "output_type": "execute_result"
    }
   ],
   "source": [
    "(df != 0).all()"
   ]
  },
  {
   "cell_type": "markdown",
   "metadata": {},
   "source": [
    "6 - Drop those observations with missing value. Display the number of observations afterward. \n",
    "\n",
    "8 - Drop those observations with 0 tuition. Display the number of observations afterward."
   ]
  },
  {
   "cell_type": "code",
   "execution_count": 11,
   "metadata": {},
   "outputs": [],
   "source": [
    "df.dropna(subset = [\"TUITIONFEE_IN\"], inplace=True)"
   ]
  },
  {
   "cell_type": "code",
   "execution_count": 12,
   "metadata": {},
   "outputs": [
    {
     "data": {
      "text/plain": [
       "(79194, 2)"
      ]
     },
     "execution_count": 12,
     "metadata": {},
     "output_type": "execute_result"
    }
   ],
   "source": [
    "df.shape"
   ]
  },
  {
   "cell_type": "code",
   "execution_count": 13,
   "metadata": {},
   "outputs": [
    {
     "data": {
      "text/html": [
       "<div>\n",
       "<style scoped>\n",
       "    .dataframe tbody tr th:only-of-type {\n",
       "        vertical-align: middle;\n",
       "    }\n",
       "\n",
       "    .dataframe tbody tr th {\n",
       "        vertical-align: top;\n",
       "    }\n",
       "\n",
       "    .dataframe thead th {\n",
       "        text-align: right;\n",
       "    }\n",
       "</style>\n",
       "<table border=\"1\" class=\"dataframe\">\n",
       "  <thead>\n",
       "    <tr style=\"text-align: right;\">\n",
       "      <th></th>\n",
       "      <th>INSTNM</th>\n",
       "      <th>TUITIONFEE_IN</th>\n",
       "    </tr>\n",
       "  </thead>\n",
       "  <tbody>\n",
       "    <tr>\n",
       "      <th>92357</th>\n",
       "      <td>South Dakota State University</td>\n",
       "      <td>6155.0</td>\n",
       "    </tr>\n",
       "    <tr>\n",
       "      <th>70499</th>\n",
       "      <td>SUNY College of Agriculture and Technology at ...</td>\n",
       "      <td>6111.0</td>\n",
       "    </tr>\n",
       "    <tr>\n",
       "      <th>144007</th>\n",
       "      <td>University of Northwestern-St Paul</td>\n",
       "      <td>29460.0</td>\n",
       "    </tr>\n",
       "    <tr>\n",
       "      <th>29682</th>\n",
       "      <td>Drury University</td>\n",
       "      <td>11204.0</td>\n",
       "    </tr>\n",
       "    <tr>\n",
       "      <th>150824</th>\n",
       "      <td>Southern University at Shreveport</td>\n",
       "      <td>4184.0</td>\n",
       "    </tr>\n",
       "  </tbody>\n",
       "</table>\n",
       "</div>"
      ],
      "text/plain": [
       "                                                   INSTNM  TUITIONFEE_IN\n",
       "92357                       South Dakota State University         6155.0\n",
       "70499   SUNY College of Agriculture and Technology at ...         6111.0\n",
       "144007                 University of Northwestern-St Paul        29460.0\n",
       "29682                                    Drury University        11204.0\n",
       "150824                  Southern University at Shreveport         4184.0"
      ]
     },
     "execution_count": 13,
     "metadata": {},
     "output_type": "execute_result"
    }
   ],
   "source": [
    "df.sample(5)"
   ]
  },
  {
   "cell_type": "markdown",
   "metadata": {},
   "source": [
    "9 - Calculate and display the mean (average) of the tuitions of all the remaining observations"
   ]
  },
  {
   "cell_type": "code",
   "execution_count": 14,
   "metadata": {},
   "outputs": [],
   "source": [
    "df_mean = df[\"TUITIONFEE_IN\"].mean()"
   ]
  },
  {
   "cell_type": "code",
   "execution_count": 15,
   "metadata": {},
   "outputs": [
    {
     "data": {
      "text/plain": [
       "11665.505366568173"
      ]
     },
     "execution_count": 15,
     "metadata": {},
     "output_type": "execute_result"
    }
   ],
   "source": [
    "df_mean"
   ]
  },
  {
   "cell_type": "markdown",
   "metadata": {},
   "source": [
    "10 - Randomly select just 1 observation from the data frame. Display the tuition of that observation."
   ]
  },
  {
   "cell_type": "code",
   "execution_count": 16,
   "metadata": {},
   "outputs": [],
   "source": [
    "randomdf  = df.sample(n = 1)"
   ]
  },
  {
   "cell_type": "code",
   "execution_count": 17,
   "metadata": {},
   "outputs": [
    {
     "data": {
      "text/html": [
       "<div>\n",
       "<style scoped>\n",
       "    .dataframe tbody tr th:only-of-type {\n",
       "        vertical-align: middle;\n",
       "    }\n",
       "\n",
       "    .dataframe tbody tr th {\n",
       "        vertical-align: top;\n",
       "    }\n",
       "\n",
       "    .dataframe thead th {\n",
       "        text-align: right;\n",
       "    }\n",
       "</style>\n",
       "<table border=\"1\" class=\"dataframe\">\n",
       "  <thead>\n",
       "    <tr style=\"text-align: right;\">\n",
       "      <th></th>\n",
       "      <th>INSTNM</th>\n",
       "      <th>TUITIONFEE_IN</th>\n",
       "    </tr>\n",
       "  </thead>\n",
       "  <tbody>\n",
       "    <tr>\n",
       "      <th>98209</th>\n",
       "      <td>Rowan College of South Jersey Gloucester Campus</td>\n",
       "      <td>3456.0</td>\n",
       "    </tr>\n",
       "  </tbody>\n",
       "</table>\n",
       "</div>"
      ],
      "text/plain": [
       "                                                INSTNM  TUITIONFEE_IN\n",
       "98209  Rowan College of South Jersey Gloucester Campus         3456.0"
      ]
     },
     "execution_count": 17,
     "metadata": {},
     "output_type": "execute_result"
    }
   ],
   "source": [
    "randomdf"
   ]
  },
  {
   "cell_type": "code",
   "execution_count": 18,
   "metadata": {},
   "outputs": [],
   "source": [
    "randomdf.reset_index(drop=True, inplace=True)"
   ]
  },
  {
   "cell_type": "markdown",
   "metadata": {},
   "source": [
    "11 - Calculate the different between the tuition of this observation and the mean tuition off all observations calculated earlier. Display the difference. \n",
    "\n",
    "12 - Repeat 10 to 11 several times get the feel of the size of the difference in means"
   ]
  },
  {
   "cell_type": "code",
   "execution_count": 19,
   "metadata": {},
   "outputs": [],
   "source": [
    "diff = randomdf[\"TUITIONFEE_IN\"] - df_mean"
   ]
  },
  {
   "cell_type": "code",
   "execution_count": 20,
   "metadata": {},
   "outputs": [
    {
     "data": {
      "text/plain": [
       "0   -8209.505367\n",
       "Name: TUITIONFEE_IN, dtype: float64"
      ]
     },
     "execution_count": 20,
     "metadata": {},
     "output_type": "execute_result"
    }
   ],
   "source": [
    "diff"
   ]
  },
  {
   "cell_type": "markdown",
   "metadata": {},
   "source": [
    "13 - Randomly select 20 observations, display the tuition of these observation."
   ]
  },
  {
   "cell_type": "code",
   "execution_count": 21,
   "metadata": {},
   "outputs": [],
   "source": [
    "randdf  = df.sample(n = 20)"
   ]
  },
  {
   "cell_type": "code",
   "execution_count": 22,
   "metadata": {
    "scrolled": false
   },
   "outputs": [
    {
     "data": {
      "text/html": [
       "<div>\n",
       "<style scoped>\n",
       "    .dataframe tbody tr th:only-of-type {\n",
       "        vertical-align: middle;\n",
       "    }\n",
       "\n",
       "    .dataframe tbody tr th {\n",
       "        vertical-align: top;\n",
       "    }\n",
       "\n",
       "    .dataframe thead th {\n",
       "        text-align: right;\n",
       "    }\n",
       "</style>\n",
       "<table border=\"1\" class=\"dataframe\">\n",
       "  <thead>\n",
       "    <tr style=\"text-align: right;\">\n",
       "      <th></th>\n",
       "      <th>INSTNM</th>\n",
       "      <th>TUITIONFEE_IN</th>\n",
       "    </tr>\n",
       "  </thead>\n",
       "  <tbody>\n",
       "    <tr>\n",
       "      <th>84075</th>\n",
       "      <td>Institute of American Indian and Alaska Native...</td>\n",
       "      <td>2500.0</td>\n",
       "    </tr>\n",
       "    <tr>\n",
       "      <th>118576</th>\n",
       "      <td>Keiser University-Tampa</td>\n",
       "      <td>15664.0</td>\n",
       "    </tr>\n",
       "    <tr>\n",
       "      <th>31757</th>\n",
       "      <td>Dixie State University</td>\n",
       "      <td>1480.0</td>\n",
       "    </tr>\n",
       "    <tr>\n",
       "      <th>30766</th>\n",
       "      <td>Ohio University-Chillicothe Campus</td>\n",
       "      <td>3033.0</td>\n",
       "    </tr>\n",
       "    <tr>\n",
       "      <th>89250</th>\n",
       "      <td>Bais Binyomin Academy</td>\n",
       "      <td>5350.0</td>\n",
       "    </tr>\n",
       "    <tr>\n",
       "      <th>82184</th>\n",
       "      <td>Pikes Peak Community College</td>\n",
       "      <td>2249.0</td>\n",
       "    </tr>\n",
       "    <tr>\n",
       "      <th>91529</th>\n",
       "      <td>University of Mount Olive</td>\n",
       "      <td>14446.0</td>\n",
       "    </tr>\n",
       "    <tr>\n",
       "      <th>107059</th>\n",
       "      <td>Tennessee Wesleyan University</td>\n",
       "      <td>19700.0</td>\n",
       "    </tr>\n",
       "    <tr>\n",
       "      <th>56368</th>\n",
       "      <td>Blackfeet Community College</td>\n",
       "      <td>2000.0</td>\n",
       "    </tr>\n",
       "    <tr>\n",
       "      <th>159312</th>\n",
       "      <td>Lane Community College</td>\n",
       "      <td>4812.0</td>\n",
       "    </tr>\n",
       "    <tr>\n",
       "      <th>71884</th>\n",
       "      <td>Christopher Newport University</td>\n",
       "      <td>6460.0</td>\n",
       "    </tr>\n",
       "    <tr>\n",
       "      <th>29424</th>\n",
       "      <td>Lawrence Technological University</td>\n",
       "      <td>8688.0</td>\n",
       "    </tr>\n",
       "    <tr>\n",
       "      <th>79624</th>\n",
       "      <td>Bay Mills Community College</td>\n",
       "      <td>2760.0</td>\n",
       "    </tr>\n",
       "    <tr>\n",
       "      <th>30383</th>\n",
       "      <td>SUNY Maritime College</td>\n",
       "      <td>4850.0</td>\n",
       "    </tr>\n",
       "    <tr>\n",
       "      <th>144035</th>\n",
       "      <td>Century College</td>\n",
       "      <td>5360.0</td>\n",
       "    </tr>\n",
       "    <tr>\n",
       "      <th>78589</th>\n",
       "      <td>University of Houston</td>\n",
       "      <td>6084.0</td>\n",
       "    </tr>\n",
       "    <tr>\n",
       "      <th>120065</th>\n",
       "      <td>Wheaton College</td>\n",
       "      <td>30880.0</td>\n",
       "    </tr>\n",
       "    <tr>\n",
       "      <th>153254</th>\n",
       "      <td>Fox Valley Technical College</td>\n",
       "      <td>4497.0</td>\n",
       "    </tr>\n",
       "    <tr>\n",
       "      <th>120391</th>\n",
       "      <td>ITI Technical College</td>\n",
       "      <td>10575.0</td>\n",
       "    </tr>\n",
       "    <tr>\n",
       "      <th>129329</th>\n",
       "      <td>Rockland Community College</td>\n",
       "      <td>4654.0</td>\n",
       "    </tr>\n",
       "  </tbody>\n",
       "</table>\n",
       "</div>"
      ],
      "text/plain": [
       "                                                   INSTNM  TUITIONFEE_IN\n",
       "84075   Institute of American Indian and Alaska Native...         2500.0\n",
       "118576                            Keiser University-Tampa        15664.0\n",
       "31757                              Dixie State University         1480.0\n",
       "30766                  Ohio University-Chillicothe Campus         3033.0\n",
       "89250                               Bais Binyomin Academy         5350.0\n",
       "82184                        Pikes Peak Community College         2249.0\n",
       "91529                           University of Mount Olive        14446.0\n",
       "107059                      Tennessee Wesleyan University        19700.0\n",
       "56368                         Blackfeet Community College         2000.0\n",
       "159312                             Lane Community College         4812.0\n",
       "71884                      Christopher Newport University         6460.0\n",
       "29424                   Lawrence Technological University         8688.0\n",
       "79624                         Bay Mills Community College         2760.0\n",
       "30383                               SUNY Maritime College         4850.0\n",
       "144035                                    Century College         5360.0\n",
       "78589                               University of Houston         6084.0\n",
       "120065                                    Wheaton College        30880.0\n",
       "153254                       Fox Valley Technical College         4497.0\n",
       "120391                              ITI Technical College        10575.0\n",
       "129329                         Rockland Community College         4654.0"
      ]
     },
     "execution_count": 22,
     "metadata": {},
     "output_type": "execute_result"
    }
   ],
   "source": [
    "randdf"
   ]
  },
  {
   "cell_type": "markdown",
   "metadata": {},
   "source": [
    "14 - Calculate and display the mean tuition of these 20 observations"
   ]
  },
  {
   "cell_type": "code",
   "execution_count": 23,
   "metadata": {},
   "outputs": [],
   "source": [
    "df_randmean = randdf[\"TUITIONFEE_IN\"].mean()"
   ]
  },
  {
   "cell_type": "code",
   "execution_count": 24,
   "metadata": {},
   "outputs": [
    {
     "data": {
      "text/plain": [
       "7802.1"
      ]
     },
     "execution_count": 24,
     "metadata": {},
     "output_type": "execute_result"
    }
   ],
   "source": [
    "df_randmean"
   ]
  },
  {
   "cell_type": "markdown",
   "metadata": {},
   "source": [
    "15 - Calculate  the different between the average tuition of these 20 observations and the mean tuition off all observations calculated earlier. Display the difference\n",
    "\n",
    "16 - Repeat 13 to 15 several times and get the feel of the size of the difference in means. "
   ]
  },
  {
   "cell_type": "code",
   "execution_count": 25,
   "metadata": {},
   "outputs": [],
   "source": [
    "maindiff = df_randmean - df_mean"
   ]
  },
  {
   "cell_type": "code",
   "execution_count": 26,
   "metadata": {},
   "outputs": [
    {
     "data": {
      "text/plain": [
       "-3863.405366568173"
      ]
     },
     "execution_count": 26,
     "metadata": {},
     "output_type": "execute_result"
    }
   ],
   "source": [
    "maindiff"
   ]
  },
  {
   "cell_type": "markdown",
   "metadata": {},
   "source": [
    "17 - Write a function that take two input parameters:\n",
    "\n",
    "- x (number of observations)\n",
    "- y (the name of the dataframe).\n",
    "\n",
    "The function will perform the following:\n",
    "\n",
    "- Randomly select x observations from y\n",
    "- Calculate the mean of these x observations\n",
    "- Calculate the mean of all observations\n",
    "- Calculate the difference between the two means\n",
    "- Return the difference"
   ]
  },
  {
   "cell_type": "code",
   "execution_count": 27,
   "metadata": {},
   "outputs": [],
   "source": [
    "def multiply_values(observations,dataframe):\n",
    "    df_mean = dataframe[\"TUITIONFEE_IN\"].mean() #Calculate the mean of all observations\n",
    "    df_sample = dataframe.sample(n = observations) # Randomly select x observations from y\n",
    "    df_sample_mean = df_sample[\"TUITIONFEE_IN\"].mean() #Calculate the mean of these x observations\n",
    "    diff=   df_sample_mean - df_mean\n",
    "    return diff\n"
   ]
  },
  {
   "cell_type": "markdown",
   "metadata": {},
   "source": [
    "18 - Test the function by passing a sample size and the name of the dataframe. Display the return of the function"
   ]
  },
  {
   "cell_type": "code",
   "execution_count": 28,
   "metadata": {},
   "outputs": [
    {
     "data": {
      "text/plain": [
       "3754.4946334318265"
      ]
     },
     "execution_count": 28,
     "metadata": {},
     "output_type": "execute_result"
    }
   ],
   "source": [
    "multiply_values(2,df)"
   ]
  },
  {
   "cell_type": "markdown",
   "metadata": {},
   "source": [
    "19 - Create a list of sequence numbers from 1 to 50, name it \"sample_sizes\"; display it to make sure its members are from 1 to 50"
   ]
  },
  {
   "cell_type": "code",
   "execution_count": 29,
   "metadata": {},
   "outputs": [
    {
     "name": "stdout",
     "output_type": "stream",
     "text": [
      "[1, 2, 3, 4, 5, 6, 7, 8, 9, 10, 11, 12, 13, 14, 15, 16, 17, 18, 19, 20, 21, 22, 23, 24, 25, 26, 27, 28, 29, 30, 31, 32, 33, 34, 35, 36, 37, 38, 39, 40, 41, 42, 43, 44, 45, 46, 47, 48, 49, 50]\n"
     ]
    }
   ],
   "source": [
    "sample_sizes = [x for x in range(1, 51)]\n",
    "print(sample_sizes)\n",
    "\n",
    "means_diff = [] #Create an empty list and name it \"means_diff\" for differences of population mean and sample means\n",
    "\n",
    "\n"
   ]
  },
  {
   "cell_type": "markdown",
   "metadata": {},
   "source": [
    "20 - Create an empty list and name it \"means_diff\" for differences of population mean and sample means;\n",
    " - Loop through the list sample_sizes:\n",
    " - For each element in the sample size list, obtain a random sample of that size from the data frame;\n",
    " - Calculate the sample mean \n",
    " - Calculate the difference between the population mean and the sample mean\n",
    " - Append the difference to the list \"means_diff\"\n",
    " - Display the list \"means_diff\" after the loop is completed"
   ]
  },
  {
   "cell_type": "code",
   "execution_count": 30,
   "metadata": {},
   "outputs": [
    {
     "name": "stdout",
     "output_type": "stream",
     "text": [
      "[-5428.1720332348405, -1513.4408504391413, 4019.5390778762703, -3838.4741165681735, 1357.0660620032559, -4148.5053665681735, -9290.505366568173, -2161.5678665681735, -108.03869990150633, 731.8355425227364, -1712.0053665681735, -1642.5053665681735, 1562.4205593577517, 2372.6196334318265, -2189.9599120227194, -1190.938699901506, -351.4653665681726, -440.29108085388725, 11226.494633431827, -2061.076795139603, 3993.894633431826, 1956.8117066025588, 2858.3181628435905, 3322.813782367997, -178.92203323483955, 3702.2051597476166, 794.1057445429378, -1408.5053665681735, 156.9811199183132, -3594.5053665681735, -472.78314434595086, 1593.7803477175403, -3844.5886999015065, -543.3658316844521, -3061.9669050297125, 796.5946334318269, 9547.494633431827, 3361.4946334318265, 2402.3792488164418, -1079.4577475205551, 7352.9946334318265, -3990.105366568174, 368.70891914611275, -2591.3966709159995, 596.7555029970445, -668.8482237110311, 1479.8946334318262, -1365.3841544469615, 1839.3279667651605, -2052.705366568174]\n"
     ]
    }
   ],
   "source": [
    "import random\n",
    "random.shuffle(sample_sizes)\n",
    "for x in sample_sizes:\n",
    "    new_sample = df.sample(n=x)\n",
    "    df_new_sample_mean = new_sample[\"TUITIONFEE_IN\"].mean()\n",
    "    df_population_mean = df[\"TUITIONFEE_IN\"].mean()\n",
    "    diff_new = df_new_sample_mean - df_population_mean  \n",
    "    means_diff.append (diff_new)\n",
    "  # print(means_diff)\n",
    "print(means_diff)\n"
   ]
  },
  {
   "cell_type": "markdown",
   "metadata": {},
   "source": [
    "21 - Make a scatter plot with sample size on the x-axs and  mean difference on the y-axis. Observe as the sample size increases, the sample means converge to the population mean."
   ]
  },
  {
   "cell_type": "code",
   "execution_count": 31,
   "metadata": {},
   "outputs": [
    {
     "data": {
      "text/html": [
       "        <script type=\"text/javascript\">\n",
       "        window.PlotlyConfig = {MathJaxConfig: 'local'};\n",
       "        if (window.MathJax) {MathJax.Hub.Config({SVG: {font: \"STIX-Web\"}});}\n",
       "        if (typeof require !== 'undefined') {\n",
       "        require.undef(\"plotly\");\n",
       "        requirejs.config({\n",
       "            paths: {\n",
       "                'plotly': ['https://cdn.plot.ly/plotly-latest.min']\n",
       "            }\n",
       "        });\n",
       "        require(['plotly'], function(Plotly) {\n",
       "            window._Plotly = Plotly;\n",
       "        });\n",
       "        }\n",
       "        </script>\n",
       "        "
      ]
     },
     "metadata": {},
     "output_type": "display_data"
    },
    {
     "data": {
      "application/vnd.plotly.v1+json": {
       "config": {
        "plotlyServerURL": "https://plot.ly"
       },
       "data": [
        {
         "mode": "markers",
         "type": "scatter",
         "x": [
          3,
          31,
          45,
          32,
          49,
          29,
          2,
          16,
          15,
          44,
          22,
          9,
          27,
          24,
          11,
          30,
          50,
          28,
          1,
          14,
          5,
          41,
          34,
          47,
          48,
          38,
          18,
          39,
          37,
          19,
          36,
          7,
          12,
          43,
          13,
          40,
          4,
          17,
          26,
          21,
          8,
          25,
          42,
          46,
          23,
          35,
          10,
          33,
          6,
          20
         ],
         "y": [
          -5428.1720332348405,
          -1513.4408504391413,
          4019.5390778762703,
          -3838.4741165681735,
          1357.0660620032559,
          -4148.5053665681735,
          -9290.505366568173,
          -2161.5678665681735,
          -108.03869990150633,
          731.8355425227364,
          -1712.0053665681735,
          -1642.5053665681735,
          1562.4205593577517,
          2372.6196334318265,
          -2189.9599120227194,
          -1190.938699901506,
          -351.4653665681726,
          -440.29108085388725,
          11226.494633431827,
          -2061.076795139603,
          3993.894633431826,
          1956.8117066025588,
          2858.3181628435905,
          3322.813782367997,
          -178.92203323483955,
          3702.2051597476166,
          794.1057445429378,
          -1408.5053665681735,
          156.9811199183132,
          -3594.5053665681735,
          -472.78314434595086,
          1593.7803477175403,
          -3844.5886999015065,
          -543.3658316844521,
          -3061.9669050297125,
          796.5946334318269,
          9547.494633431827,
          3361.4946334318265,
          2402.3792488164418,
          -1079.4577475205551,
          7352.9946334318265,
          -3990.105366568174,
          368.70891914611275,
          -2591.3966709159995,
          596.7555029970445,
          -668.8482237110311,
          1479.8946334318262,
          -1365.3841544469615,
          1839.3279667651605,
          -2052.705366568174
         ]
        }
       ],
       "layout": {
        "template": {
         "data": {
          "bar": [
           {
            "error_x": {
             "color": "#2a3f5f"
            },
            "error_y": {
             "color": "#2a3f5f"
            },
            "marker": {
             "line": {
              "color": "#E5ECF6",
              "width": 0.5
             }
            },
            "type": "bar"
           }
          ],
          "barpolar": [
           {
            "marker": {
             "line": {
              "color": "#E5ECF6",
              "width": 0.5
             }
            },
            "type": "barpolar"
           }
          ],
          "carpet": [
           {
            "aaxis": {
             "endlinecolor": "#2a3f5f",
             "gridcolor": "white",
             "linecolor": "white",
             "minorgridcolor": "white",
             "startlinecolor": "#2a3f5f"
            },
            "baxis": {
             "endlinecolor": "#2a3f5f",
             "gridcolor": "white",
             "linecolor": "white",
             "minorgridcolor": "white",
             "startlinecolor": "#2a3f5f"
            },
            "type": "carpet"
           }
          ],
          "choropleth": [
           {
            "colorbar": {
             "outlinewidth": 0,
             "ticks": ""
            },
            "type": "choropleth"
           }
          ],
          "contour": [
           {
            "colorbar": {
             "outlinewidth": 0,
             "ticks": ""
            },
            "colorscale": [
             [
              0,
              "#0d0887"
             ],
             [
              0.1111111111111111,
              "#46039f"
             ],
             [
              0.2222222222222222,
              "#7201a8"
             ],
             [
              0.3333333333333333,
              "#9c179e"
             ],
             [
              0.4444444444444444,
              "#bd3786"
             ],
             [
              0.5555555555555556,
              "#d8576b"
             ],
             [
              0.6666666666666666,
              "#ed7953"
             ],
             [
              0.7777777777777778,
              "#fb9f3a"
             ],
             [
              0.8888888888888888,
              "#fdca26"
             ],
             [
              1,
              "#f0f921"
             ]
            ],
            "type": "contour"
           }
          ],
          "contourcarpet": [
           {
            "colorbar": {
             "outlinewidth": 0,
             "ticks": ""
            },
            "type": "contourcarpet"
           }
          ],
          "heatmap": [
           {
            "colorbar": {
             "outlinewidth": 0,
             "ticks": ""
            },
            "colorscale": [
             [
              0,
              "#0d0887"
             ],
             [
              0.1111111111111111,
              "#46039f"
             ],
             [
              0.2222222222222222,
              "#7201a8"
             ],
             [
              0.3333333333333333,
              "#9c179e"
             ],
             [
              0.4444444444444444,
              "#bd3786"
             ],
             [
              0.5555555555555556,
              "#d8576b"
             ],
             [
              0.6666666666666666,
              "#ed7953"
             ],
             [
              0.7777777777777778,
              "#fb9f3a"
             ],
             [
              0.8888888888888888,
              "#fdca26"
             ],
             [
              1,
              "#f0f921"
             ]
            ],
            "type": "heatmap"
           }
          ],
          "heatmapgl": [
           {
            "colorbar": {
             "outlinewidth": 0,
             "ticks": ""
            },
            "colorscale": [
             [
              0,
              "#0d0887"
             ],
             [
              0.1111111111111111,
              "#46039f"
             ],
             [
              0.2222222222222222,
              "#7201a8"
             ],
             [
              0.3333333333333333,
              "#9c179e"
             ],
             [
              0.4444444444444444,
              "#bd3786"
             ],
             [
              0.5555555555555556,
              "#d8576b"
             ],
             [
              0.6666666666666666,
              "#ed7953"
             ],
             [
              0.7777777777777778,
              "#fb9f3a"
             ],
             [
              0.8888888888888888,
              "#fdca26"
             ],
             [
              1,
              "#f0f921"
             ]
            ],
            "type": "heatmapgl"
           }
          ],
          "histogram": [
           {
            "marker": {
             "colorbar": {
              "outlinewidth": 0,
              "ticks": ""
             }
            },
            "type": "histogram"
           }
          ],
          "histogram2d": [
           {
            "colorbar": {
             "outlinewidth": 0,
             "ticks": ""
            },
            "colorscale": [
             [
              0,
              "#0d0887"
             ],
             [
              0.1111111111111111,
              "#46039f"
             ],
             [
              0.2222222222222222,
              "#7201a8"
             ],
             [
              0.3333333333333333,
              "#9c179e"
             ],
             [
              0.4444444444444444,
              "#bd3786"
             ],
             [
              0.5555555555555556,
              "#d8576b"
             ],
             [
              0.6666666666666666,
              "#ed7953"
             ],
             [
              0.7777777777777778,
              "#fb9f3a"
             ],
             [
              0.8888888888888888,
              "#fdca26"
             ],
             [
              1,
              "#f0f921"
             ]
            ],
            "type": "histogram2d"
           }
          ],
          "histogram2dcontour": [
           {
            "colorbar": {
             "outlinewidth": 0,
             "ticks": ""
            },
            "colorscale": [
             [
              0,
              "#0d0887"
             ],
             [
              0.1111111111111111,
              "#46039f"
             ],
             [
              0.2222222222222222,
              "#7201a8"
             ],
             [
              0.3333333333333333,
              "#9c179e"
             ],
             [
              0.4444444444444444,
              "#bd3786"
             ],
             [
              0.5555555555555556,
              "#d8576b"
             ],
             [
              0.6666666666666666,
              "#ed7953"
             ],
             [
              0.7777777777777778,
              "#fb9f3a"
             ],
             [
              0.8888888888888888,
              "#fdca26"
             ],
             [
              1,
              "#f0f921"
             ]
            ],
            "type": "histogram2dcontour"
           }
          ],
          "mesh3d": [
           {
            "colorbar": {
             "outlinewidth": 0,
             "ticks": ""
            },
            "type": "mesh3d"
           }
          ],
          "parcoords": [
           {
            "line": {
             "colorbar": {
              "outlinewidth": 0,
              "ticks": ""
             }
            },
            "type": "parcoords"
           }
          ],
          "pie": [
           {
            "automargin": true,
            "type": "pie"
           }
          ],
          "scatter": [
           {
            "marker": {
             "colorbar": {
              "outlinewidth": 0,
              "ticks": ""
             }
            },
            "type": "scatter"
           }
          ],
          "scatter3d": [
           {
            "line": {
             "colorbar": {
              "outlinewidth": 0,
              "ticks": ""
             }
            },
            "marker": {
             "colorbar": {
              "outlinewidth": 0,
              "ticks": ""
             }
            },
            "type": "scatter3d"
           }
          ],
          "scattercarpet": [
           {
            "marker": {
             "colorbar": {
              "outlinewidth": 0,
              "ticks": ""
             }
            },
            "type": "scattercarpet"
           }
          ],
          "scattergeo": [
           {
            "marker": {
             "colorbar": {
              "outlinewidth": 0,
              "ticks": ""
             }
            },
            "type": "scattergeo"
           }
          ],
          "scattergl": [
           {
            "marker": {
             "colorbar": {
              "outlinewidth": 0,
              "ticks": ""
             }
            },
            "type": "scattergl"
           }
          ],
          "scattermapbox": [
           {
            "marker": {
             "colorbar": {
              "outlinewidth": 0,
              "ticks": ""
             }
            },
            "type": "scattermapbox"
           }
          ],
          "scatterpolar": [
           {
            "marker": {
             "colorbar": {
              "outlinewidth": 0,
              "ticks": ""
             }
            },
            "type": "scatterpolar"
           }
          ],
          "scatterpolargl": [
           {
            "marker": {
             "colorbar": {
              "outlinewidth": 0,
              "ticks": ""
             }
            },
            "type": "scatterpolargl"
           }
          ],
          "scatterternary": [
           {
            "marker": {
             "colorbar": {
              "outlinewidth": 0,
              "ticks": ""
             }
            },
            "type": "scatterternary"
           }
          ],
          "surface": [
           {
            "colorbar": {
             "outlinewidth": 0,
             "ticks": ""
            },
            "colorscale": [
             [
              0,
              "#0d0887"
             ],
             [
              0.1111111111111111,
              "#46039f"
             ],
             [
              0.2222222222222222,
              "#7201a8"
             ],
             [
              0.3333333333333333,
              "#9c179e"
             ],
             [
              0.4444444444444444,
              "#bd3786"
             ],
             [
              0.5555555555555556,
              "#d8576b"
             ],
             [
              0.6666666666666666,
              "#ed7953"
             ],
             [
              0.7777777777777778,
              "#fb9f3a"
             ],
             [
              0.8888888888888888,
              "#fdca26"
             ],
             [
              1,
              "#f0f921"
             ]
            ],
            "type": "surface"
           }
          ],
          "table": [
           {
            "cells": {
             "fill": {
              "color": "#EBF0F8"
             },
             "line": {
              "color": "white"
             }
            },
            "header": {
             "fill": {
              "color": "#C8D4E3"
             },
             "line": {
              "color": "white"
             }
            },
            "type": "table"
           }
          ]
         },
         "layout": {
          "annotationdefaults": {
           "arrowcolor": "#2a3f5f",
           "arrowhead": 0,
           "arrowwidth": 1
          },
          "coloraxis": {
           "colorbar": {
            "outlinewidth": 0,
            "ticks": ""
           }
          },
          "colorscale": {
           "diverging": [
            [
             0,
             "#8e0152"
            ],
            [
             0.1,
             "#c51b7d"
            ],
            [
             0.2,
             "#de77ae"
            ],
            [
             0.3,
             "#f1b6da"
            ],
            [
             0.4,
             "#fde0ef"
            ],
            [
             0.5,
             "#f7f7f7"
            ],
            [
             0.6,
             "#e6f5d0"
            ],
            [
             0.7,
             "#b8e186"
            ],
            [
             0.8,
             "#7fbc41"
            ],
            [
             0.9,
             "#4d9221"
            ],
            [
             1,
             "#276419"
            ]
           ],
           "sequential": [
            [
             0,
             "#0d0887"
            ],
            [
             0.1111111111111111,
             "#46039f"
            ],
            [
             0.2222222222222222,
             "#7201a8"
            ],
            [
             0.3333333333333333,
             "#9c179e"
            ],
            [
             0.4444444444444444,
             "#bd3786"
            ],
            [
             0.5555555555555556,
             "#d8576b"
            ],
            [
             0.6666666666666666,
             "#ed7953"
            ],
            [
             0.7777777777777778,
             "#fb9f3a"
            ],
            [
             0.8888888888888888,
             "#fdca26"
            ],
            [
             1,
             "#f0f921"
            ]
           ],
           "sequentialminus": [
            [
             0,
             "#0d0887"
            ],
            [
             0.1111111111111111,
             "#46039f"
            ],
            [
             0.2222222222222222,
             "#7201a8"
            ],
            [
             0.3333333333333333,
             "#9c179e"
            ],
            [
             0.4444444444444444,
             "#bd3786"
            ],
            [
             0.5555555555555556,
             "#d8576b"
            ],
            [
             0.6666666666666666,
             "#ed7953"
            ],
            [
             0.7777777777777778,
             "#fb9f3a"
            ],
            [
             0.8888888888888888,
             "#fdca26"
            ],
            [
             1,
             "#f0f921"
            ]
           ]
          },
          "colorway": [
           "#636efa",
           "#EF553B",
           "#00cc96",
           "#ab63fa",
           "#FFA15A",
           "#19d3f3",
           "#FF6692",
           "#B6E880",
           "#FF97FF",
           "#FECB52"
          ],
          "font": {
           "color": "#2a3f5f"
          },
          "geo": {
           "bgcolor": "white",
           "lakecolor": "white",
           "landcolor": "#E5ECF6",
           "showlakes": true,
           "showland": true,
           "subunitcolor": "white"
          },
          "hoverlabel": {
           "align": "left"
          },
          "hovermode": "closest",
          "mapbox": {
           "style": "light"
          },
          "paper_bgcolor": "white",
          "plot_bgcolor": "#E5ECF6",
          "polar": {
           "angularaxis": {
            "gridcolor": "white",
            "linecolor": "white",
            "ticks": ""
           },
           "bgcolor": "#E5ECF6",
           "radialaxis": {
            "gridcolor": "white",
            "linecolor": "white",
            "ticks": ""
           }
          },
          "scene": {
           "xaxis": {
            "backgroundcolor": "#E5ECF6",
            "gridcolor": "white",
            "gridwidth": 2,
            "linecolor": "white",
            "showbackground": true,
            "ticks": "",
            "zerolinecolor": "white"
           },
           "yaxis": {
            "backgroundcolor": "#E5ECF6",
            "gridcolor": "white",
            "gridwidth": 2,
            "linecolor": "white",
            "showbackground": true,
            "ticks": "",
            "zerolinecolor": "white"
           },
           "zaxis": {
            "backgroundcolor": "#E5ECF6",
            "gridcolor": "white",
            "gridwidth": 2,
            "linecolor": "white",
            "showbackground": true,
            "ticks": "",
            "zerolinecolor": "white"
           }
          },
          "shapedefaults": {
           "line": {
            "color": "#2a3f5f"
           }
          },
          "ternary": {
           "aaxis": {
            "gridcolor": "white",
            "linecolor": "white",
            "ticks": ""
           },
           "baxis": {
            "gridcolor": "white",
            "linecolor": "white",
            "ticks": ""
           },
           "bgcolor": "#E5ECF6",
           "caxis": {
            "gridcolor": "white",
            "linecolor": "white",
            "ticks": ""
           }
          },
          "title": {
           "x": 0.05
          },
          "xaxis": {
           "automargin": true,
           "gridcolor": "white",
           "linecolor": "white",
           "ticks": "",
           "title": {
            "standoff": 15
           },
           "zerolinecolor": "white",
           "zerolinewidth": 2
          },
          "yaxis": {
           "automargin": true,
           "gridcolor": "white",
           "linecolor": "white",
           "ticks": "",
           "title": {
            "standoff": 15
           },
           "zerolinecolor": "white",
           "zerolinewidth": 2
          }
         }
        },
        "title": {
         "text": "Scatter Plot"
        },
        "xaxis": {
         "title": {
          "text": "Sample Sizes"
         }
        },
        "yaxis": {
         "title": {
          "text": "Means Diff"
         }
        }
       }
      },
      "text/html": [
       "<div>\n",
       "        \n",
       "        \n",
       "            <div id=\"ef635d8c-6677-4e35-87f0-f961fdf29fac\" class=\"plotly-graph-div\" style=\"height:525px; width:100%;\"></div>\n",
       "            <script type=\"text/javascript\">\n",
       "                require([\"plotly\"], function(Plotly) {\n",
       "                    window.PLOTLYENV=window.PLOTLYENV || {};\n",
       "                    \n",
       "                if (document.getElementById(\"ef635d8c-6677-4e35-87f0-f961fdf29fac\")) {\n",
       "                    Plotly.newPlot(\n",
       "                        'ef635d8c-6677-4e35-87f0-f961fdf29fac',\n",
       "                        [{\"mode\": \"markers\", \"type\": \"scatter\", \"x\": [3, 31, 45, 32, 49, 29, 2, 16, 15, 44, 22, 9, 27, 24, 11, 30, 50, 28, 1, 14, 5, 41, 34, 47, 48, 38, 18, 39, 37, 19, 36, 7, 12, 43, 13, 40, 4, 17, 26, 21, 8, 25, 42, 46, 23, 35, 10, 33, 6, 20], \"y\": [-5428.1720332348405, -1513.4408504391413, 4019.5390778762703, -3838.4741165681735, 1357.0660620032559, -4148.5053665681735, -9290.505366568173, -2161.5678665681735, -108.03869990150633, 731.8355425227364, -1712.0053665681735, -1642.5053665681735, 1562.4205593577517, 2372.6196334318265, -2189.9599120227194, -1190.938699901506, -351.4653665681726, -440.29108085388725, 11226.494633431827, -2061.076795139603, 3993.894633431826, 1956.8117066025588, 2858.3181628435905, 3322.813782367997, -178.92203323483955, 3702.2051597476166, 794.1057445429378, -1408.5053665681735, 156.9811199183132, -3594.5053665681735, -472.78314434595086, 1593.7803477175403, -3844.5886999015065, -543.3658316844521, -3061.9669050297125, 796.5946334318269, 9547.494633431827, 3361.4946334318265, 2402.3792488164418, -1079.4577475205551, 7352.9946334318265, -3990.105366568174, 368.70891914611275, -2591.3966709159995, 596.7555029970445, -668.8482237110311, 1479.8946334318262, -1365.3841544469615, 1839.3279667651605, -2052.705366568174]}],\n",
       "                        {\"template\": {\"data\": {\"bar\": [{\"error_x\": {\"color\": \"#2a3f5f\"}, \"error_y\": {\"color\": \"#2a3f5f\"}, \"marker\": {\"line\": {\"color\": \"#E5ECF6\", \"width\": 0.5}}, \"type\": \"bar\"}], \"barpolar\": [{\"marker\": {\"line\": {\"color\": \"#E5ECF6\", \"width\": 0.5}}, \"type\": \"barpolar\"}], \"carpet\": [{\"aaxis\": {\"endlinecolor\": \"#2a3f5f\", \"gridcolor\": \"white\", \"linecolor\": \"white\", \"minorgridcolor\": \"white\", \"startlinecolor\": \"#2a3f5f\"}, \"baxis\": {\"endlinecolor\": \"#2a3f5f\", \"gridcolor\": \"white\", \"linecolor\": \"white\", \"minorgridcolor\": \"white\", \"startlinecolor\": \"#2a3f5f\"}, \"type\": \"carpet\"}], \"choropleth\": [{\"colorbar\": {\"outlinewidth\": 0, \"ticks\": \"\"}, \"type\": \"choropleth\"}], \"contour\": [{\"colorbar\": {\"outlinewidth\": 0, \"ticks\": \"\"}, \"colorscale\": [[0.0, \"#0d0887\"], [0.1111111111111111, \"#46039f\"], [0.2222222222222222, \"#7201a8\"], [0.3333333333333333, \"#9c179e\"], [0.4444444444444444, \"#bd3786\"], [0.5555555555555556, \"#d8576b\"], [0.6666666666666666, \"#ed7953\"], [0.7777777777777778, \"#fb9f3a\"], [0.8888888888888888, \"#fdca26\"], [1.0, \"#f0f921\"]], \"type\": \"contour\"}], \"contourcarpet\": [{\"colorbar\": {\"outlinewidth\": 0, \"ticks\": \"\"}, \"type\": \"contourcarpet\"}], \"heatmap\": [{\"colorbar\": {\"outlinewidth\": 0, \"ticks\": \"\"}, \"colorscale\": [[0.0, \"#0d0887\"], [0.1111111111111111, \"#46039f\"], [0.2222222222222222, \"#7201a8\"], [0.3333333333333333, \"#9c179e\"], [0.4444444444444444, \"#bd3786\"], [0.5555555555555556, \"#d8576b\"], [0.6666666666666666, \"#ed7953\"], [0.7777777777777778, \"#fb9f3a\"], [0.8888888888888888, \"#fdca26\"], [1.0, \"#f0f921\"]], \"type\": \"heatmap\"}], \"heatmapgl\": [{\"colorbar\": {\"outlinewidth\": 0, \"ticks\": \"\"}, \"colorscale\": [[0.0, \"#0d0887\"], [0.1111111111111111, \"#46039f\"], [0.2222222222222222, \"#7201a8\"], [0.3333333333333333, \"#9c179e\"], [0.4444444444444444, \"#bd3786\"], [0.5555555555555556, \"#d8576b\"], [0.6666666666666666, \"#ed7953\"], [0.7777777777777778, \"#fb9f3a\"], [0.8888888888888888, \"#fdca26\"], [1.0, \"#f0f921\"]], \"type\": \"heatmapgl\"}], \"histogram\": [{\"marker\": {\"colorbar\": {\"outlinewidth\": 0, \"ticks\": \"\"}}, \"type\": \"histogram\"}], \"histogram2d\": [{\"colorbar\": {\"outlinewidth\": 0, \"ticks\": \"\"}, \"colorscale\": [[0.0, \"#0d0887\"], [0.1111111111111111, \"#46039f\"], [0.2222222222222222, \"#7201a8\"], [0.3333333333333333, \"#9c179e\"], [0.4444444444444444, \"#bd3786\"], [0.5555555555555556, \"#d8576b\"], [0.6666666666666666, \"#ed7953\"], [0.7777777777777778, \"#fb9f3a\"], [0.8888888888888888, \"#fdca26\"], [1.0, \"#f0f921\"]], \"type\": \"histogram2d\"}], \"histogram2dcontour\": [{\"colorbar\": {\"outlinewidth\": 0, \"ticks\": \"\"}, \"colorscale\": [[0.0, \"#0d0887\"], [0.1111111111111111, \"#46039f\"], [0.2222222222222222, \"#7201a8\"], [0.3333333333333333, \"#9c179e\"], [0.4444444444444444, \"#bd3786\"], [0.5555555555555556, \"#d8576b\"], [0.6666666666666666, \"#ed7953\"], [0.7777777777777778, \"#fb9f3a\"], [0.8888888888888888, \"#fdca26\"], [1.0, \"#f0f921\"]], \"type\": \"histogram2dcontour\"}], \"mesh3d\": [{\"colorbar\": {\"outlinewidth\": 0, \"ticks\": \"\"}, \"type\": \"mesh3d\"}], \"parcoords\": [{\"line\": {\"colorbar\": {\"outlinewidth\": 0, \"ticks\": \"\"}}, \"type\": \"parcoords\"}], \"pie\": [{\"automargin\": true, \"type\": \"pie\"}], \"scatter\": [{\"marker\": {\"colorbar\": {\"outlinewidth\": 0, \"ticks\": \"\"}}, \"type\": \"scatter\"}], \"scatter3d\": [{\"line\": {\"colorbar\": {\"outlinewidth\": 0, \"ticks\": \"\"}}, \"marker\": {\"colorbar\": {\"outlinewidth\": 0, \"ticks\": \"\"}}, \"type\": \"scatter3d\"}], \"scattercarpet\": [{\"marker\": {\"colorbar\": {\"outlinewidth\": 0, \"ticks\": \"\"}}, \"type\": \"scattercarpet\"}], \"scattergeo\": [{\"marker\": {\"colorbar\": {\"outlinewidth\": 0, \"ticks\": \"\"}}, \"type\": \"scattergeo\"}], \"scattergl\": [{\"marker\": {\"colorbar\": {\"outlinewidth\": 0, \"ticks\": \"\"}}, \"type\": \"scattergl\"}], \"scattermapbox\": [{\"marker\": {\"colorbar\": {\"outlinewidth\": 0, \"ticks\": \"\"}}, \"type\": \"scattermapbox\"}], \"scatterpolar\": [{\"marker\": {\"colorbar\": {\"outlinewidth\": 0, \"ticks\": \"\"}}, \"type\": \"scatterpolar\"}], \"scatterpolargl\": [{\"marker\": {\"colorbar\": {\"outlinewidth\": 0, \"ticks\": \"\"}}, \"type\": \"scatterpolargl\"}], \"scatterternary\": [{\"marker\": {\"colorbar\": {\"outlinewidth\": 0, \"ticks\": \"\"}}, \"type\": \"scatterternary\"}], \"surface\": [{\"colorbar\": {\"outlinewidth\": 0, \"ticks\": \"\"}, \"colorscale\": [[0.0, \"#0d0887\"], [0.1111111111111111, \"#46039f\"], [0.2222222222222222, \"#7201a8\"], [0.3333333333333333, \"#9c179e\"], [0.4444444444444444, \"#bd3786\"], [0.5555555555555556, \"#d8576b\"], [0.6666666666666666, \"#ed7953\"], [0.7777777777777778, \"#fb9f3a\"], [0.8888888888888888, \"#fdca26\"], [1.0, \"#f0f921\"]], \"type\": \"surface\"}], \"table\": [{\"cells\": {\"fill\": {\"color\": \"#EBF0F8\"}, \"line\": {\"color\": \"white\"}}, \"header\": {\"fill\": {\"color\": \"#C8D4E3\"}, \"line\": {\"color\": \"white\"}}, \"type\": \"table\"}]}, \"layout\": {\"annotationdefaults\": {\"arrowcolor\": \"#2a3f5f\", \"arrowhead\": 0, \"arrowwidth\": 1}, \"coloraxis\": {\"colorbar\": {\"outlinewidth\": 0, \"ticks\": \"\"}}, \"colorscale\": {\"diverging\": [[0, \"#8e0152\"], [0.1, \"#c51b7d\"], [0.2, \"#de77ae\"], [0.3, \"#f1b6da\"], [0.4, \"#fde0ef\"], [0.5, \"#f7f7f7\"], [0.6, \"#e6f5d0\"], [0.7, \"#b8e186\"], [0.8, \"#7fbc41\"], [0.9, \"#4d9221\"], [1, \"#276419\"]], \"sequential\": [[0.0, \"#0d0887\"], [0.1111111111111111, \"#46039f\"], [0.2222222222222222, \"#7201a8\"], [0.3333333333333333, \"#9c179e\"], [0.4444444444444444, \"#bd3786\"], [0.5555555555555556, \"#d8576b\"], [0.6666666666666666, \"#ed7953\"], [0.7777777777777778, \"#fb9f3a\"], [0.8888888888888888, \"#fdca26\"], [1.0, \"#f0f921\"]], \"sequentialminus\": [[0.0, \"#0d0887\"], [0.1111111111111111, \"#46039f\"], [0.2222222222222222, \"#7201a8\"], [0.3333333333333333, \"#9c179e\"], [0.4444444444444444, \"#bd3786\"], [0.5555555555555556, \"#d8576b\"], [0.6666666666666666, \"#ed7953\"], [0.7777777777777778, \"#fb9f3a\"], [0.8888888888888888, \"#fdca26\"], [1.0, \"#f0f921\"]]}, \"colorway\": [\"#636efa\", \"#EF553B\", \"#00cc96\", \"#ab63fa\", \"#FFA15A\", \"#19d3f3\", \"#FF6692\", \"#B6E880\", \"#FF97FF\", \"#FECB52\"], \"font\": {\"color\": \"#2a3f5f\"}, \"geo\": {\"bgcolor\": \"white\", \"lakecolor\": \"white\", \"landcolor\": \"#E5ECF6\", \"showlakes\": true, \"showland\": true, \"subunitcolor\": \"white\"}, \"hoverlabel\": {\"align\": \"left\"}, \"hovermode\": \"closest\", \"mapbox\": {\"style\": \"light\"}, \"paper_bgcolor\": \"white\", \"plot_bgcolor\": \"#E5ECF6\", \"polar\": {\"angularaxis\": {\"gridcolor\": \"white\", \"linecolor\": \"white\", \"ticks\": \"\"}, \"bgcolor\": \"#E5ECF6\", \"radialaxis\": {\"gridcolor\": \"white\", \"linecolor\": \"white\", \"ticks\": \"\"}}, \"scene\": {\"xaxis\": {\"backgroundcolor\": \"#E5ECF6\", \"gridcolor\": \"white\", \"gridwidth\": 2, \"linecolor\": \"white\", \"showbackground\": true, \"ticks\": \"\", \"zerolinecolor\": \"white\"}, \"yaxis\": {\"backgroundcolor\": \"#E5ECF6\", \"gridcolor\": \"white\", \"gridwidth\": 2, \"linecolor\": \"white\", \"showbackground\": true, \"ticks\": \"\", \"zerolinecolor\": \"white\"}, \"zaxis\": {\"backgroundcolor\": \"#E5ECF6\", \"gridcolor\": \"white\", \"gridwidth\": 2, \"linecolor\": \"white\", \"showbackground\": true, \"ticks\": \"\", \"zerolinecolor\": \"white\"}}, \"shapedefaults\": {\"line\": {\"color\": \"#2a3f5f\"}}, \"ternary\": {\"aaxis\": {\"gridcolor\": \"white\", \"linecolor\": \"white\", \"ticks\": \"\"}, \"baxis\": {\"gridcolor\": \"white\", \"linecolor\": \"white\", \"ticks\": \"\"}, \"bgcolor\": \"#E5ECF6\", \"caxis\": {\"gridcolor\": \"white\", \"linecolor\": \"white\", \"ticks\": \"\"}}, \"title\": {\"x\": 0.05}, \"xaxis\": {\"automargin\": true, \"gridcolor\": \"white\", \"linecolor\": \"white\", \"ticks\": \"\", \"title\": {\"standoff\": 15}, \"zerolinecolor\": \"white\", \"zerolinewidth\": 2}, \"yaxis\": {\"automargin\": true, \"gridcolor\": \"white\", \"linecolor\": \"white\", \"ticks\": \"\", \"title\": {\"standoff\": 15}, \"zerolinecolor\": \"white\", \"zerolinewidth\": 2}}}, \"title\": {\"text\": \"Scatter Plot\"}, \"xaxis\": {\"title\": {\"text\": \"Sample Sizes\"}}, \"yaxis\": {\"title\": {\"text\": \"Means Diff\"}}},\n",
       "                        {\"responsive\": true}\n",
       "                    ).then(function(){\n",
       "                            \n",
       "var gd = document.getElementById('ef635d8c-6677-4e35-87f0-f961fdf29fac');\n",
       "var x = new MutationObserver(function (mutations, observer) {{\n",
       "        var display = window.getComputedStyle(gd).display;\n",
       "        if (!display || display === 'none') {{\n",
       "            console.log([gd, 'removed!']);\n",
       "            Plotly.purge(gd);\n",
       "            observer.disconnect();\n",
       "        }}\n",
       "}});\n",
       "\n",
       "// Listen for the removal of the full notebook cells\n",
       "var notebookContainer = gd.closest('#notebook-container');\n",
       "if (notebookContainer) {{\n",
       "    x.observe(notebookContainer, {childList: true});\n",
       "}}\n",
       "\n",
       "// Listen for the clearing of the current output cell\n",
       "var outputEl = gd.closest('.output');\n",
       "if (outputEl) {{\n",
       "    x.observe(outputEl, {childList: true});\n",
       "}}\n",
       "\n",
       "                        })\n",
       "                };\n",
       "                });\n",
       "            </script>\n",
       "        </div>"
      ]
     },
     "metadata": {},
     "output_type": "display_data"
    }
   ],
   "source": [
    "import plotly.offline as py \n",
    "import plotly.graph_objs as go \n",
    "py.init_notebook_mode(connected=True)\n",
    "from plotly import tools\n",
    "trace0 = go.Scatter(x=sample_sizes,\n",
    "                    y=means_diff,\n",
    "                    mode='markers'\n",
    "                    )\n",
    "data=[trace0]\n",
    "layout = go.Layout(\n",
    "    title='Scatter Plot',\n",
    "    xaxis={'title': 'Sample Sizes'},\n",
    "    yaxis={\n",
    "        'title': 'Means Diff'\n",
    "    })\n",
    "\n",
    "fig = go.Figure(data=data, layout=layout)\n",
    "\n",
    "fig.show()\n"
   ]
  },
  {
   "cell_type": "markdown",
   "metadata": {},
   "source": [
    "22 - repeat 18 to 21 by replacing 50 with a larger number. For example, 300, or even 1000 and see how the plot looks."
   ]
  },
  {
   "cell_type": "code",
   "execution_count": 32,
   "metadata": {},
   "outputs": [
    {
     "name": "stdout",
     "output_type": "stream",
     "text": [
      "[1, 2, 3, 4, 5, 6, 7, 8, 9, 10, 11, 12, 13, 14, 15, 16, 17, 18, 19, 20, 21, 22, 23, 24, 25, 26, 27, 28, 29, 30, 31, 32, 33, 34, 35, 36, 37, 38, 39, 40, 41, 42, 43, 44, 45, 46, 47, 48, 49, 50, 51, 52, 53, 54, 55, 56, 57, 58, 59, 60, 61, 62, 63, 64, 65, 66, 67, 68, 69, 70, 71, 72, 73, 74, 75, 76, 77, 78, 79, 80, 81, 82, 83, 84, 85, 86, 87, 88, 89, 90, 91, 92, 93, 94, 95, 96, 97, 98, 99, 100, 101, 102, 103, 104, 105, 106, 107, 108, 109, 110, 111, 112, 113, 114, 115, 116, 117, 118, 119, 120, 121, 122, 123, 124, 125, 126, 127, 128, 129, 130, 131, 132, 133, 134, 135, 136, 137, 138, 139, 140, 141, 142, 143, 144, 145, 146, 147, 148, 149, 150, 151, 152, 153, 154, 155, 156, 157, 158, 159, 160, 161, 162, 163, 164, 165, 166, 167, 168, 169, 170, 171, 172, 173, 174, 175, 176, 177, 178, 179, 180, 181, 182, 183, 184, 185, 186, 187, 188, 189, 190, 191, 192, 193, 194, 195, 196, 197, 198, 199, 200, 201, 202, 203, 204, 205, 206, 207, 208, 209, 210, 211, 212, 213, 214, 215, 216, 217, 218, 219, 220, 221, 222, 223, 224, 225, 226, 227, 228, 229, 230, 231, 232, 233, 234, 235, 236, 237, 238, 239, 240, 241, 242, 243, 244, 245, 246, 247, 248, 249, 250, 251, 252, 253, 254, 255, 256, 257, 258, 259, 260, 261, 262, 263, 264, 265, 266, 267, 268, 269, 270, 271, 272, 273, 274, 275, 276, 277, 278, 279, 280, 281, 282, 283, 284, 285, 286, 287, 288, 289, 290, 291, 292, 293, 294, 295, 296, 297, 298, 299, 300, 301, 302, 303, 304, 305, 306, 307, 308, 309, 310, 311, 312, 313, 314, 315, 316, 317, 318, 319, 320, 321, 322, 323, 324, 325, 326, 327, 328, 329, 330, 331, 332, 333, 334, 335, 336, 337, 338, 339, 340, 341, 342, 343, 344, 345, 346, 347, 348, 349, 350, 351, 352, 353, 354, 355, 356, 357, 358, 359, 360, 361, 362, 363, 364, 365, 366, 367, 368, 369, 370, 371, 372, 373, 374, 375, 376, 377, 378, 379, 380, 381, 382, 383, 384, 385, 386, 387, 388, 389, 390, 391, 392, 393, 394, 395, 396, 397, 398, 399, 400, 401, 402, 403, 404, 405, 406, 407, 408, 409, 410, 411, 412, 413, 414, 415, 416, 417, 418, 419, 420, 421, 422, 423, 424, 425, 426, 427, 428, 429, 430, 431, 432, 433, 434, 435, 436, 437, 438, 439, 440, 441, 442, 443, 444, 445, 446, 447, 448, 449, 450, 451, 452, 453, 454, 455, 456, 457, 458, 459, 460, 461, 462, 463, 464, 465, 466, 467, 468, 469, 470, 471, 472, 473, 474, 475, 476, 477, 478, 479, 480, 481, 482, 483, 484, 485, 486, 487, 488, 489, 490, 491, 492, 493, 494, 495, 496, 497, 498, 499, 500, 501, 502, 503, 504, 505, 506, 507, 508, 509, 510, 511, 512, 513, 514, 515, 516, 517, 518, 519, 520, 521, 522, 523, 524, 525, 526, 527, 528, 529, 530, 531, 532, 533, 534, 535, 536, 537, 538, 539, 540, 541, 542, 543, 544, 545, 546, 547, 548, 549, 550, 551, 552, 553, 554, 555, 556, 557, 558, 559, 560, 561, 562, 563, 564, 565, 566, 567, 568, 569, 570, 571, 572, 573, 574, 575, 576, 577, 578, 579, 580, 581, 582, 583, 584, 585, 586, 587, 588, 589, 590, 591, 592, 593, 594, 595, 596, 597, 598, 599, 600, 601, 602, 603, 604, 605, 606, 607, 608, 609, 610, 611, 612, 613, 614, 615, 616, 617, 618, 619, 620, 621, 622, 623, 624, 625, 626, 627, 628, 629, 630, 631, 632, 633, 634, 635, 636, 637, 638, 639, 640, 641, 642, 643, 644, 645, 646, 647, 648, 649, 650, 651, 652, 653, 654, 655, 656, 657, 658, 659, 660, 661, 662, 663, 664, 665, 666, 667, 668, 669, 670, 671, 672, 673, 674, 675, 676, 677, 678, 679, 680, 681, 682, 683, 684, 685, 686, 687, 688, 689, 690, 691, 692, 693, 694, 695, 696, 697, 698, 699, 700, 701, 702, 703, 704, 705, 706, 707, 708, 709, 710, 711, 712, 713, 714, 715, 716, 717, 718, 719, 720, 721, 722, 723, 724, 725, 726, 727, 728, 729, 730, 731, 732, 733, 734, 735, 736, 737, 738, 739, 740, 741, 742, 743, 744, 745, 746, 747, 748, 749, 750, 751, 752, 753, 754, 755, 756, 757, 758, 759, 760, 761, 762, 763, 764, 765, 766, 767, 768, 769, 770, 771, 772, 773, 774, 775, 776, 777, 778, 779, 780, 781, 782, 783, 784, 785, 786, 787, 788, 789, 790, 791, 792, 793, 794, 795, 796, 797, 798, 799, 800, 801, 802, 803, 804, 805, 806, 807, 808, 809, 810, 811, 812, 813, 814, 815, 816, 817, 818, 819, 820, 821, 822, 823, 824, 825, 826, 827, 828, 829, 830, 831, 832, 833, 834, 835, 836, 837, 838, 839, 840, 841, 842, 843, 844, 845, 846, 847, 848, 849, 850, 851, 852, 853, 854, 855, 856, 857, 858, 859, 860, 861, 862, 863, 864, 865, 866, 867, 868, 869, 870, 871, 872, 873, 874, 875, 876, 877, 878, 879, 880, 881, 882, 883, 884, 885, 886, 887, 888, 889, 890, 891, 892, 893, 894, 895, 896, 897, 898, 899, 900, 901, 902, 903, 904, 905, 906, 907, 908, 909, 910, 911, 912, 913, 914, 915, 916, 917, 918, 919, 920, 921, 922, 923, 924, 925, 926, 927, 928, 929, 930, 931, 932, 933, 934, 935, 936, 937, 938, 939, 940, 941, 942, 943, 944, 945, 946, 947, 948, 949, 950, 951, 952, 953, 954, 955, 956, 957, 958, 959, 960, 961, 962, 963, 964, 965, 966, 967, 968, 969, 970, 971, 972, 973, 974, 975, 976, 977, 978, 979, 980, 981, 982, 983, 984, 985, 986, 987, 988, 989, 990, 991, 992, 993, 994, 995, 996, 997, 998, 999, 1000]\n"
     ]
    }
   ],
   "source": [
    "sample_sizes_big = [x for x in range(1, 1001)]\n",
    "print(sample_sizes_big)\n",
    "\n",
    "means_diff_big = [] #Create an empty list and name it \"means_diff\" for differences of population mean and sample means\n",
    "\n",
    "\n"
   ]
  },
  {
   "cell_type": "code",
   "execution_count": 33,
   "metadata": {},
   "outputs": [
    {
     "name": "stdout",
     "output_type": "stream",
     "text": [
      "[442.80307896426166, 1861.8844639403014, -543.5205180833254, -450.2038018455569, -785.9406899512578, 87.02853173691074, 471.6328822797532, 174.80195050499788, 96.41830742923958, -38.683937996744135, -85.01856788830628, 618.2757493116551, 347.8402618471264, 1279.5083320619633, 19.69190390329095, 239.92032612704133, 858.502124068531, 267.45051578476705, -485.51709364706403, 2.4768028226135357, -165.695366568174, -294.7583077446434, -142.22315007332872, -2765.3803665681735, -633.9393767204583, -715.0293840354225, -983.1158928839632, -450.5340448724128, -1146.2397415681735, -95.94532516030631, 12.647546053185579, 309.33477552774093, 2135.2532541214823, 10.029517152755943, 352.6181691080783, -20.01221588324188, -173.5199897402763, -25.936116250511986, -74.18794413380601, -831.6532538921165, 715.7297819466785, 226.77632357267248, -28.9971312740563, -181.8253665681732, -668.8429461860087, 173.50290644113375, -148.27075118355788, 528.4077608449534, 6339.4946334318265, -1750.0271056986076, 351.1892899203758, -758.7853665681741, 1231.74867873927, 330.9654278243506, -972.2695175115696, -1358.4559838521236, -242.04952241232968, 453.2800215596799, 264.93265864191017, -1491.813058875865, -1178.2461073089144, -739.8197995578648, 123.4823004410755, -272.7515204143274, -101.79840204780521, 376.79005645540565, 1217.4614842605552, 46.88793887115753, 142.3613000984933, -171.05043094585562, -194.30893799674413, -65.56150691904986, 167.9111812206993, -122.94228245602426, -84.28899229916715, 54.20722250545987, 2039.3235808002482, -40.97693847452865, -265.7380854621824, -694.6452629412306, 923.7803477175403, -776.8013665681738, 202.2604118329491, -916.3638874684948, -434.82233085388725, -12.785854373050825, -85.50689328573026, -562.2356297260685, 593.1399164506947, 1143.9873870550146, -565.9842398076107, 148.38290158825112, -461.7900887903961, -302.7606857171104, 1069.9506334318266, -329.3317401945478, 353.99585592571384, 204.12646241044968, -158.24634321360827, 99.84008797728166, 326.6201087169975, -97.46739188462925, -2795.326795139603, -1263.1408345484688, 732.3227584318265, -36.451474352605146, -53.85890192170882, 278.7391475384102, 859.4114777815066, -138.71634922713383, -402.59194122312874, -325.9513125141202, -650.3770866847917, -657.9194016558922, 21.48854823912916, -77.38084795456598, 524.0162784534714, 1160.7766847138773, -607.3879956761539, -156.16947405377869, 28.356361826889042, 73.5426334318272, -202.30785767137604, -867.007957241749, 597.4113000984926, 381.7196334318269, 167.68658955614046, 126.23074454293783, -415.09324535605265, 45.656851090963755, 443.6908187179306, -458.3485916521604, -874.0792796116511, 515.2614447116521, 655.0351739723665, -391.3928971305213, -238.2281388454012, 257.49759639478907, -19.602884298670688, -961.3713459496175, 290.80824289928205, 765.0769119128399, -964.4686693204676, 573.3151462523401, 101.52998696717987, -230.02107821327445, -122.10570383630147, 1160.7555663764324, -562.5427997232546, -172.50433457642976, -151.38464222209768, -403.285217314442, -662.8648135727817, 1889.6508834318265, 339.9709647927739, 24.184370901994043, 76.6326577890668, 124.88061669542549, 939.2587252898647, 218.4075621917218, -383.9790507787002, -195.35168691449326, 528.270752834811, 464.15061633780897, 111.3161023583798, 73.18630009849403, 568.6145596310889, -816.2119911738519, 718.2160264666527, -790.7910808538873, -414.7578918206982, -4596.8386999015065, 501.38740732460064, 329.23570486039716, -163.53386046233936, -179.89702357860187, 1779.4611138787532, -54.505366568173486, -420.6074608090112, -297.12698818979516, -1154.5254670706854, -44.5497090758181, -405.88957709448914, 1691.3290705179188, -137.10329402931347, -318.1125094253166, -37.04753524287298, -57.19087025367662, -415.59686983614665, 335.8509136250632, 350.2729139748135, -363.3847525330857, 336.30574454293674, 306.79535806950844, 111.23252516971843, 529.7758834318265, 1077.6421744154322, -467.5294118298425, 478.28153819373074, 204.13597618801032, -256.86073846900035, -114.92641919975176, -293.20254966676475, -725.4925323435746, -445.9540845168922, 30.001597220127223, -102.87156375127233, -42.18364185838982, -306.78314434595086, 5571.4946334318265, -127.10258879039611, -313.4988870865327, 356.53940955122926, 2294.2151303262362, -35.244834417397215, 145.06606200325587, -84.03353558225717, 167.53239778227908, 121.83069900559713, -372.79065185345826, -472.8127491185096, 926.3672140769886, 537.4300266902537, -76.72275787252147, 165.1818581014304, -470.21253167720715, -492.228924260482, -40.62617193730148, -175.8961432672022, 208.35416055282803, 101.89669528749619, 239.77588343182651, -377.5828484083668, -60.924156377090185, -241.86347467628184, -423.0345442870057, 217.6150923228397, -386.99021505302153, -80.56499389736564, 1627.7120247361745, 662.1862222168729, -255.94767426048202, -1120.7590979114575, 32.352245699077685, 732.7067546439484, 1879.1980817076892, 462.7005553699146, 305.9946334318265, 43.08928822024609, -167.48046486437306, 128.80192509849257, -134.3257747314383, 1333.0605249046948, 156.5095094648841, -641.1767220668953, -93.70156909981961, 187.59113396204884, 42.71685565404914, -269.32925320785034, -68.49237955518583, 398.824565404615, 844.3041572413495, 565.4219838591762, -248.01439776685947, -508.0021545767395, 523.8437713628609, -913.1592127220192, 771.2373870550146, 98.55529201068202, 1595.725402662596, -381.894976957783, -859.2956891488193, -474.3779780331424, 156.05390818775413, 88.18001202190499, -1037.875445308331, -313.4587500268208, -888.7777008621215, -469.6238238684491, -390.50647276286327, 2098.2993209318265, -787.0139872578293, 313.2184429556364, 1004.7814924061859, -640.8411874636968, 645.1265552559307, -183.41505100778159, 84.5791404740794, 277.68636275513563, 244.16736070455408, 168.7259587330318, -853.2613474294176, 316.67110402006256, 430.7775838550424, 69.9702592552785, 601.8514740524188, 1.0665324439014512, -422.29405386806684, -28.555366568172758, 192.41938017567554, -244.70982753471617, 225.84569726161317, -492.32935613792506, -6.386344251488481, -132.80594460285647, -3179.410128472935, -777.9367391171927, 519.3395087780864, 169.6630668829457, -649.8829175885821, -293.9506619729873, 599.2315444265914, 135.9849974575227, 55.827966765160454, 269.86395161364453, -293.432049260482, 562.8626334318269, 784.7946334318258, -2814.5743320854144, 330.17707919119493, -1957.9053665681731, -425.8849584049076, -498.4499230197871, -78.01857411534365, 153.7567581431431, -6.8117940719112084, -661.736135798943, 389.47926851505326, 94.39276829552728, -560.2430714862057, 828.4946334318265, 156.0936267204179, -922.9706331271391, 289.65075157528554, 327.65353173691074, -171.89851501841804, 181.81595475314862, 2037.3431182803106, -407.55355933925784, -618.9929442079247, 1340.4102960824293, 352.53091790207327, 80.62658891672254, -310.999607405869, 67.62128250834394, 296.24205611223806, 1342.523759645419, -210.7053665681742, -314.26547438488524, -256.56741563022297, 641.4240812845874, -327.9892375359159, 186.0145111076672, 165.82661723749516, -461.0567684373327, -265.2859788130718, -182.06653947009545, -546.780564756169, 48.27442911854632, -288.10193977689596, -324.2018646226479, 170.81753958722584, -188.27884723115676, -164.13677682458365, -1126.966040725476, -689.299484215233, 462.34871068504617, -592.2084735877361, -187.06192183809617, -171.76821241797552, 847.3395946721357, 897.2190150572678, 422.3795891840382, 672.8279667651605, 1104.0430205286011, 370.98237852986495, 41.172193344680636, -210.09682998280732, 42.81985467076447, 591.2640778762707, -3878.819652282459, -475.96056370078986, -158.79293133501233, 3017.7803477175403, -71.5442770740101, -505.6990041891968, -1297.0899819527895, 470.5000979127017, -76.55712640254205, 1595.348291968412, -263.3884977699381, -659.8255300559122, 547.1403027231645, -454.6138571342108, 238.9206262116095, 1112.4040984524017, -364.1149556092696, -882.9954515540085, -412.516927261815, 628.1223830088147, 511.32605105634684, -522.137896688655, -1116.376795139602, -136.24610730891436, -373.0473833748965, -382.601674754369, -247.64991633120735, 258.2129878622054, 373.24763103374426, 90.70917888637268, 562.0883834318265, 58.922365511733005, -380.23935136730506, -432.5662984678147, 452.2140778762714, -51.21378989430741, 11.040579377771792, -512.5347207756095, -100.0811988739697, -1186.2345332348395, 3220.716855654049, -661.0473166815518, -541.6482237110304, 402.0793108511807, -309.0003363870874, -704.0637607287572, 80.19626091826467, 283.49949369914066, 334.83011730279395, -5513.905366568173, -167.82889597993744, 537.6556090415834, 245.3207203883485, -124.90713647967823, -10.225246086245534, 632.2134453130147, -204.31031162311774, 274.33725181622685, 462.0436083748791, 542.4306799434544, 577.720764085092, -497.51018971929807, -545.6499946673466, 562.0744653645997, 607.0209492212998, -410.3895273246744, 321.2925057722514, -252.0516628644691, -331.084383832449, -344.4626836413445, 1931.5524846714961, -73.02451071231735, 101.10924300361512, -640.5279654382302, 595.6594685966611, 353.0051682778558, -294.0868329632849, -682.393197256004, -350.9053665681731, -294.76094969472433, 327.07201438420816, -902.5297568120768, -819.1707801020075, 110.85089878809231, -274.36346339622105, 223.2129286501222, 703.1457237745053, -1486.544692410871, 296.93080364459274, -506.55021706651314, 638.847834314829, 301.33823532756105, -115.83276870340524, 278.54371318642734, 241.9737543109477, 84.94052521539379, -486.3203548585716, 512.2607153031713, 373.03180815301675, -633.9106695984774, -201.48276769811673, -498.7869550158266, -589.1708838095528, -225.52574700295554, 29.215707811992615, -134.40710983283316, 213.2503805582637, -365.55093618842693, 659.8604151427407, 964.4235951804603, 545.6781540310767, -115.55270384628056, 238.12447839306697, 208.02958783912072, 554.2512225791124, 1747.7191232277455, -450.87367932537563, -271.4980885477944, 3513.794633431826, 2953.0501889873813, -472.44009563221334, -245.85898671507857, -445.0903468053275, 309.8867039164088, 66.66927458015198, -308.32169309878554, 458.9439726388755, -224.79294826751902, -665.575311923365, -547.390405938253, 39.11384440952861, 790.5371866233163, 67.79473516122562, -478.76918118492904, -146.85989450651687, -47.18361624642239, -169.64906735557452, -180.1858777502821, -0.8386999015074252, -3454.0386999015063, 427.0348633168833, 201.9130949702885, 28.100883431827242, -183.7234582658184, 6.295314862831219, 426.47440871272556, -70.28502758512332, -57.40336867122278, -991.3278921654437, -241.0195277882176, 712.0252252071532, 152.29840109273755, 522.2695982700825, -293.8105241612975, -1240.7609719493394, -148.5314020711321, 299.04278157997396, -201.60460320939455, -231.51118052166203, -77.92558581299636, 2322.687966765159, -194.453573739489, 45.48860933544165, 321.7770935685003, 343.2292739547029, 84.43034771753992, 501.14463343182615, -445.91836447173773, -160.54842876913062, -76.97521867283831, -723.39903745425, -329.86398725782783, -370.7327913173376, -1953.4144574772636, 207.9764516136438, -959.1737470308981, -865.9709159164049, -208.4932819760288, 307.5571334318265, 306.922024222853, -173.72509750987774, 225.55121399763266, -224.7675815518869, 717.9879270234815, -226.2086798211858, -453.32889597993744, -190.32075118355897, 240.27116277015375, -20.368310730609664, 168.61731861701082, -702.3169944751498, 280.69271649891925, -449.4185402208677, -22.116634173808052, -159.01443686295897, -226.67820607434624, 66.47594184304216, -462.8436018622906, -637.5392648732577, -362.1468760021362, -699.3959674926718, -579.3205839594775, 11.515502997044678, 71.00732378715657, -194.6253665681743, -233.75423534645415, -505.0874099118264, -200.83519112957765, 113.64401102518787, 271.76838544470957, -11.627182736501709, 159.22909670866284, -11.018789386966091, 1153.061941124135, -173.18298463798783, -153.9192104562444, 146.7964237131564, -35.83309766061029, -364.03821328350205, 34.08286872594363, 510.58987152706504, 819.4543108511807, -301.51802479602156, -767.9512682075183, 8603.494633431827, -643.8488780185544, -223.92140666842351, 66.504927549473, 29.02064499252083, 78.51782930811532, -426.77032383313053, -0.04122314187952725, 365.28015622003113, -1021.1821151504046, -328.29484025238344, 612.7291161904468, 495.3017904894805, -710.5000474192366, -558.0304711706831, -7.401178621288636, 283.78194686466304, -687.6340215389337, -539.1260562233456, -17.869674910307367, 744.4191185576838, 304.64708352257003, -298.71589288396353, 191.71319630607832, -524.7778726508986, -102.8183162084606, -247.00944107341275, 10.593667248251222, -348.8587646264259, -2249.053753664948, 145.70915857149157, 449.32126948234327, 1888.4711040200618, 470.9686818747323, -27.611935911239925, -168.0903305228585, -6.13791249993119, -158.01803243065842, -1127.908875340103, 30.309240173399303, 320.9635050271572, -186.62463262321944, -139.54102021842846, 367.0332330727597, 471.1077347624305, 177.43169636888888, 347.37199192239314, -441.7472496850569, -782.6720332348395, 302.66307945792323, -26.351795139602473, -317.1437594253166, -324.2287708234926, -57.722347700248065, 597.5952703745024, 920.5052042563511, -154.74722703328916, 370.5167217852395, 193.91638139930546, -68.38472703328989, -922.6951970766477, 132.32796676516045, -303.9053665681731, 634.8602248296756, -1145.4284434912497, -9.804067866874902, 135.1551838905416, -600.6042540836243, -26.258791225707682, -65.19804949500212, 565.3107624640852, -364.305681033582, -239.44378299046002, 367.40413569427074, 1158.4020408392335, 207.72115276884324, -1304.6207511835582, -32.320864723154955, 162.7441780584195, -369.16049477330125, -471.6792796116515, -394.9815570443643, 458.83844482671884, -477.7207511835586, -369.97944064224794, 533.5924112096036, -29.55155346398533, -326.32889597993744, 261.27989658972183, -422.2719839980109, 663.4105425227353, -78.42794721333485, 132.9182923039043, -15.771716152003137, 8.52598139420843, 274.3188947070994, 223.1969235081615, 634.252275353223, 563.5697187560581, 383.58522576632095, -453.9736592510999, -325.51890823484064, 762.1890778762718, -453.73929702128225, 530.5225775436029, -127.84505667544363, -620.0261999015074, 1723.5855425227364, -74.08751954267791, -2297.4116165681735, -265.49179190753966, 373.5836386674291, -65.94934415920943, -1057.002854005359, -427.71399966169884, -110.15993646064635, -757.5744620455607, -678.1420125309069, 637.0673607045537, -565.8350962979039, 743.9037243409166, -204.2053665681742, -1130.572033234841, -18.288312304606734, 1014.6010164105501, 397.7133834318265, -331.32841183566234, 189.1598508231309, -76.18376656817418, 84.39206932926209, -112.04899072924673, -556.0370952333815, -103.48922017420227, 323.26691065954947, -91.19984232916613, 114.09463343182688, -75.93509629790242, -89.01947315124562, 1018.2556953787298, -16.050821113627535, 388.46954382609147, -529.2488220655559, -497.38155704436394, 441.6165846513395, 229.88967159976528, 402.04402299897447, 210.16475791315497, -1060.0690920583693, 401.242133431826, -182.4190029318106, 956.0934114359006, -187.8801160671719, 76.8874905746834, -31.333587427068778, -2559.3572184200257, -761.5595537602912, 22.400883431826514, 606.8408548729512, 627.4321334318265, -678.4763810609275, 411.29735452026216, 207.60600234133926, -350.93922900203506, -949.5413377911955, -139.1018188963335, 192.32746017954742, 903.6469513126212, 528.8356076438613, 224.3554352135634, 85.96460732216656, 175.75717718911983, -188.4745973374047, -35.19444219842626, 922.3485147103656, -90.17103373459031, -347.2669050297118, -4.241258216028655, -233.37740448286604, -747.2553665681735, -100.26563146883564, 2323.435809902414, 501.1536897484166, -2614.116477679285, 1483.030669467862, -139.92019101550795, 832.3915084318269, 600.0341523321695, -130.31233707755746, 531.7096461544734, -406.87053510749865, -554.1097621725694, 317.05550299704373, 150.51228790849746, -153.3918913908692, 307.95077378270435, 402.52153926142273, 597.9437747792508, -156.54512560431795, -322.2843720930359, -48.1148193044919, 26.591224340916597, 25.82585972765446, 98.78889777097902, -345.4050429435774, -680.114561970473, -267.6944739811843, 514.4116639995118, -65.47607229387177, 714.3679211030594, 223.7990731781265, 263.8387542516757, 1436.3315899535664, -160.39179872897694, -358.88852808020056, 1891.725402662596, 989.4887510788849, -67.65729164621735, 120.27668471387733, 660.4355783137162, 206.10460410631276, 371.52361893907255, 87.88879401576742, 145.3613000984933, -1.436514109156633, -143.20253794920427, 271.74080690121446, 258.59428173194465, -463.76589698939097, -200.4752590412918, 1734.8071334318265, -46.592134464051924, 327.79816284359185, 156.536622382102, -233.17787094645792, 229.79084964804315, 1169.5713205483917, 107.02510434595388, 465.541145059733, 395.6146845173953, 262.2409951781883, 351.555609041583, 122.08804002523357, -334.5853665681734, 872.7129841867627, 843.1605425227353, 211.2972517601247, 488.56187234455865, -314.0053665681735, 214.24247825941347, -515.7477908105975, -133.82127313102137, -582.4907466851328, 500.78061474023707, 584.2976637348565, -415.8611947890331, 73.15534771754028, 1712.5297211511242, -181.44375519376626, -89.572033234841, 256.41709332487517, 150.82347440217745, 342.53282787627177, -203.25843614525365, 51.2405080192857, 64.81505596703755, -811.2467853324761, -744.5053665681735, -808.5053665681735, 343.25811890900513, 1629.6560167171283, -160.81815726584864, -100.97345167455569, -306.86071248012377, -111.03421272201922, -516.3384271246377, -1863.1273177876865, 218.3469488260689, -195.9891378201046, 88.70495089214455, 305.1809079416307, -208.1945867516606, 282.6465730869986, 416.5026334318263, 198.9041729055116, -304.3796630034449, -30.77634978160313, 1133.8475746082968, 2209.9946334318265, 107.45685565404892, 440.2446334318265, -405.58738095666195, -3.026040381342682, -127.91154758362609, 71.67996161715382, 441.38619969688625, -2182.758613321421, -232.39506353786965, -19.65201461286597, -14.826610091489783, 268.0850727083125, -438.0160332348405, -29.470883809552106, -532.4186792616711, -561.4401491768695, 283.07301181020557, 64.40155167082048, 43.93394967114364, 101.78533110624448, 346.68230466470413, -583.1803665681728, -109.44795030023124, 504.3049782594135, 103.8317762889692, 525.6000053326534, 674.7852317224242, -304.25298561579257, -630.5053665681735, 41.92996466211116, 227.84084032837745, -442.1032686660765, -120.99878762080516, 6.517781579974326, -1703.2786999015061, -1095.2825942909458, -50.79405017094541, 533.2523257395187, -300.6685021613939, -462.10118538350434, -388.0742153266383, 404.98523885980103, -1950.5886999015074, -554.1823425131915, 538.5000505499193, 112.604725174946, -159.02051808332544, -140.14247156307647, 844.6527842834075, -257.23085676425217, 314.5285087705797, 243.7034501371636, -154.03698249323133, -1322.7729104278224, 131.33943060995625, -606.3746159628463, -56.542403605209984, 1065.6296909030916, -485.6403358933276, 49.65854071659487, 59.68094521889907, -445.38904003756033, 202.35921676516045, 212.6892643043102, 455.2805412909056, -673.9870941429235, -268.5504929219642, 729.3626334318269, -35.30144499954622, -820.8244141872219, 28.54134256133875, 264.4946334318265, 118.35871110172957, 411.09737315785424, -125.19676122692726, 143.5211821043922, 283.52573942261006, -535.2924952810445, 339.9946334318265, -521.3690029318095, -245.2239294424253, -263.74042229259067, -304.3409280654996, -386.5706169475361, 118.14260248405117, 61.23707347353593, -1332.606256775889, -85.87108085388718, 86.4473361345299, 106.98705767425054, 505.9483968726872, -65.62424768705387, 348.9374905746845, 993.7371866233152, -91.91384114444554, 1489.684633431827, 173.72432886329807, 6.657985704554449, 66.99968393687777, 453.53281258013703, 234.2430611047821, 0.8091495608587138, 411.45015237746156, -142.3708169672609, -93.55895713623431, -351.70003869932043, 1498.037490574683, 2846.2989812579126]\n"
     ]
    }
   ],
   "source": [
    "import random\n",
    "random.shuffle(sample_sizes_big)\n",
    "for x in sample_sizes_big:\n",
    "    new_sample = df.sample(n=x)\n",
    "    df_new_sample_mean = new_sample[\"TUITIONFEE_IN\"].mean()\n",
    "    df_population_mean = df[\"TUITIONFEE_IN\"].mean()\n",
    "    diff_new = df_new_sample_mean - df_population_mean  \n",
    "    means_diff_big.append (diff_new)\n",
    "  # print(means_diff)\n",
    "print(means_diff_big)"
   ]
  },
  {
   "cell_type": "code",
   "execution_count": 34,
   "metadata": {},
   "outputs": [
    {
     "data": {
      "text/html": [
       "        <script type=\"text/javascript\">\n",
       "        window.PlotlyConfig = {MathJaxConfig: 'local'};\n",
       "        if (window.MathJax) {MathJax.Hub.Config({SVG: {font: \"STIX-Web\"}});}\n",
       "        if (typeof require !== 'undefined') {\n",
       "        require.undef(\"plotly\");\n",
       "        requirejs.config({\n",
       "            paths: {\n",
       "                'plotly': ['https://cdn.plot.ly/plotly-latest.min']\n",
       "            }\n",
       "        });\n",
       "        require(['plotly'], function(Plotly) {\n",
       "            window._Plotly = Plotly;\n",
       "        });\n",
       "        }\n",
       "        </script>\n",
       "        "
      ]
     },
     "metadata": {},
     "output_type": "display_data"
    },
    {
     "data": {
      "application/vnd.plotly.v1+json": {
       "config": {
        "plotlyServerURL": "https://plot.ly"
       },
       "data": [
        {
         "mode": "markers",
         "type": "scatter",
         "x": [
          817,
          118,
          198,
          703,
          402,
          236,
          217,
          615,
          773,
          56,
          606,
          932,
          732,
          73,
          806,
          794,
          534,
          340,
          938,
          673,
          700,
          510,
          776,
          40,
          394,
          916,
          95,
          802,
          64,
          966,
          824,
          563,
          58,
          731,
          939,
          803,
          889,
          787,
          419,
          426,
          808,
          639,
          850,
          100,
          314,
          967,
          520,
          518,
          1,
          23,
          393,
          950,
          618,
          856,
          424,
          81,
          770,
          438,
          952,
          13,
          324,
          194,
          973,
          130,
          761,
          721,
          724,
          239,
          60,
          466,
          392,
          570,
          701,
          428,
          684,
          421,
          76,
          299,
          434,
          386,
          182,
          250,
          713,
          311,
          896,
          656,
          655,
          152,
          265,
          138,
          213,
          358,
          576,
          94,
          375,
          455,
          818,
          842,
          942,
          220,
          526,
          158,
          28,
          203,
          128,
          835,
          891,
          957,
          469,
          692,
          797,
          148,
          343,
          285,
          986,
          779,
          462,
          39,
          852,
          521,
          405,
          875,
          562,
          193,
          48,
          80,
          547,
          504,
          165,
          487,
          367,
          893,
          115,
          922,
          74,
          409,
          303,
          675,
          564,
          485,
          676,
          79,
          218,
          78,
          396,
          541,
          593,
          686,
          187,
          969,
          497,
          536,
          651,
          96,
          338,
          838,
          739,
          956,
          479,
          379,
          190,
          924,
          134,
          468,
          885,
          120,
          542,
          317,
          201,
          14,
          99,
          3,
          429,
          112,
          737,
          863,
          179,
          37,
          382,
          111,
          597,
          654,
          760,
          151,
          965,
          308,
          747,
          814,
          153,
          828,
          663,
          456,
          270,
          552,
          351,
          160,
          61,
          707,
          840,
          566,
          726,
          38,
          142,
          935,
          546,
          359,
          568,
          603,
          540,
          2,
          72,
          926,
          335,
          161,
          902,
          476,
          710,
          662,
          976,
          333,
          745,
          620,
          712,
          598,
          454,
          963,
          416,
          149,
          412,
          719,
          97,
          800,
          826,
          628,
          296,
          754,
          523,
          495,
          805,
          69,
          214,
          988,
          67,
          913,
          297,
          145,
          743,
          272,
          449,
          763,
          192,
          245,
          258,
          605,
          782,
          474,
          943,
          162,
          494,
          77,
          294,
          357,
          702,
          609,
          467,
          232,
          572,
          276,
          577,
          143,
          539,
          186,
          157,
          717,
          766,
          127,
          665,
          694,
          363,
          904,
          256,
          116,
          105,
          624,
          670,
          307,
          919,
          71,
          266,
          385,
          415,
          627,
          306,
          827,
          759,
          709,
          911,
          937,
          380,
          691,
          269,
          752,
          767,
          941,
          865,
          21,
          102,
          361,
          849,
          196,
          914,
          764,
          934,
          954,
          176,
          832,
          1000,
          450,
          29,
          507,
          25,
          735,
          992,
          530,
          866,
          669,
          559,
          781,
          697,
          122,
          244,
          596,
          619,
          237,
          472,
          613,
          999,
          33,
          249,
          644,
          83,
          689,
          629,
          955,
          758,
          970,
          103,
          30,
          742,
          693,
          978,
          248,
          327,
          247,
          749,
          588,
          989,
          883,
          881,
          642,
          257,
          991,
          543,
          312,
          89,
          34,
          233,
          869,
          778,
          506,
          129,
          283,
          113,
          84,
          62,
          816,
          459,
          328,
          452,
          360,
          35,
          279,
          772,
          7,
          771,
          723,
          195,
          183,
          483,
          41,
          907,
          734,
          381,
          848,
          277,
          243,
          146,
          353,
          173,
          591,
          522,
          498,
          70,
          216,
          238,
          623,
          422,
          316,
          417,
          275,
          384,
          851,
          921,
          837,
          720,
          463,
          185,
          511,
          811,
          144,
          45,
          441,
          126,
          496,
          994,
          274,
          553,
          823,
          775,
          5,
          68,
          410,
          690,
          565,
          332,
          505,
          364,
          718,
          439,
          344,
          398,
          622,
          242,
          119,
          304,
          423,
          376,
          864,
          753,
          492,
          121,
          888,
          397,
          177,
          728,
          617,
          982,
          945,
          20,
          403,
          168,
          164,
          532,
          407,
          599,
          962,
          321,
          178,
          282,
          602,
          453,
          211,
          281,
          815,
          910,
          998,
          854,
          513,
          538,
          264,
          354,
          831,
          290,
          736,
          968,
          631,
          348,
          790,
          339,
          366,
          267,
          169,
          516,
          329,
          645,
          49,
          972,
          687,
          10,
          9,
          812,
          953,
          253,
          908,
          836,
          98,
          227,
          612,
          915,
          635,
          583,
          940,
          983,
          561,
          519,
          777,
          508,
          626,
          948,
          15,
          87,
          975,
          640,
          807,
          587,
          445,
          59,
          951,
          293,
          918,
          997,
          637,
          711,
          698,
          223,
          845,
          810,
          917,
          172,
          821,
          150,
          251,
          166,
          878,
          765,
          280,
          180,
          477,
          209,
          879,
          395,
          580,
          897,
          22,
          110,
          389,
          537,
          331,
          16,
          847,
          892,
          813,
          614,
          671,
          664,
          527,
          325,
          801,
          985,
          432,
          430,
          313,
          334,
          355,
          882,
          729,
          107,
          408,
          708,
          53,
          649,
          92,
          575,
          197,
          50,
          221,
          646,
          855,
          482,
          621,
          903,
          531,
          298,
          104,
          974,
          679,
          391,
          833,
          137,
          544,
          42,
          124,
          632,
          305,
          6,
          262,
          399,
          680,
          346,
          388,
          234,
          502,
          746,
          529,
          133,
          435,
          503,
          188,
          478,
          979,
          268,
          171,
          377,
          947,
          874,
          551,
          19,
          668,
          411,
          556,
          859,
          414,
          515,
          31,
          895,
          871,
          85,
          578,
          685,
          971,
          762,
          829,
          114,
          356,
          514,
          109,
          589,
          557,
          977,
          286,
          106,
          616,
          12,
          843,
          560,
          448,
          846,
          212,
          785,
          473,
          215,
          996,
          984,
          688,
          295,
          252,
          600,
          93,
          91,
          231,
          436,
          809,
          584,
          205,
          310,
          636,
          341,
          884,
          54,
          181,
          52,
          271,
          549,
          780,
          230,
          63,
          509,
          650,
          135,
          225,
          931,
          289,
          475,
          677,
          880,
          155,
          727,
          841,
          638,
          643,
          131,
          458,
          586,
          287,
          820,
          960,
          108,
          949,
          501,
          839,
          672,
          11,
          706,
          32,
          442,
          191,
          714,
          199,
          278,
          744,
          796,
          322,
          550,
          370,
          88,
          990,
          90,
          387,
          47,
          768,
          486,
          920,
          625,
          741,
          894,
          457,
          929,
          101,
          887,
          870,
          740,
          319,
          226,
          55,
          558,
          573,
          315,
          123,
          524,
          901,
          964,
          204,
          400,
          660,
          491,
          499,
          980,
          489,
          27,
          406,
          224,
          569,
          512,
          207,
          147,
          431,
          189,
          139,
          451,
          658,
          302,
          349,
          898,
          383,
          857,
          65,
          595,
          219,
          667,
          390,
          443,
          844,
          8,
          755,
          17,
          657,
          18,
          222,
          769,
          320,
          873,
          373,
          786,
          890,
          273,
          460,
          793,
          141,
          798,
          446,
          757,
          830,
          362,
          804,
          352,
          791,
          401,
          309,
          261,
          661,
          229,
          751,
          876,
          946,
          927,
          184,
          995,
          582,
          26,
          170,
          961,
          156,
          254,
          682,
          345,
          548,
          705,
          610,
          601,
          784,
          853,
          641,
          465,
          208,
          461,
          425,
          905,
          571,
          925,
          652,
          722,
          43,
          783,
          481,
          246,
          819,
          300,
          861,
          440,
          993,
          699,
          666,
          464,
          330,
          899,
          342,
          535,
          132,
          163,
          336,
          57,
          633,
          525,
          374,
          371,
          288,
          733,
          909,
          284,
          437,
          683,
          292,
          241,
          347,
          860,
          470,
          318,
          936,
          611,
          82,
          799,
          647,
          756,
          867,
          872,
          928,
          125,
          608,
          533,
          834,
          136,
          4,
          900,
          24,
          695,
          653,
          906,
          259,
          581,
          154,
          825,
          716,
          579,
          774,
          750,
          493,
          323,
          368,
          555,
          795,
          585,
          86,
          730,
          240,
          418,
          174,
          175,
          484,
          117,
          630,
          263,
          634,
          725,
          858,
          912,
          648,
          75,
          202,
          433,
          260,
          944,
          574,
          886,
          958,
          36,
          291,
          923,
          545,
          528,
          981,
          822,
          51,
          738,
          862,
          427,
          228,
          567,
          413,
          378,
          696,
          326,
          604,
          789,
          490,
          480,
          447,
          369,
          301,
          554,
          500,
          255,
          420,
          471,
          592,
          206,
          365,
          674,
          678,
          868,
          404,
          44,
          66,
          167,
          987,
          748,
          659,
          517,
          959,
          337,
          350,
          444,
          792,
          930,
          715,
          210,
          235,
          590,
          200,
          788,
          704,
          594,
          681,
          159,
          372,
          607,
          877,
          933,
          488,
          140,
          46
         ],
         "y": [
          442.80307896426166,
          1861.8844639403014,
          -543.5205180833254,
          -450.2038018455569,
          -785.9406899512578,
          87.02853173691074,
          471.6328822797532,
          174.80195050499788,
          96.41830742923958,
          -38.683937996744135,
          -85.01856788830628,
          618.2757493116551,
          347.8402618471264,
          1279.5083320619633,
          19.69190390329095,
          239.92032612704133,
          858.502124068531,
          267.45051578476705,
          -485.51709364706403,
          2.4768028226135357,
          -165.695366568174,
          -294.7583077446434,
          -142.22315007332872,
          -2765.3803665681735,
          -633.9393767204583,
          -715.0293840354225,
          -983.1158928839632,
          -450.5340448724128,
          -1146.2397415681735,
          -95.94532516030631,
          12.647546053185579,
          309.33477552774093,
          2135.2532541214823,
          10.029517152755943,
          352.6181691080783,
          -20.01221588324188,
          -173.5199897402763,
          -25.936116250511986,
          -74.18794413380601,
          -831.6532538921165,
          715.7297819466785,
          226.77632357267248,
          -28.9971312740563,
          -181.8253665681732,
          -668.8429461860087,
          173.50290644113375,
          -148.27075118355788,
          528.4077608449534,
          6339.4946334318265,
          -1750.0271056986076,
          351.1892899203758,
          -758.7853665681741,
          1231.74867873927,
          330.9654278243506,
          -972.2695175115696,
          -1358.4559838521236,
          -242.04952241232968,
          453.2800215596799,
          264.93265864191017,
          -1491.813058875865,
          -1178.2461073089144,
          -739.8197995578648,
          123.4823004410755,
          -272.7515204143274,
          -101.79840204780521,
          376.79005645540565,
          1217.4614842605552,
          46.88793887115753,
          142.3613000984933,
          -171.05043094585562,
          -194.30893799674413,
          -65.56150691904986,
          167.9111812206993,
          -122.94228245602426,
          -84.28899229916715,
          54.20722250545987,
          2039.3235808002482,
          -40.97693847452865,
          -265.7380854621824,
          -694.6452629412306,
          923.7803477175403,
          -776.8013665681738,
          202.2604118329491,
          -916.3638874684948,
          -434.82233085388725,
          -12.785854373050825,
          -85.50689328573026,
          -562.2356297260685,
          593.1399164506947,
          1143.9873870550146,
          -565.9842398076107,
          148.38290158825112,
          -461.7900887903961,
          -302.7606857171104,
          1069.9506334318266,
          -329.3317401945478,
          353.99585592571384,
          204.12646241044968,
          -158.24634321360827,
          99.84008797728166,
          326.6201087169975,
          -97.46739188462925,
          -2795.326795139603,
          -1263.1408345484688,
          732.3227584318265,
          -36.451474352605146,
          -53.85890192170882,
          278.7391475384102,
          859.4114777815066,
          -138.71634922713383,
          -402.59194122312874,
          -325.9513125141202,
          -650.3770866847917,
          -657.9194016558922,
          21.48854823912916,
          -77.38084795456598,
          524.0162784534714,
          1160.7766847138773,
          -607.3879956761539,
          -156.16947405377869,
          28.356361826889042,
          73.5426334318272,
          -202.30785767137604,
          -867.007957241749,
          597.4113000984926,
          381.7196334318269,
          167.68658955614046,
          126.23074454293783,
          -415.09324535605265,
          45.656851090963755,
          443.6908187179306,
          -458.3485916521604,
          -874.0792796116511,
          515.2614447116521,
          655.0351739723665,
          -391.3928971305213,
          -238.2281388454012,
          257.49759639478907,
          -19.602884298670688,
          -961.3713459496175,
          290.80824289928205,
          765.0769119128399,
          -964.4686693204676,
          573.3151462523401,
          101.52998696717987,
          -230.02107821327445,
          -122.10570383630147,
          1160.7555663764324,
          -562.5427997232546,
          -172.50433457642976,
          -151.38464222209768,
          -403.285217314442,
          -662.8648135727817,
          1889.6508834318265,
          339.9709647927739,
          24.184370901994043,
          76.6326577890668,
          124.88061669542549,
          939.2587252898647,
          218.4075621917218,
          -383.9790507787002,
          -195.35168691449326,
          528.270752834811,
          464.15061633780897,
          111.3161023583798,
          73.18630009849403,
          568.6145596310889,
          -816.2119911738519,
          718.2160264666527,
          -790.7910808538873,
          -414.7578918206982,
          -4596.8386999015065,
          501.38740732460064,
          329.23570486039716,
          -163.53386046233936,
          -179.89702357860187,
          1779.4611138787532,
          -54.505366568173486,
          -420.6074608090112,
          -297.12698818979516,
          -1154.5254670706854,
          -44.5497090758181,
          -405.88957709448914,
          1691.3290705179188,
          -137.10329402931347,
          -318.1125094253166,
          -37.04753524287298,
          -57.19087025367662,
          -415.59686983614665,
          335.8509136250632,
          350.2729139748135,
          -363.3847525330857,
          336.30574454293674,
          306.79535806950844,
          111.23252516971843,
          529.7758834318265,
          1077.6421744154322,
          -467.5294118298425,
          478.28153819373074,
          204.13597618801032,
          -256.86073846900035,
          -114.92641919975176,
          -293.20254966676475,
          -725.4925323435746,
          -445.9540845168922,
          30.001597220127223,
          -102.87156375127233,
          -42.18364185838982,
          -306.78314434595086,
          5571.4946334318265,
          -127.10258879039611,
          -313.4988870865327,
          356.53940955122926,
          2294.2151303262362,
          -35.244834417397215,
          145.06606200325587,
          -84.03353558225717,
          167.53239778227908,
          121.83069900559713,
          -372.79065185345826,
          -472.8127491185096,
          926.3672140769886,
          537.4300266902537,
          -76.72275787252147,
          165.1818581014304,
          -470.21253167720715,
          -492.228924260482,
          -40.62617193730148,
          -175.8961432672022,
          208.35416055282803,
          101.89669528749619,
          239.77588343182651,
          -377.5828484083668,
          -60.924156377090185,
          -241.86347467628184,
          -423.0345442870057,
          217.6150923228397,
          -386.99021505302153,
          -80.56499389736564,
          1627.7120247361745,
          662.1862222168729,
          -255.94767426048202,
          -1120.7590979114575,
          32.352245699077685,
          732.7067546439484,
          1879.1980817076892,
          462.7005553699146,
          305.9946334318265,
          43.08928822024609,
          -167.48046486437306,
          128.80192509849257,
          -134.3257747314383,
          1333.0605249046948,
          156.5095094648841,
          -641.1767220668953,
          -93.70156909981961,
          187.59113396204884,
          42.71685565404914,
          -269.32925320785034,
          -68.49237955518583,
          398.824565404615,
          844.3041572413495,
          565.4219838591762,
          -248.01439776685947,
          -508.0021545767395,
          523.8437713628609,
          -913.1592127220192,
          771.2373870550146,
          98.55529201068202,
          1595.725402662596,
          -381.894976957783,
          -859.2956891488193,
          -474.3779780331424,
          156.05390818775413,
          88.18001202190499,
          -1037.875445308331,
          -313.4587500268208,
          -888.7777008621215,
          -469.6238238684491,
          -390.50647276286327,
          2098.2993209318265,
          -787.0139872578293,
          313.2184429556364,
          1004.7814924061859,
          -640.8411874636968,
          645.1265552559307,
          -183.41505100778159,
          84.5791404740794,
          277.68636275513563,
          244.16736070455408,
          168.7259587330318,
          -853.2613474294176,
          316.67110402006256,
          430.7775838550424,
          69.9702592552785,
          601.8514740524188,
          1.0665324439014512,
          -422.29405386806684,
          -28.555366568172758,
          192.41938017567554,
          -244.70982753471617,
          225.84569726161317,
          -492.32935613792506,
          -6.386344251488481,
          -132.80594460285647,
          -3179.410128472935,
          -777.9367391171927,
          519.3395087780864,
          169.6630668829457,
          -649.8829175885821,
          -293.9506619729873,
          599.2315444265914,
          135.9849974575227,
          55.827966765160454,
          269.86395161364453,
          -293.432049260482,
          562.8626334318269,
          784.7946334318258,
          -2814.5743320854144,
          330.17707919119493,
          -1957.9053665681731,
          -425.8849584049076,
          -498.4499230197871,
          -78.01857411534365,
          153.7567581431431,
          -6.8117940719112084,
          -661.736135798943,
          389.47926851505326,
          94.39276829552728,
          -560.2430714862057,
          828.4946334318265,
          156.0936267204179,
          -922.9706331271391,
          289.65075157528554,
          327.65353173691074,
          -171.89851501841804,
          181.81595475314862,
          2037.3431182803106,
          -407.55355933925784,
          -618.9929442079247,
          1340.4102960824293,
          352.53091790207327,
          80.62658891672254,
          -310.999607405869,
          67.62128250834394,
          296.24205611223806,
          1342.523759645419,
          -210.7053665681742,
          -314.26547438488524,
          -256.56741563022297,
          641.4240812845874,
          -327.9892375359159,
          186.0145111076672,
          165.82661723749516,
          -461.0567684373327,
          -265.2859788130718,
          -182.06653947009545,
          -546.780564756169,
          48.27442911854632,
          -288.10193977689596,
          -324.2018646226479,
          170.81753958722584,
          -188.27884723115676,
          -164.13677682458365,
          -1126.966040725476,
          -689.299484215233,
          462.34871068504617,
          -592.2084735877361,
          -187.06192183809617,
          -171.76821241797552,
          847.3395946721357,
          897.2190150572678,
          422.3795891840382,
          672.8279667651605,
          1104.0430205286011,
          370.98237852986495,
          41.172193344680636,
          -210.09682998280732,
          42.81985467076447,
          591.2640778762707,
          -3878.819652282459,
          -475.96056370078986,
          -158.79293133501233,
          3017.7803477175403,
          -71.5442770740101,
          -505.6990041891968,
          -1297.0899819527895,
          470.5000979127017,
          -76.55712640254205,
          1595.348291968412,
          -263.3884977699381,
          -659.8255300559122,
          547.1403027231645,
          -454.6138571342108,
          238.9206262116095,
          1112.4040984524017,
          -364.1149556092696,
          -882.9954515540085,
          -412.516927261815,
          628.1223830088147,
          511.32605105634684,
          -522.137896688655,
          -1116.376795139602,
          -136.24610730891436,
          -373.0473833748965,
          -382.601674754369,
          -247.64991633120735,
          258.2129878622054,
          373.24763103374426,
          90.70917888637268,
          562.0883834318265,
          58.922365511733005,
          -380.23935136730506,
          -432.5662984678147,
          452.2140778762714,
          -51.21378989430741,
          11.040579377771792,
          -512.5347207756095,
          -100.0811988739697,
          -1186.2345332348395,
          3220.716855654049,
          -661.0473166815518,
          -541.6482237110304,
          402.0793108511807,
          -309.0003363870874,
          -704.0637607287572,
          80.19626091826467,
          283.49949369914066,
          334.83011730279395,
          -5513.905366568173,
          -167.82889597993744,
          537.6556090415834,
          245.3207203883485,
          -124.90713647967823,
          -10.225246086245534,
          632.2134453130147,
          -204.31031162311774,
          274.33725181622685,
          462.0436083748791,
          542.4306799434544,
          577.720764085092,
          -497.51018971929807,
          -545.6499946673466,
          562.0744653645997,
          607.0209492212998,
          -410.3895273246744,
          321.2925057722514,
          -252.0516628644691,
          -331.084383832449,
          -344.4626836413445,
          1931.5524846714961,
          -73.02451071231735,
          101.10924300361512,
          -640.5279654382302,
          595.6594685966611,
          353.0051682778558,
          -294.0868329632849,
          -682.393197256004,
          -350.9053665681731,
          -294.76094969472433,
          327.07201438420816,
          -902.5297568120768,
          -819.1707801020075,
          110.85089878809231,
          -274.36346339622105,
          223.2129286501222,
          703.1457237745053,
          -1486.544692410871,
          296.93080364459274,
          -506.55021706651314,
          638.847834314829,
          301.33823532756105,
          -115.83276870340524,
          278.54371318642734,
          241.9737543109477,
          84.94052521539379,
          -486.3203548585716,
          512.2607153031713,
          373.03180815301675,
          -633.9106695984774,
          -201.48276769811673,
          -498.7869550158266,
          -589.1708838095528,
          -225.52574700295554,
          29.215707811992615,
          -134.40710983283316,
          213.2503805582637,
          -365.55093618842693,
          659.8604151427407,
          964.4235951804603,
          545.6781540310767,
          -115.55270384628056,
          238.12447839306697,
          208.02958783912072,
          554.2512225791124,
          1747.7191232277455,
          -450.87367932537563,
          -271.4980885477944,
          3513.794633431826,
          2953.0501889873813,
          -472.44009563221334,
          -245.85898671507857,
          -445.0903468053275,
          309.8867039164088,
          66.66927458015198,
          -308.32169309878554,
          458.9439726388755,
          -224.79294826751902,
          -665.575311923365,
          -547.390405938253,
          39.11384440952861,
          790.5371866233163,
          67.79473516122562,
          -478.76918118492904,
          -146.85989450651687,
          -47.18361624642239,
          -169.64906735557452,
          -180.1858777502821,
          -0.8386999015074252,
          -3454.0386999015063,
          427.0348633168833,
          201.9130949702885,
          28.100883431827242,
          -183.7234582658184,
          6.295314862831219,
          426.47440871272556,
          -70.28502758512332,
          -57.40336867122278,
          -991.3278921654437,
          -241.0195277882176,
          712.0252252071532,
          152.29840109273755,
          522.2695982700825,
          -293.8105241612975,
          -1240.7609719493394,
          -148.5314020711321,
          299.04278157997396,
          -201.60460320939455,
          -231.51118052166203,
          -77.92558581299636,
          2322.687966765159,
          -194.453573739489,
          45.48860933544165,
          321.7770935685003,
          343.2292739547029,
          84.43034771753992,
          501.14463343182615,
          -445.91836447173773,
          -160.54842876913062,
          -76.97521867283831,
          -723.39903745425,
          -329.86398725782783,
          -370.7327913173376,
          -1953.4144574772636,
          207.9764516136438,
          -959.1737470308981,
          -865.9709159164049,
          -208.4932819760288,
          307.5571334318265,
          306.922024222853,
          -173.72509750987774,
          225.55121399763266,
          -224.7675815518869,
          717.9879270234815,
          -226.2086798211858,
          -453.32889597993744,
          -190.32075118355897,
          240.27116277015375,
          -20.368310730609664,
          168.61731861701082,
          -702.3169944751498,
          280.69271649891925,
          -449.4185402208677,
          -22.116634173808052,
          -159.01443686295897,
          -226.67820607434624,
          66.47594184304216,
          -462.8436018622906,
          -637.5392648732577,
          -362.1468760021362,
          -699.3959674926718,
          -579.3205839594775,
          11.515502997044678,
          71.00732378715657,
          -194.6253665681743,
          -233.75423534645415,
          -505.0874099118264,
          -200.83519112957765,
          113.64401102518787,
          271.76838544470957,
          -11.627182736501709,
          159.22909670866284,
          -11.018789386966091,
          1153.061941124135,
          -173.18298463798783,
          -153.9192104562444,
          146.7964237131564,
          -35.83309766061029,
          -364.03821328350205,
          34.08286872594363,
          510.58987152706504,
          819.4543108511807,
          -301.51802479602156,
          -767.9512682075183,
          8603.494633431827,
          -643.8488780185544,
          -223.92140666842351,
          66.504927549473,
          29.02064499252083,
          78.51782930811532,
          -426.77032383313053,
          -0.04122314187952725,
          365.28015622003113,
          -1021.1821151504046,
          -328.29484025238344,
          612.7291161904468,
          495.3017904894805,
          -710.5000474192366,
          -558.0304711706831,
          -7.401178621288636,
          283.78194686466304,
          -687.6340215389337,
          -539.1260562233456,
          -17.869674910307367,
          744.4191185576838,
          304.64708352257003,
          -298.71589288396353,
          191.71319630607832,
          -524.7778726508986,
          -102.8183162084606,
          -247.00944107341275,
          10.593667248251222,
          -348.8587646264259,
          -2249.053753664948,
          145.70915857149157,
          449.32126948234327,
          1888.4711040200618,
          470.9686818747323,
          -27.611935911239925,
          -168.0903305228585,
          -6.13791249993119,
          -158.01803243065842,
          -1127.908875340103,
          30.309240173399303,
          320.9635050271572,
          -186.62463262321944,
          -139.54102021842846,
          367.0332330727597,
          471.1077347624305,
          177.43169636888888,
          347.37199192239314,
          -441.7472496850569,
          -782.6720332348395,
          302.66307945792323,
          -26.351795139602473,
          -317.1437594253166,
          -324.2287708234926,
          -57.722347700248065,
          597.5952703745024,
          920.5052042563511,
          -154.74722703328916,
          370.5167217852395,
          193.91638139930546,
          -68.38472703328989,
          -922.6951970766477,
          132.32796676516045,
          -303.9053665681731,
          634.8602248296756,
          -1145.4284434912497,
          -9.804067866874902,
          135.1551838905416,
          -600.6042540836243,
          -26.258791225707682,
          -65.19804949500212,
          565.3107624640852,
          -364.305681033582,
          -239.44378299046002,
          367.40413569427074,
          1158.4020408392335,
          207.72115276884324,
          -1304.6207511835582,
          -32.320864723154955,
          162.7441780584195,
          -369.16049477330125,
          -471.6792796116515,
          -394.9815570443643,
          458.83844482671884,
          -477.7207511835586,
          -369.97944064224794,
          533.5924112096036,
          -29.55155346398533,
          -326.32889597993744,
          261.27989658972183,
          -422.2719839980109,
          663.4105425227353,
          -78.42794721333485,
          132.9182923039043,
          -15.771716152003137,
          8.52598139420843,
          274.3188947070994,
          223.1969235081615,
          634.252275353223,
          563.5697187560581,
          383.58522576632095,
          -453.9736592510999,
          -325.51890823484064,
          762.1890778762718,
          -453.73929702128225,
          530.5225775436029,
          -127.84505667544363,
          -620.0261999015074,
          1723.5855425227364,
          -74.08751954267791,
          -2297.4116165681735,
          -265.49179190753966,
          373.5836386674291,
          -65.94934415920943,
          -1057.002854005359,
          -427.71399966169884,
          -110.15993646064635,
          -757.5744620455607,
          -678.1420125309069,
          637.0673607045537,
          -565.8350962979039,
          743.9037243409166,
          -204.2053665681742,
          -1130.572033234841,
          -18.288312304606734,
          1014.6010164105501,
          397.7133834318265,
          -331.32841183566234,
          189.1598508231309,
          -76.18376656817418,
          84.39206932926209,
          -112.04899072924673,
          -556.0370952333815,
          -103.48922017420227,
          323.26691065954947,
          -91.19984232916613,
          114.09463343182688,
          -75.93509629790242,
          -89.01947315124562,
          1018.2556953787298,
          -16.050821113627535,
          388.46954382609147,
          -529.2488220655559,
          -497.38155704436394,
          441.6165846513395,
          229.88967159976528,
          402.04402299897447,
          210.16475791315497,
          -1060.0690920583693,
          401.242133431826,
          -182.4190029318106,
          956.0934114359006,
          -187.8801160671719,
          76.8874905746834,
          -31.333587427068778,
          -2559.3572184200257,
          -761.5595537602912,
          22.400883431826514,
          606.8408548729512,
          627.4321334318265,
          -678.4763810609275,
          411.29735452026216,
          207.60600234133926,
          -350.93922900203506,
          -949.5413377911955,
          -139.1018188963335,
          192.32746017954742,
          903.6469513126212,
          528.8356076438613,
          224.3554352135634,
          85.96460732216656,
          175.75717718911983,
          -188.4745973374047,
          -35.19444219842626,
          922.3485147103656,
          -90.17103373459031,
          -347.2669050297118,
          -4.241258216028655,
          -233.37740448286604,
          -747.2553665681735,
          -100.26563146883564,
          2323.435809902414,
          501.1536897484166,
          -2614.116477679285,
          1483.030669467862,
          -139.92019101550795,
          832.3915084318269,
          600.0341523321695,
          -130.31233707755746,
          531.7096461544734,
          -406.87053510749865,
          -554.1097621725694,
          317.05550299704373,
          150.51228790849746,
          -153.3918913908692,
          307.95077378270435,
          402.52153926142273,
          597.9437747792508,
          -156.54512560431795,
          -322.2843720930359,
          -48.1148193044919,
          26.591224340916597,
          25.82585972765446,
          98.78889777097902,
          -345.4050429435774,
          -680.114561970473,
          -267.6944739811843,
          514.4116639995118,
          -65.47607229387177,
          714.3679211030594,
          223.7990731781265,
          263.8387542516757,
          1436.3315899535664,
          -160.39179872897694,
          -358.88852808020056,
          1891.725402662596,
          989.4887510788849,
          -67.65729164621735,
          120.27668471387733,
          660.4355783137162,
          206.10460410631276,
          371.52361893907255,
          87.88879401576742,
          145.3613000984933,
          -1.436514109156633,
          -143.20253794920427,
          271.74080690121446,
          258.59428173194465,
          -463.76589698939097,
          -200.4752590412918,
          1734.8071334318265,
          -46.592134464051924,
          327.79816284359185,
          156.536622382102,
          -233.17787094645792,
          229.79084964804315,
          1169.5713205483917,
          107.02510434595388,
          465.541145059733,
          395.6146845173953,
          262.2409951781883,
          351.555609041583,
          122.08804002523357,
          -334.5853665681734,
          872.7129841867627,
          843.1605425227353,
          211.2972517601247,
          488.56187234455865,
          -314.0053665681735,
          214.24247825941347,
          -515.7477908105975,
          -133.82127313102137,
          -582.4907466851328,
          500.78061474023707,
          584.2976637348565,
          -415.8611947890331,
          73.15534771754028,
          1712.5297211511242,
          -181.44375519376626,
          -89.572033234841,
          256.41709332487517,
          150.82347440217745,
          342.53282787627177,
          -203.25843614525365,
          51.2405080192857,
          64.81505596703755,
          -811.2467853324761,
          -744.5053665681735,
          -808.5053665681735,
          343.25811890900513,
          1629.6560167171283,
          -160.81815726584864,
          -100.97345167455569,
          -306.86071248012377,
          -111.03421272201922,
          -516.3384271246377,
          -1863.1273177876865,
          218.3469488260689,
          -195.9891378201046,
          88.70495089214455,
          305.1809079416307,
          -208.1945867516606,
          282.6465730869986,
          416.5026334318263,
          198.9041729055116,
          -304.3796630034449,
          -30.77634978160313,
          1133.8475746082968,
          2209.9946334318265,
          107.45685565404892,
          440.2446334318265,
          -405.58738095666195,
          -3.026040381342682,
          -127.91154758362609,
          71.67996161715382,
          441.38619969688625,
          -2182.758613321421,
          -232.39506353786965,
          -19.65201461286597,
          -14.826610091489783,
          268.0850727083125,
          -438.0160332348405,
          -29.470883809552106,
          -532.4186792616711,
          -561.4401491768695,
          283.07301181020557,
          64.40155167082048,
          43.93394967114364,
          101.78533110624448,
          346.68230466470413,
          -583.1803665681728,
          -109.44795030023124,
          504.3049782594135,
          103.8317762889692,
          525.6000053326534,
          674.7852317224242,
          -304.25298561579257,
          -630.5053665681735,
          41.92996466211116,
          227.84084032837745,
          -442.1032686660765,
          -120.99878762080516,
          6.517781579974326,
          -1703.2786999015061,
          -1095.2825942909458,
          -50.79405017094541,
          533.2523257395187,
          -300.6685021613939,
          -462.10118538350434,
          -388.0742153266383,
          404.98523885980103,
          -1950.5886999015074,
          -554.1823425131915,
          538.5000505499193,
          112.604725174946,
          -159.02051808332544,
          -140.14247156307647,
          844.6527842834075,
          -257.23085676425217,
          314.5285087705797,
          243.7034501371636,
          -154.03698249323133,
          -1322.7729104278224,
          131.33943060995625,
          -606.3746159628463,
          -56.542403605209984,
          1065.6296909030916,
          -485.6403358933276,
          49.65854071659487,
          59.68094521889907,
          -445.38904003756033,
          202.35921676516045,
          212.6892643043102,
          455.2805412909056,
          -673.9870941429235,
          -268.5504929219642,
          729.3626334318269,
          -35.30144499954622,
          -820.8244141872219,
          28.54134256133875,
          264.4946334318265,
          118.35871110172957,
          411.09737315785424,
          -125.19676122692726,
          143.5211821043922,
          283.52573942261006,
          -535.2924952810445,
          339.9946334318265,
          -521.3690029318095,
          -245.2239294424253,
          -263.74042229259067,
          -304.3409280654996,
          -386.5706169475361,
          118.14260248405117,
          61.23707347353593,
          -1332.606256775889,
          -85.87108085388718,
          86.4473361345299,
          106.98705767425054,
          505.9483968726872,
          -65.62424768705387,
          348.9374905746845,
          993.7371866233152,
          -91.91384114444554,
          1489.684633431827,
          173.72432886329807,
          6.657985704554449,
          66.99968393687777,
          453.53281258013703,
          234.2430611047821,
          0.8091495608587138,
          411.45015237746156,
          -142.3708169672609,
          -93.55895713623431,
          -351.70003869932043,
          1498.037490574683,
          2846.2989812579126
         ]
        }
       ],
       "layout": {
        "template": {
         "data": {
          "bar": [
           {
            "error_x": {
             "color": "#2a3f5f"
            },
            "error_y": {
             "color": "#2a3f5f"
            },
            "marker": {
             "line": {
              "color": "#E5ECF6",
              "width": 0.5
             }
            },
            "type": "bar"
           }
          ],
          "barpolar": [
           {
            "marker": {
             "line": {
              "color": "#E5ECF6",
              "width": 0.5
             }
            },
            "type": "barpolar"
           }
          ],
          "carpet": [
           {
            "aaxis": {
             "endlinecolor": "#2a3f5f",
             "gridcolor": "white",
             "linecolor": "white",
             "minorgridcolor": "white",
             "startlinecolor": "#2a3f5f"
            },
            "baxis": {
             "endlinecolor": "#2a3f5f",
             "gridcolor": "white",
             "linecolor": "white",
             "minorgridcolor": "white",
             "startlinecolor": "#2a3f5f"
            },
            "type": "carpet"
           }
          ],
          "choropleth": [
           {
            "colorbar": {
             "outlinewidth": 0,
             "ticks": ""
            },
            "type": "choropleth"
           }
          ],
          "contour": [
           {
            "colorbar": {
             "outlinewidth": 0,
             "ticks": ""
            },
            "colorscale": [
             [
              0,
              "#0d0887"
             ],
             [
              0.1111111111111111,
              "#46039f"
             ],
             [
              0.2222222222222222,
              "#7201a8"
             ],
             [
              0.3333333333333333,
              "#9c179e"
             ],
             [
              0.4444444444444444,
              "#bd3786"
             ],
             [
              0.5555555555555556,
              "#d8576b"
             ],
             [
              0.6666666666666666,
              "#ed7953"
             ],
             [
              0.7777777777777778,
              "#fb9f3a"
             ],
             [
              0.8888888888888888,
              "#fdca26"
             ],
             [
              1,
              "#f0f921"
             ]
            ],
            "type": "contour"
           }
          ],
          "contourcarpet": [
           {
            "colorbar": {
             "outlinewidth": 0,
             "ticks": ""
            },
            "type": "contourcarpet"
           }
          ],
          "heatmap": [
           {
            "colorbar": {
             "outlinewidth": 0,
             "ticks": ""
            },
            "colorscale": [
             [
              0,
              "#0d0887"
             ],
             [
              0.1111111111111111,
              "#46039f"
             ],
             [
              0.2222222222222222,
              "#7201a8"
             ],
             [
              0.3333333333333333,
              "#9c179e"
             ],
             [
              0.4444444444444444,
              "#bd3786"
             ],
             [
              0.5555555555555556,
              "#d8576b"
             ],
             [
              0.6666666666666666,
              "#ed7953"
             ],
             [
              0.7777777777777778,
              "#fb9f3a"
             ],
             [
              0.8888888888888888,
              "#fdca26"
             ],
             [
              1,
              "#f0f921"
             ]
            ],
            "type": "heatmap"
           }
          ],
          "heatmapgl": [
           {
            "colorbar": {
             "outlinewidth": 0,
             "ticks": ""
            },
            "colorscale": [
             [
              0,
              "#0d0887"
             ],
             [
              0.1111111111111111,
              "#46039f"
             ],
             [
              0.2222222222222222,
              "#7201a8"
             ],
             [
              0.3333333333333333,
              "#9c179e"
             ],
             [
              0.4444444444444444,
              "#bd3786"
             ],
             [
              0.5555555555555556,
              "#d8576b"
             ],
             [
              0.6666666666666666,
              "#ed7953"
             ],
             [
              0.7777777777777778,
              "#fb9f3a"
             ],
             [
              0.8888888888888888,
              "#fdca26"
             ],
             [
              1,
              "#f0f921"
             ]
            ],
            "type": "heatmapgl"
           }
          ],
          "histogram": [
           {
            "marker": {
             "colorbar": {
              "outlinewidth": 0,
              "ticks": ""
             }
            },
            "type": "histogram"
           }
          ],
          "histogram2d": [
           {
            "colorbar": {
             "outlinewidth": 0,
             "ticks": ""
            },
            "colorscale": [
             [
              0,
              "#0d0887"
             ],
             [
              0.1111111111111111,
              "#46039f"
             ],
             [
              0.2222222222222222,
              "#7201a8"
             ],
             [
              0.3333333333333333,
              "#9c179e"
             ],
             [
              0.4444444444444444,
              "#bd3786"
             ],
             [
              0.5555555555555556,
              "#d8576b"
             ],
             [
              0.6666666666666666,
              "#ed7953"
             ],
             [
              0.7777777777777778,
              "#fb9f3a"
             ],
             [
              0.8888888888888888,
              "#fdca26"
             ],
             [
              1,
              "#f0f921"
             ]
            ],
            "type": "histogram2d"
           }
          ],
          "histogram2dcontour": [
           {
            "colorbar": {
             "outlinewidth": 0,
             "ticks": ""
            },
            "colorscale": [
             [
              0,
              "#0d0887"
             ],
             [
              0.1111111111111111,
              "#46039f"
             ],
             [
              0.2222222222222222,
              "#7201a8"
             ],
             [
              0.3333333333333333,
              "#9c179e"
             ],
             [
              0.4444444444444444,
              "#bd3786"
             ],
             [
              0.5555555555555556,
              "#d8576b"
             ],
             [
              0.6666666666666666,
              "#ed7953"
             ],
             [
              0.7777777777777778,
              "#fb9f3a"
             ],
             [
              0.8888888888888888,
              "#fdca26"
             ],
             [
              1,
              "#f0f921"
             ]
            ],
            "type": "histogram2dcontour"
           }
          ],
          "mesh3d": [
           {
            "colorbar": {
             "outlinewidth": 0,
             "ticks": ""
            },
            "type": "mesh3d"
           }
          ],
          "parcoords": [
           {
            "line": {
             "colorbar": {
              "outlinewidth": 0,
              "ticks": ""
             }
            },
            "type": "parcoords"
           }
          ],
          "pie": [
           {
            "automargin": true,
            "type": "pie"
           }
          ],
          "scatter": [
           {
            "marker": {
             "colorbar": {
              "outlinewidth": 0,
              "ticks": ""
             }
            },
            "type": "scatter"
           }
          ],
          "scatter3d": [
           {
            "line": {
             "colorbar": {
              "outlinewidth": 0,
              "ticks": ""
             }
            },
            "marker": {
             "colorbar": {
              "outlinewidth": 0,
              "ticks": ""
             }
            },
            "type": "scatter3d"
           }
          ],
          "scattercarpet": [
           {
            "marker": {
             "colorbar": {
              "outlinewidth": 0,
              "ticks": ""
             }
            },
            "type": "scattercarpet"
           }
          ],
          "scattergeo": [
           {
            "marker": {
             "colorbar": {
              "outlinewidth": 0,
              "ticks": ""
             }
            },
            "type": "scattergeo"
           }
          ],
          "scattergl": [
           {
            "marker": {
             "colorbar": {
              "outlinewidth": 0,
              "ticks": ""
             }
            },
            "type": "scattergl"
           }
          ],
          "scattermapbox": [
           {
            "marker": {
             "colorbar": {
              "outlinewidth": 0,
              "ticks": ""
             }
            },
            "type": "scattermapbox"
           }
          ],
          "scatterpolar": [
           {
            "marker": {
             "colorbar": {
              "outlinewidth": 0,
              "ticks": ""
             }
            },
            "type": "scatterpolar"
           }
          ],
          "scatterpolargl": [
           {
            "marker": {
             "colorbar": {
              "outlinewidth": 0,
              "ticks": ""
             }
            },
            "type": "scatterpolargl"
           }
          ],
          "scatterternary": [
           {
            "marker": {
             "colorbar": {
              "outlinewidth": 0,
              "ticks": ""
             }
            },
            "type": "scatterternary"
           }
          ],
          "surface": [
           {
            "colorbar": {
             "outlinewidth": 0,
             "ticks": ""
            },
            "colorscale": [
             [
              0,
              "#0d0887"
             ],
             [
              0.1111111111111111,
              "#46039f"
             ],
             [
              0.2222222222222222,
              "#7201a8"
             ],
             [
              0.3333333333333333,
              "#9c179e"
             ],
             [
              0.4444444444444444,
              "#bd3786"
             ],
             [
              0.5555555555555556,
              "#d8576b"
             ],
             [
              0.6666666666666666,
              "#ed7953"
             ],
             [
              0.7777777777777778,
              "#fb9f3a"
             ],
             [
              0.8888888888888888,
              "#fdca26"
             ],
             [
              1,
              "#f0f921"
             ]
            ],
            "type": "surface"
           }
          ],
          "table": [
           {
            "cells": {
             "fill": {
              "color": "#EBF0F8"
             },
             "line": {
              "color": "white"
             }
            },
            "header": {
             "fill": {
              "color": "#C8D4E3"
             },
             "line": {
              "color": "white"
             }
            },
            "type": "table"
           }
          ]
         },
         "layout": {
          "annotationdefaults": {
           "arrowcolor": "#2a3f5f",
           "arrowhead": 0,
           "arrowwidth": 1
          },
          "coloraxis": {
           "colorbar": {
            "outlinewidth": 0,
            "ticks": ""
           }
          },
          "colorscale": {
           "diverging": [
            [
             0,
             "#8e0152"
            ],
            [
             0.1,
             "#c51b7d"
            ],
            [
             0.2,
             "#de77ae"
            ],
            [
             0.3,
             "#f1b6da"
            ],
            [
             0.4,
             "#fde0ef"
            ],
            [
             0.5,
             "#f7f7f7"
            ],
            [
             0.6,
             "#e6f5d0"
            ],
            [
             0.7,
             "#b8e186"
            ],
            [
             0.8,
             "#7fbc41"
            ],
            [
             0.9,
             "#4d9221"
            ],
            [
             1,
             "#276419"
            ]
           ],
           "sequential": [
            [
             0,
             "#0d0887"
            ],
            [
             0.1111111111111111,
             "#46039f"
            ],
            [
             0.2222222222222222,
             "#7201a8"
            ],
            [
             0.3333333333333333,
             "#9c179e"
            ],
            [
             0.4444444444444444,
             "#bd3786"
            ],
            [
             0.5555555555555556,
             "#d8576b"
            ],
            [
             0.6666666666666666,
             "#ed7953"
            ],
            [
             0.7777777777777778,
             "#fb9f3a"
            ],
            [
             0.8888888888888888,
             "#fdca26"
            ],
            [
             1,
             "#f0f921"
            ]
           ],
           "sequentialminus": [
            [
             0,
             "#0d0887"
            ],
            [
             0.1111111111111111,
             "#46039f"
            ],
            [
             0.2222222222222222,
             "#7201a8"
            ],
            [
             0.3333333333333333,
             "#9c179e"
            ],
            [
             0.4444444444444444,
             "#bd3786"
            ],
            [
             0.5555555555555556,
             "#d8576b"
            ],
            [
             0.6666666666666666,
             "#ed7953"
            ],
            [
             0.7777777777777778,
             "#fb9f3a"
            ],
            [
             0.8888888888888888,
             "#fdca26"
            ],
            [
             1,
             "#f0f921"
            ]
           ]
          },
          "colorway": [
           "#636efa",
           "#EF553B",
           "#00cc96",
           "#ab63fa",
           "#FFA15A",
           "#19d3f3",
           "#FF6692",
           "#B6E880",
           "#FF97FF",
           "#FECB52"
          ],
          "font": {
           "color": "#2a3f5f"
          },
          "geo": {
           "bgcolor": "white",
           "lakecolor": "white",
           "landcolor": "#E5ECF6",
           "showlakes": true,
           "showland": true,
           "subunitcolor": "white"
          },
          "hoverlabel": {
           "align": "left"
          },
          "hovermode": "closest",
          "mapbox": {
           "style": "light"
          },
          "paper_bgcolor": "white",
          "plot_bgcolor": "#E5ECF6",
          "polar": {
           "angularaxis": {
            "gridcolor": "white",
            "linecolor": "white",
            "ticks": ""
           },
           "bgcolor": "#E5ECF6",
           "radialaxis": {
            "gridcolor": "white",
            "linecolor": "white",
            "ticks": ""
           }
          },
          "scene": {
           "xaxis": {
            "backgroundcolor": "#E5ECF6",
            "gridcolor": "white",
            "gridwidth": 2,
            "linecolor": "white",
            "showbackground": true,
            "ticks": "",
            "zerolinecolor": "white"
           },
           "yaxis": {
            "backgroundcolor": "#E5ECF6",
            "gridcolor": "white",
            "gridwidth": 2,
            "linecolor": "white",
            "showbackground": true,
            "ticks": "",
            "zerolinecolor": "white"
           },
           "zaxis": {
            "backgroundcolor": "#E5ECF6",
            "gridcolor": "white",
            "gridwidth": 2,
            "linecolor": "white",
            "showbackground": true,
            "ticks": "",
            "zerolinecolor": "white"
           }
          },
          "shapedefaults": {
           "line": {
            "color": "#2a3f5f"
           }
          },
          "ternary": {
           "aaxis": {
            "gridcolor": "white",
            "linecolor": "white",
            "ticks": ""
           },
           "baxis": {
            "gridcolor": "white",
            "linecolor": "white",
            "ticks": ""
           },
           "bgcolor": "#E5ECF6",
           "caxis": {
            "gridcolor": "white",
            "linecolor": "white",
            "ticks": ""
           }
          },
          "title": {
           "x": 0.05
          },
          "xaxis": {
           "automargin": true,
           "gridcolor": "white",
           "linecolor": "white",
           "ticks": "",
           "title": {
            "standoff": 15
           },
           "zerolinecolor": "white",
           "zerolinewidth": 2
          },
          "yaxis": {
           "automargin": true,
           "gridcolor": "white",
           "linecolor": "white",
           "ticks": "",
           "title": {
            "standoff": 15
           },
           "zerolinecolor": "white",
           "zerolinewidth": 2
          }
         }
        },
        "title": {
         "text": "Scatter Plot"
        },
        "xaxis": {
         "title": {
          "text": "Sample Sizes"
         }
        },
        "yaxis": {
         "title": {
          "text": "Means Diff"
         }
        }
       }
      },
      "text/html": [
       "<div>\n",
       "        \n",
       "        \n",
       "            <div id=\"0ecb0e5a-e6d4-421c-a812-75791b4646f4\" class=\"plotly-graph-div\" style=\"height:525px; width:100%;\"></div>\n",
       "            <script type=\"text/javascript\">\n",
       "                require([\"plotly\"], function(Plotly) {\n",
       "                    window.PLOTLYENV=window.PLOTLYENV || {};\n",
       "                    \n",
       "                if (document.getElementById(\"0ecb0e5a-e6d4-421c-a812-75791b4646f4\")) {\n",
       "                    Plotly.newPlot(\n",
       "                        '0ecb0e5a-e6d4-421c-a812-75791b4646f4',\n",
       "                        [{\"mode\": \"markers\", \"type\": \"scatter\", \"x\": [817, 118, 198, 703, 402, 236, 217, 615, 773, 56, 606, 932, 732, 73, 806, 794, 534, 340, 938, 673, 700, 510, 776, 40, 394, 916, 95, 802, 64, 966, 824, 563, 58, 731, 939, 803, 889, 787, 419, 426, 808, 639, 850, 100, 314, 967, 520, 518, 1, 23, 393, 950, 618, 856, 424, 81, 770, 438, 952, 13, 324, 194, 973, 130, 761, 721, 724, 239, 60, 466, 392, 570, 701, 428, 684, 421, 76, 299, 434, 386, 182, 250, 713, 311, 896, 656, 655, 152, 265, 138, 213, 358, 576, 94, 375, 455, 818, 842, 942, 220, 526, 158, 28, 203, 128, 835, 891, 957, 469, 692, 797, 148, 343, 285, 986, 779, 462, 39, 852, 521, 405, 875, 562, 193, 48, 80, 547, 504, 165, 487, 367, 893, 115, 922, 74, 409, 303, 675, 564, 485, 676, 79, 218, 78, 396, 541, 593, 686, 187, 969, 497, 536, 651, 96, 338, 838, 739, 956, 479, 379, 190, 924, 134, 468, 885, 120, 542, 317, 201, 14, 99, 3, 429, 112, 737, 863, 179, 37, 382, 111, 597, 654, 760, 151, 965, 308, 747, 814, 153, 828, 663, 456, 270, 552, 351, 160, 61, 707, 840, 566, 726, 38, 142, 935, 546, 359, 568, 603, 540, 2, 72, 926, 335, 161, 902, 476, 710, 662, 976, 333, 745, 620, 712, 598, 454, 963, 416, 149, 412, 719, 97, 800, 826, 628, 296, 754, 523, 495, 805, 69, 214, 988, 67, 913, 297, 145, 743, 272, 449, 763, 192, 245, 258, 605, 782, 474, 943, 162, 494, 77, 294, 357, 702, 609, 467, 232, 572, 276, 577, 143, 539, 186, 157, 717, 766, 127, 665, 694, 363, 904, 256, 116, 105, 624, 670, 307, 919, 71, 266, 385, 415, 627, 306, 827, 759, 709, 911, 937, 380, 691, 269, 752, 767, 941, 865, 21, 102, 361, 849, 196, 914, 764, 934, 954, 176, 832, 1000, 450, 29, 507, 25, 735, 992, 530, 866, 669, 559, 781, 697, 122, 244, 596, 619, 237, 472, 613, 999, 33, 249, 644, 83, 689, 629, 955, 758, 970, 103, 30, 742, 693, 978, 248, 327, 247, 749, 588, 989, 883, 881, 642, 257, 991, 543, 312, 89, 34, 233, 869, 778, 506, 129, 283, 113, 84, 62, 816, 459, 328, 452, 360, 35, 279, 772, 7, 771, 723, 195, 183, 483, 41, 907, 734, 381, 848, 277, 243, 146, 353, 173, 591, 522, 498, 70, 216, 238, 623, 422, 316, 417, 275, 384, 851, 921, 837, 720, 463, 185, 511, 811, 144, 45, 441, 126, 496, 994, 274, 553, 823, 775, 5, 68, 410, 690, 565, 332, 505, 364, 718, 439, 344, 398, 622, 242, 119, 304, 423, 376, 864, 753, 492, 121, 888, 397, 177, 728, 617, 982, 945, 20, 403, 168, 164, 532, 407, 599, 962, 321, 178, 282, 602, 453, 211, 281, 815, 910, 998, 854, 513, 538, 264, 354, 831, 290, 736, 968, 631, 348, 790, 339, 366, 267, 169, 516, 329, 645, 49, 972, 687, 10, 9, 812, 953, 253, 908, 836, 98, 227, 612, 915, 635, 583, 940, 983, 561, 519, 777, 508, 626, 948, 15, 87, 975, 640, 807, 587, 445, 59, 951, 293, 918, 997, 637, 711, 698, 223, 845, 810, 917, 172, 821, 150, 251, 166, 878, 765, 280, 180, 477, 209, 879, 395, 580, 897, 22, 110, 389, 537, 331, 16, 847, 892, 813, 614, 671, 664, 527, 325, 801, 985, 432, 430, 313, 334, 355, 882, 729, 107, 408, 708, 53, 649, 92, 575, 197, 50, 221, 646, 855, 482, 621, 903, 531, 298, 104, 974, 679, 391, 833, 137, 544, 42, 124, 632, 305, 6, 262, 399, 680, 346, 388, 234, 502, 746, 529, 133, 435, 503, 188, 478, 979, 268, 171, 377, 947, 874, 551, 19, 668, 411, 556, 859, 414, 515, 31, 895, 871, 85, 578, 685, 971, 762, 829, 114, 356, 514, 109, 589, 557, 977, 286, 106, 616, 12, 843, 560, 448, 846, 212, 785, 473, 215, 996, 984, 688, 295, 252, 600, 93, 91, 231, 436, 809, 584, 205, 310, 636, 341, 884, 54, 181, 52, 271, 549, 780, 230, 63, 509, 650, 135, 225, 931, 289, 475, 677, 880, 155, 727, 841, 638, 643, 131, 458, 586, 287, 820, 960, 108, 949, 501, 839, 672, 11, 706, 32, 442, 191, 714, 199, 278, 744, 796, 322, 550, 370, 88, 990, 90, 387, 47, 768, 486, 920, 625, 741, 894, 457, 929, 101, 887, 870, 740, 319, 226, 55, 558, 573, 315, 123, 524, 901, 964, 204, 400, 660, 491, 499, 980, 489, 27, 406, 224, 569, 512, 207, 147, 431, 189, 139, 451, 658, 302, 349, 898, 383, 857, 65, 595, 219, 667, 390, 443, 844, 8, 755, 17, 657, 18, 222, 769, 320, 873, 373, 786, 890, 273, 460, 793, 141, 798, 446, 757, 830, 362, 804, 352, 791, 401, 309, 261, 661, 229, 751, 876, 946, 927, 184, 995, 582, 26, 170, 961, 156, 254, 682, 345, 548, 705, 610, 601, 784, 853, 641, 465, 208, 461, 425, 905, 571, 925, 652, 722, 43, 783, 481, 246, 819, 300, 861, 440, 993, 699, 666, 464, 330, 899, 342, 535, 132, 163, 336, 57, 633, 525, 374, 371, 288, 733, 909, 284, 437, 683, 292, 241, 347, 860, 470, 318, 936, 611, 82, 799, 647, 756, 867, 872, 928, 125, 608, 533, 834, 136, 4, 900, 24, 695, 653, 906, 259, 581, 154, 825, 716, 579, 774, 750, 493, 323, 368, 555, 795, 585, 86, 730, 240, 418, 174, 175, 484, 117, 630, 263, 634, 725, 858, 912, 648, 75, 202, 433, 260, 944, 574, 886, 958, 36, 291, 923, 545, 528, 981, 822, 51, 738, 862, 427, 228, 567, 413, 378, 696, 326, 604, 789, 490, 480, 447, 369, 301, 554, 500, 255, 420, 471, 592, 206, 365, 674, 678, 868, 404, 44, 66, 167, 987, 748, 659, 517, 959, 337, 350, 444, 792, 930, 715, 210, 235, 590, 200, 788, 704, 594, 681, 159, 372, 607, 877, 933, 488, 140, 46], \"y\": [442.80307896426166, 1861.8844639403014, -543.5205180833254, -450.2038018455569, -785.9406899512578, 87.02853173691074, 471.6328822797532, 174.80195050499788, 96.41830742923958, -38.683937996744135, -85.01856788830628, 618.2757493116551, 347.8402618471264, 1279.5083320619633, 19.69190390329095, 239.92032612704133, 858.502124068531, 267.45051578476705, -485.51709364706403, 2.4768028226135357, -165.695366568174, -294.7583077446434, -142.22315007332872, -2765.3803665681735, -633.9393767204583, -715.0293840354225, -983.1158928839632, -450.5340448724128, -1146.2397415681735, -95.94532516030631, 12.647546053185579, 309.33477552774093, 2135.2532541214823, 10.029517152755943, 352.6181691080783, -20.01221588324188, -173.5199897402763, -25.936116250511986, -74.18794413380601, -831.6532538921165, 715.7297819466785, 226.77632357267248, -28.9971312740563, -181.8253665681732, -668.8429461860087, 173.50290644113375, -148.27075118355788, 528.4077608449534, 6339.4946334318265, -1750.0271056986076, 351.1892899203758, -758.7853665681741, 1231.74867873927, 330.9654278243506, -972.2695175115696, -1358.4559838521236, -242.04952241232968, 453.2800215596799, 264.93265864191017, -1491.813058875865, -1178.2461073089144, -739.8197995578648, 123.4823004410755, -272.7515204143274, -101.79840204780521, 376.79005645540565, 1217.4614842605552, 46.88793887115753, 142.3613000984933, -171.05043094585562, -194.30893799674413, -65.56150691904986, 167.9111812206993, -122.94228245602426, -84.28899229916715, 54.20722250545987, 2039.3235808002482, -40.97693847452865, -265.7380854621824, -694.6452629412306, 923.7803477175403, -776.8013665681738, 202.2604118329491, -916.3638874684948, -434.82233085388725, -12.785854373050825, -85.50689328573026, -562.2356297260685, 593.1399164506947, 1143.9873870550146, -565.9842398076107, 148.38290158825112, -461.7900887903961, -302.7606857171104, 1069.9506334318266, -329.3317401945478, 353.99585592571384, 204.12646241044968, -158.24634321360827, 99.84008797728166, 326.6201087169975, -97.46739188462925, -2795.326795139603, -1263.1408345484688, 732.3227584318265, -36.451474352605146, -53.85890192170882, 278.7391475384102, 859.4114777815066, -138.71634922713383, -402.59194122312874, -325.9513125141202, -650.3770866847917, -657.9194016558922, 21.48854823912916, -77.38084795456598, 524.0162784534714, 1160.7766847138773, -607.3879956761539, -156.16947405377869, 28.356361826889042, 73.5426334318272, -202.30785767137604, -867.007957241749, 597.4113000984926, 381.7196334318269, 167.68658955614046, 126.23074454293783, -415.09324535605265, 45.656851090963755, 443.6908187179306, -458.3485916521604, -874.0792796116511, 515.2614447116521, 655.0351739723665, -391.3928971305213, -238.2281388454012, 257.49759639478907, -19.602884298670688, -961.3713459496175, 290.80824289928205, 765.0769119128399, -964.4686693204676, 573.3151462523401, 101.52998696717987, -230.02107821327445, -122.10570383630147, 1160.7555663764324, -562.5427997232546, -172.50433457642976, -151.38464222209768, -403.285217314442, -662.8648135727817, 1889.6508834318265, 339.9709647927739, 24.184370901994043, 76.6326577890668, 124.88061669542549, 939.2587252898647, 218.4075621917218, -383.9790507787002, -195.35168691449326, 528.270752834811, 464.15061633780897, 111.3161023583798, 73.18630009849403, 568.6145596310889, -816.2119911738519, 718.2160264666527, -790.7910808538873, -414.7578918206982, -4596.8386999015065, 501.38740732460064, 329.23570486039716, -163.53386046233936, -179.89702357860187, 1779.4611138787532, -54.505366568173486, -420.6074608090112, -297.12698818979516, -1154.5254670706854, -44.5497090758181, -405.88957709448914, 1691.3290705179188, -137.10329402931347, -318.1125094253166, -37.04753524287298, -57.19087025367662, -415.59686983614665, 335.8509136250632, 350.2729139748135, -363.3847525330857, 336.30574454293674, 306.79535806950844, 111.23252516971843, 529.7758834318265, 1077.6421744154322, -467.5294118298425, 478.28153819373074, 204.13597618801032, -256.86073846900035, -114.92641919975176, -293.20254966676475, -725.4925323435746, -445.9540845168922, 30.001597220127223, -102.87156375127233, -42.18364185838982, -306.78314434595086, 5571.4946334318265, -127.10258879039611, -313.4988870865327, 356.53940955122926, 2294.2151303262362, -35.244834417397215, 145.06606200325587, -84.03353558225717, 167.53239778227908, 121.83069900559713, -372.79065185345826, -472.8127491185096, 926.3672140769886, 537.4300266902537, -76.72275787252147, 165.1818581014304, -470.21253167720715, -492.228924260482, -40.62617193730148, -175.8961432672022, 208.35416055282803, 101.89669528749619, 239.77588343182651, -377.5828484083668, -60.924156377090185, -241.86347467628184, -423.0345442870057, 217.6150923228397, -386.99021505302153, -80.56499389736564, 1627.7120247361745, 662.1862222168729, -255.94767426048202, -1120.7590979114575, 32.352245699077685, 732.7067546439484, 1879.1980817076892, 462.7005553699146, 305.9946334318265, 43.08928822024609, -167.48046486437306, 128.80192509849257, -134.3257747314383, 1333.0605249046948, 156.5095094648841, -641.1767220668953, -93.70156909981961, 187.59113396204884, 42.71685565404914, -269.32925320785034, -68.49237955518583, 398.824565404615, 844.3041572413495, 565.4219838591762, -248.01439776685947, -508.0021545767395, 523.8437713628609, -913.1592127220192, 771.2373870550146, 98.55529201068202, 1595.725402662596, -381.894976957783, -859.2956891488193, -474.3779780331424, 156.05390818775413, 88.18001202190499, -1037.875445308331, -313.4587500268208, -888.7777008621215, -469.6238238684491, -390.50647276286327, 2098.2993209318265, -787.0139872578293, 313.2184429556364, 1004.7814924061859, -640.8411874636968, 645.1265552559307, -183.41505100778159, 84.5791404740794, 277.68636275513563, 244.16736070455408, 168.7259587330318, -853.2613474294176, 316.67110402006256, 430.7775838550424, 69.9702592552785, 601.8514740524188, 1.0665324439014512, -422.29405386806684, -28.555366568172758, 192.41938017567554, -244.70982753471617, 225.84569726161317, -492.32935613792506, -6.386344251488481, -132.80594460285647, -3179.410128472935, -777.9367391171927, 519.3395087780864, 169.6630668829457, -649.8829175885821, -293.9506619729873, 599.2315444265914, 135.9849974575227, 55.827966765160454, 269.86395161364453, -293.432049260482, 562.8626334318269, 784.7946334318258, -2814.5743320854144, 330.17707919119493, -1957.9053665681731, -425.8849584049076, -498.4499230197871, -78.01857411534365, 153.7567581431431, -6.8117940719112084, -661.736135798943, 389.47926851505326, 94.39276829552728, -560.2430714862057, 828.4946334318265, 156.0936267204179, -922.9706331271391, 289.65075157528554, 327.65353173691074, -171.89851501841804, 181.81595475314862, 2037.3431182803106, -407.55355933925784, -618.9929442079247, 1340.4102960824293, 352.53091790207327, 80.62658891672254, -310.999607405869, 67.62128250834394, 296.24205611223806, 1342.523759645419, -210.7053665681742, -314.26547438488524, -256.56741563022297, 641.4240812845874, -327.9892375359159, 186.0145111076672, 165.82661723749516, -461.0567684373327, -265.2859788130718, -182.06653947009545, -546.780564756169, 48.27442911854632, -288.10193977689596, -324.2018646226479, 170.81753958722584, -188.27884723115676, -164.13677682458365, -1126.966040725476, -689.299484215233, 462.34871068504617, -592.2084735877361, -187.06192183809617, -171.76821241797552, 847.3395946721357, 897.2190150572678, 422.3795891840382, 672.8279667651605, 1104.0430205286011, 370.98237852986495, 41.172193344680636, -210.09682998280732, 42.81985467076447, 591.2640778762707, -3878.819652282459, -475.96056370078986, -158.79293133501233, 3017.7803477175403, -71.5442770740101, -505.6990041891968, -1297.0899819527895, 470.5000979127017, -76.55712640254205, 1595.348291968412, -263.3884977699381, -659.8255300559122, 547.1403027231645, -454.6138571342108, 238.9206262116095, 1112.4040984524017, -364.1149556092696, -882.9954515540085, -412.516927261815, 628.1223830088147, 511.32605105634684, -522.137896688655, -1116.376795139602, -136.24610730891436, -373.0473833748965, -382.601674754369, -247.64991633120735, 258.2129878622054, 373.24763103374426, 90.70917888637268, 562.0883834318265, 58.922365511733005, -380.23935136730506, -432.5662984678147, 452.2140778762714, -51.21378989430741, 11.040579377771792, -512.5347207756095, -100.0811988739697, -1186.2345332348395, 3220.716855654049, -661.0473166815518, -541.6482237110304, 402.0793108511807, -309.0003363870874, -704.0637607287572, 80.19626091826467, 283.49949369914066, 334.83011730279395, -5513.905366568173, -167.82889597993744, 537.6556090415834, 245.3207203883485, -124.90713647967823, -10.225246086245534, 632.2134453130147, -204.31031162311774, 274.33725181622685, 462.0436083748791, 542.4306799434544, 577.720764085092, -497.51018971929807, -545.6499946673466, 562.0744653645997, 607.0209492212998, -410.3895273246744, 321.2925057722514, -252.0516628644691, -331.084383832449, -344.4626836413445, 1931.5524846714961, -73.02451071231735, 101.10924300361512, -640.5279654382302, 595.6594685966611, 353.0051682778558, -294.0868329632849, -682.393197256004, -350.9053665681731, -294.76094969472433, 327.07201438420816, -902.5297568120768, -819.1707801020075, 110.85089878809231, -274.36346339622105, 223.2129286501222, 703.1457237745053, -1486.544692410871, 296.93080364459274, -506.55021706651314, 638.847834314829, 301.33823532756105, -115.83276870340524, 278.54371318642734, 241.9737543109477, 84.94052521539379, -486.3203548585716, 512.2607153031713, 373.03180815301675, -633.9106695984774, -201.48276769811673, -498.7869550158266, -589.1708838095528, -225.52574700295554, 29.215707811992615, -134.40710983283316, 213.2503805582637, -365.55093618842693, 659.8604151427407, 964.4235951804603, 545.6781540310767, -115.55270384628056, 238.12447839306697, 208.02958783912072, 554.2512225791124, 1747.7191232277455, -450.87367932537563, -271.4980885477944, 3513.794633431826, 2953.0501889873813, -472.44009563221334, -245.85898671507857, -445.0903468053275, 309.8867039164088, 66.66927458015198, -308.32169309878554, 458.9439726388755, -224.79294826751902, -665.575311923365, -547.390405938253, 39.11384440952861, 790.5371866233163, 67.79473516122562, -478.76918118492904, -146.85989450651687, -47.18361624642239, -169.64906735557452, -180.1858777502821, -0.8386999015074252, -3454.0386999015063, 427.0348633168833, 201.9130949702885, 28.100883431827242, -183.7234582658184, 6.295314862831219, 426.47440871272556, -70.28502758512332, -57.40336867122278, -991.3278921654437, -241.0195277882176, 712.0252252071532, 152.29840109273755, 522.2695982700825, -293.8105241612975, -1240.7609719493394, -148.5314020711321, 299.04278157997396, -201.60460320939455, -231.51118052166203, -77.92558581299636, 2322.687966765159, -194.453573739489, 45.48860933544165, 321.7770935685003, 343.2292739547029, 84.43034771753992, 501.14463343182615, -445.91836447173773, -160.54842876913062, -76.97521867283831, -723.39903745425, -329.86398725782783, -370.7327913173376, -1953.4144574772636, 207.9764516136438, -959.1737470308981, -865.9709159164049, -208.4932819760288, 307.5571334318265, 306.922024222853, -173.72509750987774, 225.55121399763266, -224.7675815518869, 717.9879270234815, -226.2086798211858, -453.32889597993744, -190.32075118355897, 240.27116277015375, -20.368310730609664, 168.61731861701082, -702.3169944751498, 280.69271649891925, -449.4185402208677, -22.116634173808052, -159.01443686295897, -226.67820607434624, 66.47594184304216, -462.8436018622906, -637.5392648732577, -362.1468760021362, -699.3959674926718, -579.3205839594775, 11.515502997044678, 71.00732378715657, -194.6253665681743, -233.75423534645415, -505.0874099118264, -200.83519112957765, 113.64401102518787, 271.76838544470957, -11.627182736501709, 159.22909670866284, -11.018789386966091, 1153.061941124135, -173.18298463798783, -153.9192104562444, 146.7964237131564, -35.83309766061029, -364.03821328350205, 34.08286872594363, 510.58987152706504, 819.4543108511807, -301.51802479602156, -767.9512682075183, 8603.494633431827, -643.8488780185544, -223.92140666842351, 66.504927549473, 29.02064499252083, 78.51782930811532, -426.77032383313053, -0.04122314187952725, 365.28015622003113, -1021.1821151504046, -328.29484025238344, 612.7291161904468, 495.3017904894805, -710.5000474192366, -558.0304711706831, -7.401178621288636, 283.78194686466304, -687.6340215389337, -539.1260562233456, -17.869674910307367, 744.4191185576838, 304.64708352257003, -298.71589288396353, 191.71319630607832, -524.7778726508986, -102.8183162084606, -247.00944107341275, 10.593667248251222, -348.8587646264259, -2249.053753664948, 145.70915857149157, 449.32126948234327, 1888.4711040200618, 470.9686818747323, -27.611935911239925, -168.0903305228585, -6.13791249993119, -158.01803243065842, -1127.908875340103, 30.309240173399303, 320.9635050271572, -186.62463262321944, -139.54102021842846, 367.0332330727597, 471.1077347624305, 177.43169636888888, 347.37199192239314, -441.7472496850569, -782.6720332348395, 302.66307945792323, -26.351795139602473, -317.1437594253166, -324.2287708234926, -57.722347700248065, 597.5952703745024, 920.5052042563511, -154.74722703328916, 370.5167217852395, 193.91638139930546, -68.38472703328989, -922.6951970766477, 132.32796676516045, -303.9053665681731, 634.8602248296756, -1145.4284434912497, -9.804067866874902, 135.1551838905416, -600.6042540836243, -26.258791225707682, -65.19804949500212, 565.3107624640852, -364.305681033582, -239.44378299046002, 367.40413569427074, 1158.4020408392335, 207.72115276884324, -1304.6207511835582, -32.320864723154955, 162.7441780584195, -369.16049477330125, -471.6792796116515, -394.9815570443643, 458.83844482671884, -477.7207511835586, -369.97944064224794, 533.5924112096036, -29.55155346398533, -326.32889597993744, 261.27989658972183, -422.2719839980109, 663.4105425227353, -78.42794721333485, 132.9182923039043, -15.771716152003137, 8.52598139420843, 274.3188947070994, 223.1969235081615, 634.252275353223, 563.5697187560581, 383.58522576632095, -453.9736592510999, -325.51890823484064, 762.1890778762718, -453.73929702128225, 530.5225775436029, -127.84505667544363, -620.0261999015074, 1723.5855425227364, -74.08751954267791, -2297.4116165681735, -265.49179190753966, 373.5836386674291, -65.94934415920943, -1057.002854005359, -427.71399966169884, -110.15993646064635, -757.5744620455607, -678.1420125309069, 637.0673607045537, -565.8350962979039, 743.9037243409166, -204.2053665681742, -1130.572033234841, -18.288312304606734, 1014.6010164105501, 397.7133834318265, -331.32841183566234, 189.1598508231309, -76.18376656817418, 84.39206932926209, -112.04899072924673, -556.0370952333815, -103.48922017420227, 323.26691065954947, -91.19984232916613, 114.09463343182688, -75.93509629790242, -89.01947315124562, 1018.2556953787298, -16.050821113627535, 388.46954382609147, -529.2488220655559, -497.38155704436394, 441.6165846513395, 229.88967159976528, 402.04402299897447, 210.16475791315497, -1060.0690920583693, 401.242133431826, -182.4190029318106, 956.0934114359006, -187.8801160671719, 76.8874905746834, -31.333587427068778, -2559.3572184200257, -761.5595537602912, 22.400883431826514, 606.8408548729512, 627.4321334318265, -678.4763810609275, 411.29735452026216, 207.60600234133926, -350.93922900203506, -949.5413377911955, -139.1018188963335, 192.32746017954742, 903.6469513126212, 528.8356076438613, 224.3554352135634, 85.96460732216656, 175.75717718911983, -188.4745973374047, -35.19444219842626, 922.3485147103656, -90.17103373459031, -347.2669050297118, -4.241258216028655, -233.37740448286604, -747.2553665681735, -100.26563146883564, 2323.435809902414, 501.1536897484166, -2614.116477679285, 1483.030669467862, -139.92019101550795, 832.3915084318269, 600.0341523321695, -130.31233707755746, 531.7096461544734, -406.87053510749865, -554.1097621725694, 317.05550299704373, 150.51228790849746, -153.3918913908692, 307.95077378270435, 402.52153926142273, 597.9437747792508, -156.54512560431795, -322.2843720930359, -48.1148193044919, 26.591224340916597, 25.82585972765446, 98.78889777097902, -345.4050429435774, -680.114561970473, -267.6944739811843, 514.4116639995118, -65.47607229387177, 714.3679211030594, 223.7990731781265, 263.8387542516757, 1436.3315899535664, -160.39179872897694, -358.88852808020056, 1891.725402662596, 989.4887510788849, -67.65729164621735, 120.27668471387733, 660.4355783137162, 206.10460410631276, 371.52361893907255, 87.88879401576742, 145.3613000984933, -1.436514109156633, -143.20253794920427, 271.74080690121446, 258.59428173194465, -463.76589698939097, -200.4752590412918, 1734.8071334318265, -46.592134464051924, 327.79816284359185, 156.536622382102, -233.17787094645792, 229.79084964804315, 1169.5713205483917, 107.02510434595388, 465.541145059733, 395.6146845173953, 262.2409951781883, 351.555609041583, 122.08804002523357, -334.5853665681734, 872.7129841867627, 843.1605425227353, 211.2972517601247, 488.56187234455865, -314.0053665681735, 214.24247825941347, -515.7477908105975, -133.82127313102137, -582.4907466851328, 500.78061474023707, 584.2976637348565, -415.8611947890331, 73.15534771754028, 1712.5297211511242, -181.44375519376626, -89.572033234841, 256.41709332487517, 150.82347440217745, 342.53282787627177, -203.25843614525365, 51.2405080192857, 64.81505596703755, -811.2467853324761, -744.5053665681735, -808.5053665681735, 343.25811890900513, 1629.6560167171283, -160.81815726584864, -100.97345167455569, -306.86071248012377, -111.03421272201922, -516.3384271246377, -1863.1273177876865, 218.3469488260689, -195.9891378201046, 88.70495089214455, 305.1809079416307, -208.1945867516606, 282.6465730869986, 416.5026334318263, 198.9041729055116, -304.3796630034449, -30.77634978160313, 1133.8475746082968, 2209.9946334318265, 107.45685565404892, 440.2446334318265, -405.58738095666195, -3.026040381342682, -127.91154758362609, 71.67996161715382, 441.38619969688625, -2182.758613321421, -232.39506353786965, -19.65201461286597, -14.826610091489783, 268.0850727083125, -438.0160332348405, -29.470883809552106, -532.4186792616711, -561.4401491768695, 283.07301181020557, 64.40155167082048, 43.93394967114364, 101.78533110624448, 346.68230466470413, -583.1803665681728, -109.44795030023124, 504.3049782594135, 103.8317762889692, 525.6000053326534, 674.7852317224242, -304.25298561579257, -630.5053665681735, 41.92996466211116, 227.84084032837745, -442.1032686660765, -120.99878762080516, 6.517781579974326, -1703.2786999015061, -1095.2825942909458, -50.79405017094541, 533.2523257395187, -300.6685021613939, -462.10118538350434, -388.0742153266383, 404.98523885980103, -1950.5886999015074, -554.1823425131915, 538.5000505499193, 112.604725174946, -159.02051808332544, -140.14247156307647, 844.6527842834075, -257.23085676425217, 314.5285087705797, 243.7034501371636, -154.03698249323133, -1322.7729104278224, 131.33943060995625, -606.3746159628463, -56.542403605209984, 1065.6296909030916, -485.6403358933276, 49.65854071659487, 59.68094521889907, -445.38904003756033, 202.35921676516045, 212.6892643043102, 455.2805412909056, -673.9870941429235, -268.5504929219642, 729.3626334318269, -35.30144499954622, -820.8244141872219, 28.54134256133875, 264.4946334318265, 118.35871110172957, 411.09737315785424, -125.19676122692726, 143.5211821043922, 283.52573942261006, -535.2924952810445, 339.9946334318265, -521.3690029318095, -245.2239294424253, -263.74042229259067, -304.3409280654996, -386.5706169475361, 118.14260248405117, 61.23707347353593, -1332.606256775889, -85.87108085388718, 86.4473361345299, 106.98705767425054, 505.9483968726872, -65.62424768705387, 348.9374905746845, 993.7371866233152, -91.91384114444554, 1489.684633431827, 173.72432886329807, 6.657985704554449, 66.99968393687777, 453.53281258013703, 234.2430611047821, 0.8091495608587138, 411.45015237746156, -142.3708169672609, -93.55895713623431, -351.70003869932043, 1498.037490574683, 2846.2989812579126]}],\n",
       "                        {\"template\": {\"data\": {\"bar\": [{\"error_x\": {\"color\": \"#2a3f5f\"}, \"error_y\": {\"color\": \"#2a3f5f\"}, \"marker\": {\"line\": {\"color\": \"#E5ECF6\", \"width\": 0.5}}, \"type\": \"bar\"}], \"barpolar\": [{\"marker\": {\"line\": {\"color\": \"#E5ECF6\", \"width\": 0.5}}, \"type\": \"barpolar\"}], \"carpet\": [{\"aaxis\": {\"endlinecolor\": \"#2a3f5f\", \"gridcolor\": \"white\", \"linecolor\": \"white\", \"minorgridcolor\": \"white\", \"startlinecolor\": \"#2a3f5f\"}, \"baxis\": {\"endlinecolor\": \"#2a3f5f\", \"gridcolor\": \"white\", \"linecolor\": \"white\", \"minorgridcolor\": \"white\", \"startlinecolor\": \"#2a3f5f\"}, \"type\": \"carpet\"}], \"choropleth\": [{\"colorbar\": {\"outlinewidth\": 0, \"ticks\": \"\"}, \"type\": \"choropleth\"}], \"contour\": [{\"colorbar\": {\"outlinewidth\": 0, \"ticks\": \"\"}, \"colorscale\": [[0.0, \"#0d0887\"], [0.1111111111111111, \"#46039f\"], [0.2222222222222222, \"#7201a8\"], [0.3333333333333333, \"#9c179e\"], [0.4444444444444444, \"#bd3786\"], [0.5555555555555556, \"#d8576b\"], [0.6666666666666666, \"#ed7953\"], [0.7777777777777778, \"#fb9f3a\"], [0.8888888888888888, \"#fdca26\"], [1.0, \"#f0f921\"]], \"type\": \"contour\"}], \"contourcarpet\": [{\"colorbar\": {\"outlinewidth\": 0, \"ticks\": \"\"}, \"type\": \"contourcarpet\"}], \"heatmap\": [{\"colorbar\": {\"outlinewidth\": 0, \"ticks\": \"\"}, \"colorscale\": [[0.0, \"#0d0887\"], [0.1111111111111111, \"#46039f\"], [0.2222222222222222, \"#7201a8\"], [0.3333333333333333, \"#9c179e\"], [0.4444444444444444, \"#bd3786\"], [0.5555555555555556, \"#d8576b\"], [0.6666666666666666, \"#ed7953\"], [0.7777777777777778, \"#fb9f3a\"], [0.8888888888888888, \"#fdca26\"], [1.0, \"#f0f921\"]], \"type\": \"heatmap\"}], \"heatmapgl\": [{\"colorbar\": {\"outlinewidth\": 0, \"ticks\": \"\"}, \"colorscale\": [[0.0, \"#0d0887\"], [0.1111111111111111, \"#46039f\"], [0.2222222222222222, \"#7201a8\"], [0.3333333333333333, \"#9c179e\"], [0.4444444444444444, \"#bd3786\"], [0.5555555555555556, \"#d8576b\"], [0.6666666666666666, \"#ed7953\"], [0.7777777777777778, \"#fb9f3a\"], [0.8888888888888888, \"#fdca26\"], [1.0, \"#f0f921\"]], \"type\": \"heatmapgl\"}], \"histogram\": [{\"marker\": {\"colorbar\": {\"outlinewidth\": 0, \"ticks\": \"\"}}, \"type\": \"histogram\"}], \"histogram2d\": [{\"colorbar\": {\"outlinewidth\": 0, \"ticks\": \"\"}, \"colorscale\": [[0.0, \"#0d0887\"], [0.1111111111111111, \"#46039f\"], [0.2222222222222222, \"#7201a8\"], [0.3333333333333333, \"#9c179e\"], [0.4444444444444444, \"#bd3786\"], [0.5555555555555556, \"#d8576b\"], [0.6666666666666666, \"#ed7953\"], [0.7777777777777778, \"#fb9f3a\"], [0.8888888888888888, \"#fdca26\"], [1.0, \"#f0f921\"]], \"type\": \"histogram2d\"}], \"histogram2dcontour\": [{\"colorbar\": {\"outlinewidth\": 0, \"ticks\": \"\"}, \"colorscale\": [[0.0, \"#0d0887\"], [0.1111111111111111, \"#46039f\"], [0.2222222222222222, \"#7201a8\"], [0.3333333333333333, \"#9c179e\"], [0.4444444444444444, \"#bd3786\"], [0.5555555555555556, \"#d8576b\"], [0.6666666666666666, \"#ed7953\"], [0.7777777777777778, \"#fb9f3a\"], [0.8888888888888888, \"#fdca26\"], [1.0, \"#f0f921\"]], \"type\": \"histogram2dcontour\"}], \"mesh3d\": [{\"colorbar\": {\"outlinewidth\": 0, \"ticks\": \"\"}, \"type\": \"mesh3d\"}], \"parcoords\": [{\"line\": {\"colorbar\": {\"outlinewidth\": 0, \"ticks\": \"\"}}, \"type\": \"parcoords\"}], \"pie\": [{\"automargin\": true, \"type\": \"pie\"}], \"scatter\": [{\"marker\": {\"colorbar\": {\"outlinewidth\": 0, \"ticks\": \"\"}}, \"type\": \"scatter\"}], \"scatter3d\": [{\"line\": {\"colorbar\": {\"outlinewidth\": 0, \"ticks\": \"\"}}, \"marker\": {\"colorbar\": {\"outlinewidth\": 0, \"ticks\": \"\"}}, \"type\": \"scatter3d\"}], \"scattercarpet\": [{\"marker\": {\"colorbar\": {\"outlinewidth\": 0, \"ticks\": \"\"}}, \"type\": \"scattercarpet\"}], \"scattergeo\": [{\"marker\": {\"colorbar\": {\"outlinewidth\": 0, \"ticks\": \"\"}}, \"type\": \"scattergeo\"}], \"scattergl\": [{\"marker\": {\"colorbar\": {\"outlinewidth\": 0, \"ticks\": \"\"}}, \"type\": \"scattergl\"}], \"scattermapbox\": [{\"marker\": {\"colorbar\": {\"outlinewidth\": 0, \"ticks\": \"\"}}, \"type\": \"scattermapbox\"}], \"scatterpolar\": [{\"marker\": {\"colorbar\": {\"outlinewidth\": 0, \"ticks\": \"\"}}, \"type\": \"scatterpolar\"}], \"scatterpolargl\": [{\"marker\": {\"colorbar\": {\"outlinewidth\": 0, \"ticks\": \"\"}}, \"type\": \"scatterpolargl\"}], \"scatterternary\": [{\"marker\": {\"colorbar\": {\"outlinewidth\": 0, \"ticks\": \"\"}}, \"type\": \"scatterternary\"}], \"surface\": [{\"colorbar\": {\"outlinewidth\": 0, \"ticks\": \"\"}, \"colorscale\": [[0.0, \"#0d0887\"], [0.1111111111111111, \"#46039f\"], [0.2222222222222222, \"#7201a8\"], [0.3333333333333333, \"#9c179e\"], [0.4444444444444444, \"#bd3786\"], [0.5555555555555556, \"#d8576b\"], [0.6666666666666666, \"#ed7953\"], [0.7777777777777778, \"#fb9f3a\"], [0.8888888888888888, \"#fdca26\"], [1.0, \"#f0f921\"]], \"type\": \"surface\"}], \"table\": [{\"cells\": {\"fill\": {\"color\": \"#EBF0F8\"}, \"line\": {\"color\": \"white\"}}, \"header\": {\"fill\": {\"color\": \"#C8D4E3\"}, \"line\": {\"color\": \"white\"}}, \"type\": \"table\"}]}, \"layout\": {\"annotationdefaults\": {\"arrowcolor\": \"#2a3f5f\", \"arrowhead\": 0, \"arrowwidth\": 1}, \"coloraxis\": {\"colorbar\": {\"outlinewidth\": 0, \"ticks\": \"\"}}, \"colorscale\": {\"diverging\": [[0, \"#8e0152\"], [0.1, \"#c51b7d\"], [0.2, \"#de77ae\"], [0.3, \"#f1b6da\"], [0.4, \"#fde0ef\"], [0.5, \"#f7f7f7\"], [0.6, \"#e6f5d0\"], [0.7, \"#b8e186\"], [0.8, \"#7fbc41\"], [0.9, \"#4d9221\"], [1, \"#276419\"]], \"sequential\": [[0.0, \"#0d0887\"], [0.1111111111111111, \"#46039f\"], [0.2222222222222222, \"#7201a8\"], [0.3333333333333333, \"#9c179e\"], [0.4444444444444444, \"#bd3786\"], [0.5555555555555556, \"#d8576b\"], [0.6666666666666666, \"#ed7953\"], [0.7777777777777778, \"#fb9f3a\"], [0.8888888888888888, \"#fdca26\"], [1.0, \"#f0f921\"]], \"sequentialminus\": [[0.0, \"#0d0887\"], [0.1111111111111111, \"#46039f\"], [0.2222222222222222, \"#7201a8\"], [0.3333333333333333, \"#9c179e\"], [0.4444444444444444, \"#bd3786\"], [0.5555555555555556, \"#d8576b\"], [0.6666666666666666, \"#ed7953\"], [0.7777777777777778, \"#fb9f3a\"], [0.8888888888888888, \"#fdca26\"], [1.0, \"#f0f921\"]]}, \"colorway\": [\"#636efa\", \"#EF553B\", \"#00cc96\", \"#ab63fa\", \"#FFA15A\", \"#19d3f3\", \"#FF6692\", \"#B6E880\", \"#FF97FF\", \"#FECB52\"], \"font\": {\"color\": \"#2a3f5f\"}, \"geo\": {\"bgcolor\": \"white\", \"lakecolor\": \"white\", \"landcolor\": \"#E5ECF6\", \"showlakes\": true, \"showland\": true, \"subunitcolor\": \"white\"}, \"hoverlabel\": {\"align\": \"left\"}, \"hovermode\": \"closest\", \"mapbox\": {\"style\": \"light\"}, \"paper_bgcolor\": \"white\", \"plot_bgcolor\": \"#E5ECF6\", \"polar\": {\"angularaxis\": {\"gridcolor\": \"white\", \"linecolor\": \"white\", \"ticks\": \"\"}, \"bgcolor\": \"#E5ECF6\", \"radialaxis\": {\"gridcolor\": \"white\", \"linecolor\": \"white\", \"ticks\": \"\"}}, \"scene\": {\"xaxis\": {\"backgroundcolor\": \"#E5ECF6\", \"gridcolor\": \"white\", \"gridwidth\": 2, \"linecolor\": \"white\", \"showbackground\": true, \"ticks\": \"\", \"zerolinecolor\": \"white\"}, \"yaxis\": {\"backgroundcolor\": \"#E5ECF6\", \"gridcolor\": \"white\", \"gridwidth\": 2, \"linecolor\": \"white\", \"showbackground\": true, \"ticks\": \"\", \"zerolinecolor\": \"white\"}, \"zaxis\": {\"backgroundcolor\": \"#E5ECF6\", \"gridcolor\": \"white\", \"gridwidth\": 2, \"linecolor\": \"white\", \"showbackground\": true, \"ticks\": \"\", \"zerolinecolor\": \"white\"}}, \"shapedefaults\": {\"line\": {\"color\": \"#2a3f5f\"}}, \"ternary\": {\"aaxis\": {\"gridcolor\": \"white\", \"linecolor\": \"white\", \"ticks\": \"\"}, \"baxis\": {\"gridcolor\": \"white\", \"linecolor\": \"white\", \"ticks\": \"\"}, \"bgcolor\": \"#E5ECF6\", \"caxis\": {\"gridcolor\": \"white\", \"linecolor\": \"white\", \"ticks\": \"\"}}, \"title\": {\"x\": 0.05}, \"xaxis\": {\"automargin\": true, \"gridcolor\": \"white\", \"linecolor\": \"white\", \"ticks\": \"\", \"title\": {\"standoff\": 15}, \"zerolinecolor\": \"white\", \"zerolinewidth\": 2}, \"yaxis\": {\"automargin\": true, \"gridcolor\": \"white\", \"linecolor\": \"white\", \"ticks\": \"\", \"title\": {\"standoff\": 15}, \"zerolinecolor\": \"white\", \"zerolinewidth\": 2}}}, \"title\": {\"text\": \"Scatter Plot\"}, \"xaxis\": {\"title\": {\"text\": \"Sample Sizes\"}}, \"yaxis\": {\"title\": {\"text\": \"Means Diff\"}}},\n",
       "                        {\"responsive\": true}\n",
       "                    ).then(function(){\n",
       "                            \n",
       "var gd = document.getElementById('0ecb0e5a-e6d4-421c-a812-75791b4646f4');\n",
       "var x = new MutationObserver(function (mutations, observer) {{\n",
       "        var display = window.getComputedStyle(gd).display;\n",
       "        if (!display || display === 'none') {{\n",
       "            console.log([gd, 'removed!']);\n",
       "            Plotly.purge(gd);\n",
       "            observer.disconnect();\n",
       "        }}\n",
       "}});\n",
       "\n",
       "// Listen for the removal of the full notebook cells\n",
       "var notebookContainer = gd.closest('#notebook-container');\n",
       "if (notebookContainer) {{\n",
       "    x.observe(notebookContainer, {childList: true});\n",
       "}}\n",
       "\n",
       "// Listen for the clearing of the current output cell\n",
       "var outputEl = gd.closest('.output');\n",
       "if (outputEl) {{\n",
       "    x.observe(outputEl, {childList: true});\n",
       "}}\n",
       "\n",
       "                        })\n",
       "                };\n",
       "                });\n",
       "            </script>\n",
       "        </div>"
      ]
     },
     "metadata": {},
     "output_type": "display_data"
    }
   ],
   "source": [
    "import plotly.offline as py \n",
    "import plotly.graph_objs as go \n",
    "py.init_notebook_mode(connected=True)\n",
    "from plotly import tools\n",
    "trace0 = go.Scatter(x=sample_sizes_big,\n",
    "                    y=means_diff_big,\n",
    "                    mode='markers'\n",
    "                    )\n",
    "data=[trace0]\n",
    "layout = go.Layout(\n",
    "    title='Scatter Plot',\n",
    "    xaxis={'title': 'Sample Sizes'},\n",
    "    yaxis={\n",
    "        'title': 'Means Diff'\n",
    "    })\n",
    "\n",
    "fig = go.Figure(data=data, layout=layout)\n",
    "\n",
    "fig.show()\n"
   ]
  },
  {
   "cell_type": "code",
   "execution_count": null,
   "metadata": {},
   "outputs": [],
   "source": []
  }
 ],
 "metadata": {
  "kernelspec": {
   "display_name": "Python 3",
   "language": "python",
   "name": "python3"
  },
  "language_info": {
   "codemirror_mode": {
    "name": "ipython",
    "version": 3
   },
   "file_extension": ".py",
   "mimetype": "text/x-python",
   "name": "python",
   "nbconvert_exporter": "python",
   "pygments_lexer": "ipython3",
   "version": "3.7.3"
  }
 },
 "nbformat": 4,
 "nbformat_minor": 2
}
