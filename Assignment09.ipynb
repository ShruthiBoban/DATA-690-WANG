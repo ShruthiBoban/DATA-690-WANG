{
 "cells": [
  {
   "cell_type": "markdown",
   "metadata": {},
   "source": [
    "# Assignment 9\n",
    "\n",
    "For this assignment , we will use the college scorecard dataset."
   ]
  },
  {
   "cell_type": "markdown",
   "metadata": {},
   "source": [
    "1 - Import necessary libraries"
   ]
  },
  {
   "cell_type": "code",
   "execution_count": 1,
   "metadata": {},
   "outputs": [],
   "source": [
    "import os\n",
    "import pandas as pd\n",
    "import matplotlib.pyplot as plt\n",
    "from matplotlib.pyplot import figure \n",
    "import numpy as np"
   ]
  },
  {
   "cell_type": "code",
   "execution_count": 2,
   "metadata": {},
   "outputs": [
    {
     "data": {
      "text/plain": [
       "'C:\\\\Users\\\\shrut\\\\Assignment07'"
      ]
     },
     "execution_count": 2,
     "metadata": {},
     "output_type": "execute_result"
    }
   ],
   "source": [
    "os.getcwd()"
   ]
  },
  {
   "cell_type": "markdown",
   "metadata": {},
   "source": [
    "\n",
    "2 - Retrieve the names of the 22 files and assign them to a List variable, filter out other files\n",
    "\n",
    "Display the names of these 22 files"
   ]
  },
  {
   "cell_type": "code",
   "execution_count": 3,
   "metadata": {},
   "outputs": [
    {
     "data": {
      "text/plain": [
       "['.ipynb_checkpoints',\n",
       " 'a.DS_Store',\n",
       " 'Crosswalks.zip',\n",
       " 'data.yaml',\n",
       " 'MERGED1996_97_PP.csv',\n",
       " 'MERGED1997_98_PP.csv',\n",
       " 'MERGED1998_99_PP.csv',\n",
       " 'MERGED1999_00_PP.csv',\n",
       " 'MERGED2000_01_PP.csv',\n",
       " 'MERGED2001_02_PP.csv',\n",
       " 'MERGED2002_03_PP.csv',\n",
       " 'MERGED2003_04_PP.csv',\n",
       " 'MERGED2004_05_PP.csv',\n",
       " 'MERGED2005_06_PP.csv',\n",
       " 'MERGED2006_07_PP.csv',\n",
       " 'MERGED2007_08_PP.csv',\n",
       " 'MERGED2008_09_PP.csv',\n",
       " 'MERGED2009_10_PP.csv',\n",
       " 'MERGED2010_11_PP.csv',\n",
       " 'MERGED2011_12_PP.csv',\n",
       " 'MERGED2012_13_PP.csv',\n",
       " 'MERGED2013_14_PP.csv',\n",
       " 'MERGED2014_15_PP.csv',\n",
       " 'MERGED2015_16_PP.csv',\n",
       " 'MERGED2016_17_PP.csv',\n",
       " 'MERGED2017_18_PP.csv',\n",
       " 'MERGED2018_19_PP.csv']"
      ]
     },
     "execution_count": 3,
     "metadata": {},
     "output_type": "execute_result"
    }
   ],
   "source": [
    "DATA_FOLDER = \"../Assignment07/CollegeScorecard_Raw_Data/\"\n",
    "file_list = os.listdir(DATA_FOLDER)\n",
    "file_list"
   ]
  },
  {
   "cell_type": "code",
   "execution_count": 4,
   "metadata": {},
   "outputs": [
    {
     "data": {
      "text/plain": [
       "['MERGED1996_97_PP.csv',\n",
       " 'MERGED1997_98_PP.csv',\n",
       " 'MERGED1998_99_PP.csv',\n",
       " 'MERGED1999_00_PP.csv',\n",
       " 'MERGED2000_01_PP.csv',\n",
       " 'MERGED2001_02_PP.csv',\n",
       " 'MERGED2002_03_PP.csv',\n",
       " 'MERGED2003_04_PP.csv',\n",
       " 'MERGED2004_05_PP.csv',\n",
       " 'MERGED2005_06_PP.csv',\n",
       " 'MERGED2006_07_PP.csv',\n",
       " 'MERGED2007_08_PP.csv',\n",
       " 'MERGED2008_09_PP.csv',\n",
       " 'MERGED2009_10_PP.csv',\n",
       " 'MERGED2010_11_PP.csv',\n",
       " 'MERGED2011_12_PP.csv',\n",
       " 'MERGED2012_13_PP.csv',\n",
       " 'MERGED2013_14_PP.csv',\n",
       " 'MERGED2014_15_PP.csv',\n",
       " 'MERGED2015_16_PP.csv',\n",
       " 'MERGED2016_17_PP.csv',\n",
       " 'MERGED2017_18_PP.csv',\n",
       " 'MERGED2018_19_PP.csv']"
      ]
     },
     "execution_count": 4,
     "metadata": {},
     "output_type": "execute_result"
    }
   ],
   "source": [
    "file_name_list = [x for x in file_list if x.endswith(\".csv\")]\n",
    "file_name_list"
   ]
  },
  {
   "cell_type": "markdown",
   "metadata": {},
   "source": [
    "3 - Write code to randomly select one file name out of the 22 files names\n",
    "\n",
    "Display the file name"
   ]
  },
  {
   "cell_type": "code",
   "execution_count": 5,
   "metadata": {},
   "outputs": [
    {
     "data": {
      "text/plain": [
       "'MERGED1997_98_PP.csv'"
      ]
     },
     "execution_count": 5,
     "metadata": {},
     "output_type": "execute_result"
    }
   ],
   "source": [
    "import random\n",
    "random.choice(file_name_list)"
   ]
  },
  {
   "cell_type": "markdown",
   "metadata": {},
   "source": [
    "4 - Only read the two columns: college name (INSTNM) and in state tution (\"TUITIONFEE_IN\") from this file into a data frame aand display use info() function to display a summary information"
   ]
  },
  {
   "cell_type": "code",
   "execution_count": 6,
   "metadata": {},
   "outputs": [
    {
     "name": "stdout",
     "output_type": "stream",
     "text": [
      "Reading file MERGED1996_97_PP.csv ......\n",
      "Reading file MERGED1997_98_PP.csv ......\n",
      "Reading file MERGED1998_99_PP.csv ......\n",
      "Reading file MERGED1999_00_PP.csv ......\n",
      "Reading file MERGED2000_01_PP.csv ......\n",
      "Reading file MERGED2001_02_PP.csv ......\n",
      "Reading file MERGED2002_03_PP.csv ......\n",
      "Reading file MERGED2003_04_PP.csv ......\n",
      "Reading file MERGED2004_05_PP.csv ......\n",
      "Reading file MERGED2005_06_PP.csv ......\n",
      "Reading file MERGED2006_07_PP.csv ......\n",
      "Reading file MERGED2007_08_PP.csv ......\n",
      "Reading file MERGED2008_09_PP.csv ......\n",
      "Reading file MERGED2009_10_PP.csv ......\n",
      "Reading file MERGED2010_11_PP.csv ......\n",
      "Reading file MERGED2011_12_PP.csv ......\n",
      "Reading file MERGED2012_13_PP.csv ......\n",
      "Reading file MERGED2013_14_PP.csv ......\n",
      "Reading file MERGED2014_15_PP.csv ......\n",
      "Reading file MERGED2015_16_PP.csv ......\n",
      "Reading file MERGED2016_17_PP.csv ......\n",
      "Reading file MERGED2017_18_PP.csv ......\n",
      "Reading file MERGED2018_19_PP.csv ......\n",
      "<class 'pandas.core.frame.DataFrame'>\n",
      "RangeIndex: 163331 entries, 0 to 163330\n",
      "Data columns (total 2 columns):\n",
      "INSTNM           163331 non-null object\n",
      "TUITIONFEE_IN    79194 non-null float64\n",
      "dtypes: float64(1), object(1)\n",
      "memory usage: 2.5+ MB\n"
     ]
    }
   ],
   "source": [
    "COLUMN_LIST = [\"INSTNM\", \"TUITIONFEE_IN\"]\n",
    "df_list = []\n",
    "\n",
    "for file in file_name_list:\n",
    "    print(\"Reading file \" + file + \" ......\")\n",
    "    tmp_df = pd.read_csv(DATA_FOLDER + file, usecols=COLUMN_LIST)\n",
    "    #tmp_df[\"YEAR\"] = file[6:13]\n",
    "    df_list.append(tmp_df)\n",
    "    \n",
    "df = pd.concat(df_list, ignore_index = True)\n",
    "df.info()"
   ]
  },
  {
   "cell_type": "code",
   "execution_count": 7,
   "metadata": {},
   "outputs": [
    {
     "data": {
      "text/html": [
       "<div>\n",
       "<style scoped>\n",
       "    .dataframe tbody tr th:only-of-type {\n",
       "        vertical-align: middle;\n",
       "    }\n",
       "\n",
       "    .dataframe tbody tr th {\n",
       "        vertical-align: top;\n",
       "    }\n",
       "\n",
       "    .dataframe thead th {\n",
       "        text-align: right;\n",
       "    }\n",
       "</style>\n",
       "<table border=\"1\" class=\"dataframe\">\n",
       "  <thead>\n",
       "    <tr style=\"text-align: right;\">\n",
       "      <th></th>\n",
       "      <th>INSTNM</th>\n",
       "      <th>TUITIONFEE_IN</th>\n",
       "    </tr>\n",
       "  </thead>\n",
       "  <tbody>\n",
       "    <tr>\n",
       "      <th>0</th>\n",
       "      <td>Community College of the Air Force</td>\n",
       "      <td>NaN</td>\n",
       "    </tr>\n",
       "    <tr>\n",
       "      <th>1</th>\n",
       "      <td>Alabama A &amp; M University</td>\n",
       "      <td>NaN</td>\n",
       "    </tr>\n",
       "    <tr>\n",
       "      <th>2</th>\n",
       "      <td>University of Alabama at Birmingham</td>\n",
       "      <td>NaN</td>\n",
       "    </tr>\n",
       "    <tr>\n",
       "      <th>3</th>\n",
       "      <td>ALABAMA AVIATION AND TECHNICAL COLLEGE</td>\n",
       "      <td>NaN</td>\n",
       "    </tr>\n",
       "    <tr>\n",
       "      <th>4</th>\n",
       "      <td>Amridge University</td>\n",
       "      <td>NaN</td>\n",
       "    </tr>\n",
       "  </tbody>\n",
       "</table>\n",
       "</div>"
      ],
      "text/plain": [
       "                                   INSTNM  TUITIONFEE_IN\n",
       "0      Community College of the Air Force            NaN\n",
       "1                Alabama A & M University            NaN\n",
       "2     University of Alabama at Birmingham            NaN\n",
       "3  ALABAMA AVIATION AND TECHNICAL COLLEGE            NaN\n",
       "4                      Amridge University            NaN"
      ]
     },
     "execution_count": 7,
     "metadata": {},
     "output_type": "execute_result"
    }
   ],
   "source": [
    "df.reset_index(drop=True, inplace=True)\n",
    "df.head(5)"
   ]
  },
  {
   "cell_type": "code",
   "execution_count": 8,
   "metadata": {},
   "outputs": [
    {
     "data": {
      "text/plain": [
       "(163331, 2)"
      ]
     },
     "execution_count": 8,
     "metadata": {},
     "output_type": "execute_result"
    }
   ],
   "source": [
    "df.shape"
   ]
  },
  {
   "cell_type": "markdown",
   "metadata": {},
   "source": [
    "5 - Find out how many observations have missing value."
   ]
  },
  {
   "cell_type": "code",
   "execution_count": 9,
   "metadata": {},
   "outputs": [
    {
     "data": {
      "text/plain": [
       "INSTNM               0\n",
       "TUITIONFEE_IN    84137\n",
       "dtype: int64"
      ]
     },
     "execution_count": 9,
     "metadata": {},
     "output_type": "execute_result"
    }
   ],
   "source": [
    "df.isnull().sum()"
   ]
  },
  {
   "cell_type": "markdown",
   "metadata": {},
   "source": [
    "7 - Find out how many observations have 0 tution."
   ]
  },
  {
   "cell_type": "code",
   "execution_count": 10,
   "metadata": {},
   "outputs": [
    {
     "data": {
      "text/plain": [
       "INSTNM            True\n",
       "TUITIONFEE_IN    False\n",
       "dtype: bool"
      ]
     },
     "execution_count": 10,
     "metadata": {},
     "output_type": "execute_result"
    }
   ],
   "source": [
    "(df != 0).all()"
   ]
  },
  {
   "cell_type": "markdown",
   "metadata": {},
   "source": [
    "6 - Drop those observations with missing value. Display the number of observations afterward. \n",
    "\n",
    "8 - Drop those observations with 0 tuition. Display the number of observations afterward."
   ]
  },
  {
   "cell_type": "code",
   "execution_count": 11,
   "metadata": {},
   "outputs": [],
   "source": [
    "df.dropna(subset = [\"TUITIONFEE_IN\"], inplace=True)"
   ]
  },
  {
   "cell_type": "code",
   "execution_count": 12,
   "metadata": {},
   "outputs": [
    {
     "data": {
      "text/plain": [
       "(79194, 2)"
      ]
     },
     "execution_count": 12,
     "metadata": {},
     "output_type": "execute_result"
    }
   ],
   "source": [
    "df.shape"
   ]
  },
  {
   "cell_type": "code",
   "execution_count": 13,
   "metadata": {},
   "outputs": [
    {
     "data": {
      "text/html": [
       "<div>\n",
       "<style scoped>\n",
       "    .dataframe tbody tr th:only-of-type {\n",
       "        vertical-align: middle;\n",
       "    }\n",
       "\n",
       "    .dataframe tbody tr th {\n",
       "        vertical-align: top;\n",
       "    }\n",
       "\n",
       "    .dataframe thead th {\n",
       "        text-align: right;\n",
       "    }\n",
       "</style>\n",
       "<table border=\"1\" class=\"dataframe\">\n",
       "  <thead>\n",
       "    <tr style=\"text-align: right;\">\n",
       "      <th></th>\n",
       "      <th>INSTNM</th>\n",
       "      <th>TUITIONFEE_IN</th>\n",
       "    </tr>\n",
       "  </thead>\n",
       "  <tbody>\n",
       "    <tr>\n",
       "      <th>111956</th>\n",
       "      <td>Georgia Southwestern State University</td>\n",
       "      <td>4914.0</td>\n",
       "    </tr>\n",
       "    <tr>\n",
       "      <th>158843</th>\n",
       "      <td>St Paul's School of Nursing-Staten Island</td>\n",
       "      <td>17395.0</td>\n",
       "    </tr>\n",
       "    <tr>\n",
       "      <th>147785</th>\n",
       "      <td>Institute of Production and Recording</td>\n",
       "      <td>17460.0</td>\n",
       "    </tr>\n",
       "    <tr>\n",
       "      <th>71809</th>\n",
       "      <td>Victoria College</td>\n",
       "      <td>1390.0</td>\n",
       "    </tr>\n",
       "    <tr>\n",
       "      <th>76777</th>\n",
       "      <td>ITT Technical Institute-Earth City</td>\n",
       "      <td>15600.0</td>\n",
       "    </tr>\n",
       "  </tbody>\n",
       "</table>\n",
       "</div>"
      ],
      "text/plain": [
       "                                           INSTNM  TUITIONFEE_IN\n",
       "111956      Georgia Southwestern State University         4914.0\n",
       "158843  St Paul's School of Nursing-Staten Island        17395.0\n",
       "147785      Institute of Production and Recording        17460.0\n",
       "71809                            Victoria College         1390.0\n",
       "76777          ITT Technical Institute-Earth City        15600.0"
      ]
     },
     "execution_count": 13,
     "metadata": {},
     "output_type": "execute_result"
    }
   ],
   "source": [
    "df.sample(5)"
   ]
  },
  {
   "cell_type": "markdown",
   "metadata": {},
   "source": [
    "9 - Calculate and display the mean (average) of the tuitions of all the remaining observations"
   ]
  },
  {
   "cell_type": "code",
   "execution_count": 14,
   "metadata": {},
   "outputs": [],
   "source": [
    "df_mean = df[\"TUITIONFEE_IN\"].mean()"
   ]
  },
  {
   "cell_type": "code",
   "execution_count": 15,
   "metadata": {},
   "outputs": [
    {
     "data": {
      "text/plain": [
       "11665.505366568173"
      ]
     },
     "execution_count": 15,
     "metadata": {},
     "output_type": "execute_result"
    }
   ],
   "source": [
    "df_mean"
   ]
  },
  {
   "cell_type": "markdown",
   "metadata": {},
   "source": [
    "10 - Randomly select just 1 observation from the data frame. Display the tuition of that observation."
   ]
  },
  {
   "cell_type": "code",
   "execution_count": 16,
   "metadata": {},
   "outputs": [],
   "source": [
    "randomdf  = df.sample(n = 1)"
   ]
  },
  {
   "cell_type": "code",
   "execution_count": 17,
   "metadata": {},
   "outputs": [
    {
     "data": {
      "text/html": [
       "<div>\n",
       "<style scoped>\n",
       "    .dataframe tbody tr th:only-of-type {\n",
       "        vertical-align: middle;\n",
       "    }\n",
       "\n",
       "    .dataframe tbody tr th {\n",
       "        vertical-align: top;\n",
       "    }\n",
       "\n",
       "    .dataframe thead th {\n",
       "        text-align: right;\n",
       "    }\n",
       "</style>\n",
       "<table border=\"1\" class=\"dataframe\">\n",
       "  <thead>\n",
       "    <tr style=\"text-align: right;\">\n",
       "      <th></th>\n",
       "      <th>INSTNM</th>\n",
       "      <th>TUITIONFEE_IN</th>\n",
       "    </tr>\n",
       "  </thead>\n",
       "  <tbody>\n",
       "    <tr>\n",
       "      <th>71339</th>\n",
       "      <td>Shippensburg University of Pennsylvania</td>\n",
       "      <td>6549.0</td>\n",
       "    </tr>\n",
       "  </tbody>\n",
       "</table>\n",
       "</div>"
      ],
      "text/plain": [
       "                                        INSTNM  TUITIONFEE_IN\n",
       "71339  Shippensburg University of Pennsylvania         6549.0"
      ]
     },
     "execution_count": 17,
     "metadata": {},
     "output_type": "execute_result"
    }
   ],
   "source": [
    "randomdf"
   ]
  },
  {
   "cell_type": "code",
   "execution_count": 18,
   "metadata": {},
   "outputs": [],
   "source": [
    "randomdf.reset_index(drop=True, inplace=True)"
   ]
  },
  {
   "cell_type": "markdown",
   "metadata": {},
   "source": [
    "11 - Calculate the different between the tuition of this observation and the mean tuition off all observations calculated earlier. Display the difference. \n",
    "\n",
    "12 - Repeat 10 to 11 several times get the feel of the size of the difference in means"
   ]
  },
  {
   "cell_type": "code",
   "execution_count": 19,
   "metadata": {},
   "outputs": [],
   "source": [
    "diff = randomdf[\"TUITIONFEE_IN\"] - df_mean"
   ]
  },
  {
   "cell_type": "code",
   "execution_count": 20,
   "metadata": {},
   "outputs": [
    {
     "data": {
      "text/plain": [
       "0   -5116.505367\n",
       "Name: TUITIONFEE_IN, dtype: float64"
      ]
     },
     "execution_count": 20,
     "metadata": {},
     "output_type": "execute_result"
    }
   ],
   "source": [
    "diff"
   ]
  },
  {
   "cell_type": "markdown",
   "metadata": {},
   "source": [
    "13 - Randomly select 20 observations, display the tuition of these observation."
   ]
  },
  {
   "cell_type": "code",
   "execution_count": 21,
   "metadata": {},
   "outputs": [],
   "source": [
    "randdf  = df.sample(n = 20)"
   ]
  },
  {
   "cell_type": "code",
   "execution_count": 22,
   "metadata": {
    "scrolled": false
   },
   "outputs": [
    {
     "data": {
      "text/html": [
       "<div>\n",
       "<style scoped>\n",
       "    .dataframe tbody tr th:only-of-type {\n",
       "        vertical-align: middle;\n",
       "    }\n",
       "\n",
       "    .dataframe tbody tr th {\n",
       "        vertical-align: top;\n",
       "    }\n",
       "\n",
       "    .dataframe thead th {\n",
       "        text-align: right;\n",
       "    }\n",
       "</style>\n",
       "<table border=\"1\" class=\"dataframe\">\n",
       "  <thead>\n",
       "    <tr style=\"text-align: right;\">\n",
       "      <th></th>\n",
       "      <th>INSTNM</th>\n",
       "      <th>TUITIONFEE_IN</th>\n",
       "    </tr>\n",
       "  </thead>\n",
       "  <tbody>\n",
       "    <tr>\n",
       "      <th>134739</th>\n",
       "      <td>California State University-San Bernardino</td>\n",
       "      <td>6577.0</td>\n",
       "    </tr>\n",
       "    <tr>\n",
       "      <th>90960</th>\n",
       "      <td>Truckee Meadows Community College</td>\n",
       "      <td>2010.0</td>\n",
       "    </tr>\n",
       "    <tr>\n",
       "      <th>90842</th>\n",
       "      <td>Park University</td>\n",
       "      <td>8394.0</td>\n",
       "    </tr>\n",
       "    <tr>\n",
       "      <th>149876</th>\n",
       "      <td>Santa Barbara Business College-Bakersfield</td>\n",
       "      <td>10000.0</td>\n",
       "    </tr>\n",
       "    <tr>\n",
       "      <th>129320</th>\n",
       "      <td>Rabbinical College of Long Island</td>\n",
       "      <td>8800.0</td>\n",
       "    </tr>\n",
       "    <tr>\n",
       "      <th>59503</th>\n",
       "      <td>Baker College of Jackson</td>\n",
       "      <td>6120.0</td>\n",
       "    </tr>\n",
       "    <tr>\n",
       "      <th>151972</th>\n",
       "      <td>Richmond Community College</td>\n",
       "      <td>2516.0</td>\n",
       "    </tr>\n",
       "    <tr>\n",
       "      <th>60164</th>\n",
       "      <td>DeVry University-Colorado</td>\n",
       "      <td>11880.0</td>\n",
       "    </tr>\n",
       "    <tr>\n",
       "      <th>45011</th>\n",
       "      <td>Wayland Baptist University</td>\n",
       "      <td>8060.0</td>\n",
       "    </tr>\n",
       "    <tr>\n",
       "      <th>49671</th>\n",
       "      <td>State Technical College of Missouri</td>\n",
       "      <td>3890.0</td>\n",
       "    </tr>\n",
       "    <tr>\n",
       "      <th>82208</th>\n",
       "      <td>Bridgeport Hospital School of Nursing</td>\n",
       "      <td>9273.0</td>\n",
       "    </tr>\n",
       "    <tr>\n",
       "      <th>111963</th>\n",
       "      <td>Gordon State College</td>\n",
       "      <td>3073.0</td>\n",
       "    </tr>\n",
       "    <tr>\n",
       "      <th>100102</th>\n",
       "      <td>Meredith Manor International Equestrian Center</td>\n",
       "      <td>20124.0</td>\n",
       "    </tr>\n",
       "    <tr>\n",
       "      <th>71675</th>\n",
       "      <td>Houston Community College</td>\n",
       "      <td>1302.0</td>\n",
       "    </tr>\n",
       "    <tr>\n",
       "      <th>105857</th>\n",
       "      <td>Hilbert College</td>\n",
       "      <td>18940.0</td>\n",
       "    </tr>\n",
       "    <tr>\n",
       "      <th>55179</th>\n",
       "      <td>MacMurray College</td>\n",
       "      <td>14600.0</td>\n",
       "    </tr>\n",
       "    <tr>\n",
       "      <th>36941</th>\n",
       "      <td>University of Rochester</td>\n",
       "      <td>24754.0</td>\n",
       "    </tr>\n",
       "    <tr>\n",
       "      <th>88892</th>\n",
       "      <td>Cuesta College</td>\n",
       "      <td>860.0</td>\n",
       "    </tr>\n",
       "    <tr>\n",
       "      <th>138464</th>\n",
       "      <td>Saint Martin's University</td>\n",
       "      <td>33194.0</td>\n",
       "    </tr>\n",
       "    <tr>\n",
       "      <th>27950</th>\n",
       "      <td>Community College of Aurora</td>\n",
       "      <td>1471.0</td>\n",
       "    </tr>\n",
       "  </tbody>\n",
       "</table>\n",
       "</div>"
      ],
      "text/plain": [
       "                                                INSTNM  TUITIONFEE_IN\n",
       "134739      California State University-San Bernardino         6577.0\n",
       "90960                Truckee Meadows Community College         2010.0\n",
       "90842                                  Park University         8394.0\n",
       "149876      Santa Barbara Business College-Bakersfield        10000.0\n",
       "129320               Rabbinical College of Long Island         8800.0\n",
       "59503                         Baker College of Jackson         6120.0\n",
       "151972                      Richmond Community College         2516.0\n",
       "60164                        DeVry University-Colorado        11880.0\n",
       "45011                       Wayland Baptist University         8060.0\n",
       "49671              State Technical College of Missouri         3890.0\n",
       "82208            Bridgeport Hospital School of Nursing         9273.0\n",
       "111963                            Gordon State College         3073.0\n",
       "100102  Meredith Manor International Equestrian Center        20124.0\n",
       "71675                        Houston Community College         1302.0\n",
       "105857                                 Hilbert College        18940.0\n",
       "55179                                MacMurray College        14600.0\n",
       "36941                          University of Rochester        24754.0\n",
       "88892                                   Cuesta College          860.0\n",
       "138464                       Saint Martin's University        33194.0\n",
       "27950                      Community College of Aurora         1471.0"
      ]
     },
     "execution_count": 22,
     "metadata": {},
     "output_type": "execute_result"
    }
   ],
   "source": [
    "randdf"
   ]
  },
  {
   "cell_type": "markdown",
   "metadata": {},
   "source": [
    "14 - Calculate and display the mean tuition of these 20 observations"
   ]
  },
  {
   "cell_type": "code",
   "execution_count": 23,
   "metadata": {},
   "outputs": [],
   "source": [
    "df_randmean = randdf[\"TUITIONFEE_IN\"].mean()"
   ]
  },
  {
   "cell_type": "code",
   "execution_count": 24,
   "metadata": {},
   "outputs": [
    {
     "data": {
      "text/plain": [
       "9791.9"
      ]
     },
     "execution_count": 24,
     "metadata": {},
     "output_type": "execute_result"
    }
   ],
   "source": [
    "df_randmean"
   ]
  },
  {
   "cell_type": "markdown",
   "metadata": {},
   "source": [
    "15 - Calculate  the different between the average tuition of these 20 observations and the mean tuition off all observations calculated earlier. Display the difference\n",
    "\n",
    "16 - Repeat 13 to 15 several times and get the feel of the size of the difference in means. "
   ]
  },
  {
   "cell_type": "code",
   "execution_count": 25,
   "metadata": {},
   "outputs": [],
   "source": [
    "maindiff = df_randmean - df_mean"
   ]
  },
  {
   "cell_type": "code",
   "execution_count": 26,
   "metadata": {},
   "outputs": [
    {
     "data": {
      "text/plain": [
       "-1873.6053665681738"
      ]
     },
     "execution_count": 26,
     "metadata": {},
     "output_type": "execute_result"
    }
   ],
   "source": [
    "maindiff"
   ]
  },
  {
   "cell_type": "markdown",
   "metadata": {},
   "source": [
    "17 - Write a function that take two input parameters:\n",
    "\n",
    "- x (number of observations)\n",
    "- y (the name of the dataframe).\n",
    "\n",
    "The function will perform the following:\n",
    "\n",
    "- Randomly select x observations from y\n",
    "- Calculate the mean of these x observations\n",
    "- Calculate the mean of all observations\n",
    "- Calculate the difference between the two means\n",
    "- Return the difference"
   ]
  },
  {
   "cell_type": "code",
   "execution_count": 27,
   "metadata": {},
   "outputs": [],
   "source": [
    "def multiply_values(observations,dataframe):\n",
    "    df_mean = dataframe[\"TUITIONFEE_IN\"].mean() #Calculate the mean of all observations\n",
    "    df_sample = dataframe.sample(n = observations) # Randomly select x observations from y\n",
    "    df_sample_mean = df_sample[\"TUITIONFEE_IN\"].mean() #Calculate the mean of these x observations\n",
    "    diff=   df_sample_mean - df_mean\n",
    "    return diff\n"
   ]
  },
  {
   "cell_type": "markdown",
   "metadata": {},
   "source": [
    "18 - Test the function by passing a sample size and the name of the dataframe. Display the return of the function"
   ]
  },
  {
   "cell_type": "code",
   "execution_count": 28,
   "metadata": {},
   "outputs": [
    {
     "data": {
      "text/plain": [
       "-2680.5053665681735"
      ]
     },
     "execution_count": 28,
     "metadata": {},
     "output_type": "execute_result"
    }
   ],
   "source": [
    "multiply_values(2,df)"
   ]
  },
  {
   "cell_type": "markdown",
   "metadata": {},
   "source": [
    "19 - Create a list of sequence numbers from 1 to 50, name it \"sample_sizes\"; display it to make sure its members are from 1 to 50"
   ]
  },
  {
   "cell_type": "code",
   "execution_count": 29,
   "metadata": {},
   "outputs": [
    {
     "name": "stdout",
     "output_type": "stream",
     "text": [
      "[1, 2, 3, 4, 5, 6, 7, 8, 9, 10, 11, 12, 13, 14, 15, 16, 17, 18, 19, 20, 21, 22, 23, 24, 25, 26, 27, 28, 29, 30, 31, 32, 33, 34, 35, 36, 37, 38, 39, 40, 41, 42, 43, 44, 45, 46, 47, 48, 49, 50]\n"
     ]
    }
   ],
   "source": [
    "sample_sizes = [x for x in range(1, 51)]\n",
    "print(sample_sizes)\n",
    "\n",
    "means_diff = [] #Create an empty list and name it \"means_diff\" for differences of population mean and sample means\n",
    "\n",
    "\n"
   ]
  },
  {
   "cell_type": "markdown",
   "metadata": {},
   "source": [
    "20 - Create an empty list and name it \"means_diff\" for differences of population mean and sample means;\n",
    " - Loop through the list sample_sizes:\n",
    " - For each element in the sample size list, obtain a random sample of that size from the data frame;\n",
    " - Calculate the sample mean \n",
    " - Calculate the difference between the population mean and the sample mean\n",
    " - Append the difference to the list \"means_diff\"\n",
    " - Display the list \"means_diff\" after the loop is completed"
   ]
  },
  {
   "cell_type": "code",
   "execution_count": 30,
   "metadata": {},
   "outputs": [
    {
     "name": "stdout",
     "output_type": "stream",
     "text": [
      "[228.9092675781685, 14683.494633431827, -2268.0053665681735, -321.6592127220192, -1541.9053665681731, 2015.5371866233163, -958.6482237110304, -4338.7553665681735, -4005.791080853888, -5449.0053665681735, 1250.7446334318265, -1995.6848537476599, 866.8946334318262, 825.3517762889696, -6357.5053665681735, -415.927588790395, -267.0886999015074, 516.3424595187826, -431.71589288396353, 6471.661300098494, 5759.294633431826, -659.9377990006051, -1273.1788359559287, -3408.6720332348395, -462.94981101261874, -1274.85019415438, 565.0097849469785, -3486.865366568173, -583.6998110126187, -5065.5053665681735, -441.0053665681735, -119.14173020453745, -608.1095332348395, 37.11001804721127, -318.2653665681737, 2610.044633431826, -223.86900293180952, -261.35536656817385, -1535.3288959799374, 4823.949178886371, 2979.257791326563, 4779.4946334318265, 2152.589871527065, -1224.4355991263128, 2613.173204860397, 1544.3383834318265, -2453.711248921114, -2093.0705839594775, 960.7089191461127, -1746.5376246326905]\n"
     ]
    }
   ],
   "source": [
    "import random\n",
    "random.shuffle(sample_sizes)\n",
    "for x in sample_sizes:\n",
    "    new_sample = df.sample(n=x)\n",
    "    df_new_sample_mean = new_sample[\"TUITIONFEE_IN\"].mean()\n",
    "    df_population_mean = df[\"TUITIONFEE_IN\"].mean()\n",
    "    diff_new = df_new_sample_mean - df_population_mean  \n",
    "    means_diff.append (diff_new)\n",
    "  # print(means_diff)\n",
    "print(means_diff)\n"
   ]
  },
  {
   "cell_type": "markdown",
   "metadata": {},
   "source": [
    "21 - Make a scatter plot with sample size on the x-axs and  mean difference on the y-axis. Observe as the sample size increases, the sample means converge to the population mean."
   ]
  },
  {
   "cell_type": "code",
   "execution_count": 31,
   "metadata": {},
   "outputs": [
    {
     "data": {
      "image/png": "[encoded data removed]",
      "text/plain": [
       "<Figure size 720x720 with 1 Axes>"
      ]
     },
     "metadata": {
      "needs_background": "light"
     },
     "output_type": "display_data"
    }
   ],
   "source": [
    "x = sample_sizes\n",
    "y = means_diff\n",
    "\n",
    "plt.figure(num = None, figsize = (10,10))\n",
    "plt.scatter(x,y)\n",
    "plt.xlabel('Sample Size')\n",
    "plt.ylabel('Mean Difference')\n",
    "plt.show()\n"
   ]
  },
  {
   "cell_type": "markdown",
   "metadata": {},
   "source": [
    "22 - repeat 18 to 21 by replacing 50 with a larger number. For example, 300, or even 1000 and see how the plot looks."
   ]
  },
  {
   "cell_type": "code",
   "execution_count": 32,
   "metadata": {
    "scrolled": true
   },
   "outputs": [
    {
     "name": "stdout",
     "output_type": "stream",
     "text": [
      "[1, 2, 3, 4, 5, 6, 7, 8, 9, 10, 11, 12, 13, 14, 15, 16, 17, 18, 19, 20, 21, 22, 23, 24, 25, 26, 27, 28, 29, 30, 31, 32, 33, 34, 35, 36, 37, 38, 39, 40, 41, 42, 43, 44, 45, 46, 47, 48, 49, 50, 51, 52, 53, 54, 55, 56, 57, 58, 59, 60, 61, 62, 63, 64, 65, 66, 67, 68, 69, 70, 71, 72, 73, 74, 75, 76, 77, 78, 79, 80, 81, 82, 83, 84, 85, 86, 87, 88, 89, 90, 91, 92, 93, 94, 95, 96, 97, 98, 99, 100, 101, 102, 103, 104, 105, 106, 107, 108, 109, 110, 111, 112, 113, 114, 115, 116, 117, 118, 119, 120, 121, 122, 123, 124, 125, 126, 127, 128, 129, 130, 131, 132, 133, 134, 135, 136, 137, 138, 139, 140, 141, 142, 143, 144, 145, 146, 147, 148, 149, 150, 151, 152, 153, 154, 155, 156, 157, 158, 159, 160, 161, 162, 163, 164, 165, 166, 167, 168, 169, 170, 171, 172, 173, 174, 175, 176, 177, 178, 179, 180, 181, 182, 183, 184, 185, 186, 187, 188, 189, 190, 191, 192, 193, 194, 195, 196, 197, 198, 199, 200, 201, 202, 203, 204, 205, 206, 207, 208, 209, 210, 211, 212, 213, 214, 215, 216, 217, 218, 219, 220, 221, 222, 223, 224, 225, 226, 227, 228, 229, 230, 231, 232, 233, 234, 235, 236, 237, 238, 239, 240, 241, 242, 243, 244, 245, 246, 247, 248, 249, 250, 251, 252, 253, 254, 255, 256, 257, 258, 259, 260, 261, 262, 263, 264, 265, 266, 267, 268, 269, 270, 271, 272, 273, 274, 275, 276, 277, 278, 279, 280, 281, 282, 283, 284, 285, 286, 287, 288, 289, 290, 291, 292, 293, 294, 295, 296, 297, 298, 299, 300, 301, 302, 303, 304, 305, 306, 307, 308, 309, 310, 311, 312, 313, 314, 315, 316, 317, 318, 319, 320, 321, 322, 323, 324, 325, 326, 327, 328, 329, 330, 331, 332, 333, 334, 335, 336, 337, 338, 339, 340, 341, 342, 343, 344, 345, 346, 347, 348, 349, 350, 351, 352, 353, 354, 355, 356, 357, 358, 359, 360, 361, 362, 363, 364, 365, 366, 367, 368, 369, 370, 371, 372, 373, 374, 375, 376, 377, 378, 379, 380, 381, 382, 383, 384, 385, 386, 387, 388, 389, 390, 391, 392, 393, 394, 395, 396, 397, 398, 399, 400, 401, 402, 403, 404, 405, 406, 407, 408, 409, 410, 411, 412, 413, 414, 415, 416, 417, 418, 419, 420, 421, 422, 423, 424, 425, 426, 427, 428, 429, 430, 431, 432, 433, 434, 435, 436, 437, 438, 439, 440, 441, 442, 443, 444, 445, 446, 447, 448, 449, 450, 451, 452, 453, 454, 455, 456, 457, 458, 459, 460, 461, 462, 463, 464, 465, 466, 467, 468, 469, 470, 471, 472, 473, 474, 475, 476, 477, 478, 479, 480, 481, 482, 483, 484, 485, 486, 487, 488, 489, 490, 491, 492, 493, 494, 495, 496, 497, 498, 499, 500, 501, 502, 503, 504, 505, 506, 507, 508, 509, 510, 511, 512, 513, 514, 515, 516, 517, 518, 519, 520, 521, 522, 523, 524, 525, 526, 527, 528, 529, 530, 531, 532, 533, 534, 535, 536, 537, 538, 539, 540, 541, 542, 543, 544, 545, 546, 547, 548, 549, 550, 551, 552, 553, 554, 555, 556, 557, 558, 559, 560, 561, 562, 563, 564, 565, 566, 567, 568, 569, 570, 571, 572, 573, 574, 575, 576, 577, 578, 579, 580, 581, 582, 583, 584, 585, 586, 587, 588, 589, 590, 591, 592, 593, 594, 595, 596, 597, 598, 599, 600, 601, 602, 603, 604, 605, 606, 607, 608, 609, 610, 611, 612, 613, 614, 615, 616, 617, 618, 619, 620, 621, 622, 623, 624, 625, 626, 627, 628, 629, 630, 631, 632, 633, 634, 635, 636, 637, 638, 639, 640, 641, 642, 643, 644, 645, 646, 647, 648, 649, 650, 651, 652, 653, 654, 655, 656, 657, 658, 659, 660, 661, 662, 663, 664, 665, 666, 667, 668, 669, 670, 671, 672, 673, 674, 675, 676, 677, 678, 679, 680, 681, 682, 683, 684, 685, 686, 687, 688, 689, 690, 691, 692, 693, 694, 695, 696, 697, 698, 699, 700, 701, 702, 703, 704, 705, 706, 707, 708, 709, 710, 711, 712, 713, 714, 715, 716, 717, 718, 719, 720, 721, 722, 723, 724, 725, 726, 727, 728, 729, 730, 731, 732, 733, 734, 735, 736, 737, 738, 739, 740, 741, 742, 743, 744, 745, 746, 747, 748, 749, 750, 751, 752, 753, 754, 755, 756, 757, 758, 759, 760, 761, 762, 763, 764, 765, 766, 767, 768, 769, 770, 771, 772, 773, 774, 775, 776, 777, 778, 779, 780, 781, 782, 783, 784, 785, 786, 787, 788, 789, 790, 791, 792, 793, 794, 795, 796, 797, 798, 799, 800, 801, 802, 803, 804, 805, 806, 807, 808, 809, 810, 811, 812, 813, 814, 815, 816, 817, 818, 819, 820, 821, 822, 823, 824, 825, 826, 827, 828, 829, 830, 831, 832, 833, 834, 835, 836, 837, 838, 839, 840, 841, 842, 843, 844, 845, 846, 847, 848, 849, 850, 851, 852, 853, 854, 855, 856, 857, 858, 859, 860, 861, 862, 863, 864, 865, 866, 867, 868, 869, 870, 871, 872, 873, 874, 875, 876, 877, 878, 879, 880, 881, 882, 883, 884, 885, 886, 887, 888, 889, 890, 891, 892, 893, 894, 895, 896, 897, 898, 899, 900, 901, 902, 903, 904, 905, 906, 907, 908, 909, 910, 911, 912, 913, 914, 915, 916, 917, 918, 919, 920, 921, 922, 923, 924, 925, 926, 927, 928, 929, 930, 931, 932, 933, 934, 935, 936, 937, 938, 939, 940, 941, 942, 943, 944, 945, 946, 947, 948, 949, 950, 951, 952, 953, 954, 955, 956, 957, 958, 959, 960, 961, 962, 963, 964, 965, 966, 967, 968, 969, 970, 971, 972, 973, 974, 975, 976, 977, 978, 979, 980, 981, 982, 983, 984, 985, 986, 987, 988, 989, 990, 991, 992, 993, 994, 995, 996, 997, 998, 999, 1000]\n"
     ]
    }
   ],
   "source": [
    "sample_sizes_big = [x for x in range(1, 1001)]\n",
    "print(sample_sizes_big)\n",
    "\n",
    "means_diff_big = [] #Create an empty list and name it \"means_diff\" for differences of population mean and sample means\n",
    "\n",
    "\n"
   ]
  },
  {
   "cell_type": "code",
   "execution_count": 33,
   "metadata": {
    "scrolled": true
   },
   "outputs": [
    {
     "name": "stdout",
     "output_type": "stream",
     "text": [
      "[412.34178790337137, 351.340878962219, 329.433364285218, 176.70477835936254, 102.41304578022755, -187.0456891488193, -261.6976329484096, 449.37102541400964, -484.9379247077086, -719.6373847775812, 173.18866328257354, -2716.7910808538873, -761.7406606858203, 1202.8183882210978, 246.96712534121252, 283.01063343182614, -12.014000791094077, -460.49484025238417, 838.6527151369773, -336.4609539607245, -439.1754276679694, -38.96030842863911, -805.3038740308602, 65.69268537987773, -397.18869990150597, -660.6923584380929, 138.3047109512063, -800.6097143942607, -732.9319399947472, -347.862345973208, -62.863391259532364, -249.61320970542874, 1928.0642536849919, -357.8097143942596, -387.52388508669173, -816.8066561344094, -334.03587504274947, 289.2101833686156, -65.54041585623418, 294.2765483254443, 940.1539740911667, -113.5572472426229, 1060.234359459224, -313.11206112884247, 38.191185155965286, -73.98144857272928, 86.70235402006256, -1288.4312924940987, 2395.644633431826, 262.74654182877384, 865.2650038021966, -105.71442939000735, 13121.161300098494, 39.2540724825285, 429.8516726190537, 62.66305448445746, -1447.9053665681731, 164.23917491654356, -1064.101111249025, 114.83437702157062, -2090.7732237110304, 2772.773703199269, -203.09226833139837, 5.801085044729916, 362.26838908793434, -297.9780938409003, -75.53502758512332, 3409.865003802197, -434.3520818966408, -234.62827159610606, -40.75485110425507, -208.26379353446646, 2242.802325739518, -259.5763793737606, 16.68130009849301, -472.9764090392164, -492.4408504391413, -214.19822371103146, -141.63432584419206, -52.73822947139888, -609.812127415802, -24.49829943036457, -138.43073970250225, 404.46352232071513, -405.28447821283225, 527.2878577308911, -106.37890535669612, -1253.1998110126187, -75.52938403542248, 32.04788786969584, -244.43524461695415, -782.9421481773697, -1229.6986438790973, 361.6631116926965, -61.422033234839546, 148.41377534601816, 645.6946334318272, 1007.7404963159879, 159.96055832751517, 374.5992085952257, 605.0323692808834, -47.549728860225514, -489.8688723152991, -638.5723308538873, 353.5541867817028, -52.37125578100131, 801.0881293667862, -1790.0392011546392, -69.52685094317349, 648.4946334318265, -252.7474718313315, 8561.605744542936, 304.1309970681905, -1630.970482847244, 607.8131884400373, 282.5038197835329, -222.80633744195984, 201.15631567481796, 56.92242634735703, 932.537490574683, 8.78833972553366, -477.4028520614029, 430.06606200325587, 147.23387723886663, 403.7950921474221, 58.04915779377552, 719.0209492212998, -259.0096400724469, 742.1079456346797, -164.02501168857816, -486.05418811699565, 630.0364432829156, -577.3399721661372, -230.8337876208043, 182.55435240138104, -318.81530808864045, -167.89425545706217, -440.225291380204, -451.3180938409005, -546.4782395644743, -91.34955920273387, 72.12132262101659, 183.126292488143, 2.0016937655873335, 496.3191367430845, 274.94332078266234, 435.7433771504202, 407.6365403054406, -94.74688353424062, 216.41266621871182, -687.406356667183, -116.3688477968426, 171.0189780011151, -281.3720332348403, -342.3690029318095, -666.8053665681728, 453.3712568084502, 408.0590362421317, -608.3901591949016, -636.2018521911759, -663.3923230899127, -126.90690109502793, -390.2350217405874, 1341.1552394924329, 251.218985763433, 110.25239740698089, -65.35290755177994, 211.30139671684992, -354.41696877811773, -325.8480456958987, 36.65033518621203, 162.22982506945664, 191.5214790694099, -83.2195079823141, -334.01578323483955, 326.80767691008805, 275.90052541218574, -286.70040202916607, -351.9666341738066, -434.04762008930084, -24.713599013693965, 238.05804299523697, 818.8527039327546, 104.96470960157603, -288.38309582581496, 55.73508604851668, -71.70338637015448, -559.6707801020075, -86.20018638799411, -158.1141165681729, -352.2618702102136, 78.4143225509979, -256.6796784947783, -474.05695892486074, 7.009113840684222, 592.0551870650452, -46.11602230587778, -618.9339379967441, -83.64822371103037, 180.6997074275987, -16.35389825287166, 265.3252785931163, -331.9351538022165, 689.5330949702875, 190.05242237654966, -2142.438699901506, -546.3757369385439, -304.92662641069364, -247.23625341832667, 790.0591071160379, 257.3707018078949, -261.4136898492343, -644.8876450491862, 198.06606200325587, 272.23147553708986, 238.87424938455842, -56.46805313533696, -98.78259429094578, -53.878028438677575, 1009.6946334318272, 181.99144871845056, -55.740505273590315, -752.6282715961061, -215.9130918900628, -351.9822184200257, 353.1495813484926, -367.3526719573947, -79.80860730891436, 66.06396459006464, 303.214495659151, -136.7927362089613, 746.0674489658068, -128.67237687745182, -53.48659981214041, -575.7931024172303, -360.18066537295454, -1366.0843139365952, 366.93276052212786, 89.30070203340983, -1150.7780938409014, -954.5439269794842, -15.432949102785642, -1412.8530228181735, -82.2418935142814, -98.93271699552315, 66.78196090986967, 566.6176219375739, -239.44476050756748, 752.0965751793992, 3.8912756144072773, 1899.4552633530857, 979.7111282771875, -284.4010720896458, 738.6414865786792, 804.7699957506666, 260.86657107102474, -659.559603856309, 947.4514057661199, 84.66685565404805, -23.043443971419038, -556.8284712613149, 102.62820109439235, 260.7397947221489, 202.7724112096039, -97.3320332348394, -277.3604708491839, 72.94836477510944, -175.8892437274826, 556.718867415113, 209.75599706819048, -1847.5053665681735, -100.19836882550953, -90.04006044572452, 434.45963343182666, -299.2936877360571, 1481.0400879772806, -162.69937854422096, 878.1499235342162, 198.1661815489806, 793.7321334318258, 31.751879808638478, 509.89980584562, 148.79092972812214, 152.23636896901735, 254.21767782928873, 373.5412655561795, -779.0704072185799, 777.4549275494737, 332.61590784087093, -221.78562134524327, -62.99050331014769, -55.086761917011245, -688.3833008404745, -3.438768207517569, 68.08565587571684, 569.5673607045537, 729.6317642335143, 28.581762144698587, -507.9947882889064, 454.5786398938617, -8847.505366568173, 1006.5781843456643, -650.2686515923288, -125.91745448026086, -199.32180492433872, 1073.8696334318265, -151.273185142687, 343.45322238888184, -494.46547295115306, 3.147694656316162, -380.1566899283571, 584.7732593860255, -899.7553665681735, 244.0446334318258, -1037.9599120227194, -150.69250107109656, -20.159533234840637, -822.658740801302, 274.8572065312419, -157.84033388843454, 103.26471375311121, -79.34268714233622, -10.956405143841039, 196.09078727798078, -254.42218072746618, -335.36278101684184, 378.6244044241921, 177.04053913902317, -538.785942107741, 621.6764516136445, -29.159744448357742, 609.5074951681618, -253.78945747726357, 101.69753198255057, 2377.850402662596, -296.10292754378315, -819.4510328036195, -719.4394325022386, -114.81089202862859, 399.2202431879232, -90.71748778029541, -1099.2931216702145, 4572.6196334318265, -145.33500645736967, -767.4053665681731, -284.5440139111688, 94.13529537036084, -1503.1670081092125, -1089.0792302045375, -460.5328895039529, 155.03511926178544, 1100.0732851172197, 1553.613277499624, -123.66161656817349, 1423.5787042282864, 279.1454270826198, 226.43075677984416, -1245.2685244629101, 158.90428550814613, -21.724544650365715, -59.021545304691244, -190.36606871992808, -104.93193999474715, 222.5738787148457, -100.58834828406725, 889.7634081353845, -1445.6417302045375, -233.6253665681743, -114.47605060726164, -308.9361357989419, 181.22216152171495, 95.73709032837905, 75.30641050858867, 1432.0810820299575, -325.6041098356782, 477.27408962517984, 912.2927103549027, -108.8918762041485, 964.148954419481, 536.357253240134, -408.0123935951997, 290.1440451965318, 138.61672645508224, -931.160538981967, 684.3653737373497, -327.3366295081323, -115.19699652412055, -58.46766815547562, 1667.4623753673095, -7482.1720332348405, -157.07718977259356, -59.27248985584447, 1400.11228049065, 344.53125315013676, 752.6613000984926, 403.6727710836476, -670.6710292187763, -264.7247311672654, -39.55825118355824, -239.17679513960138, 168.99216429602347, -735.5775315166266, 507.6212012767519, 787.7089191461127, -510.2684733642891, -941.3045633553229, 340.14342993073296, -191.78827973343869, 1653.7721664714736, -625.8414321419441, -171.09024720477828, 197.10337660122605, 11.024045196532825, 553.9595457125288, -1708.7467458785177, -185.3680171705837, -17.619046722316853, -400.76711153461656, 557.7511101157652, -79.89290982076818, 1342.280840328378, -120.68256607250987, 450.35148622370434, -563.954185465811, -128.8219284130373, 803.3442060813995, -483.67236858024626, 1066.8882304186445, 114.99463343182651, 9.86449644552522, -828.9287899915962, 239.81895775615158, 368.07615517095655, 870.670072028317, 474.5135907777985, -177.1905517533578, 798.8253596888098, 583.6525281686681, 5.747574608296418, -97.95792131269991, -925.1360483863555, -466.6057383153857, -125.31062972606742, -876.2028125406687, -444.38771950935006, -379.4847125234228, 656.483563321126, -300.4527349892269, -432.2196522824597, -365.8096301340647, -398.5007688670248, 341.63622635218053, 467.4251267053696, -15.117945184525524, 144.33058848800647, -151.05570213864303, 223.80120277489186, 1241.1100180472113, -238.14083454846877, 88.71642331509429, -512.5932044060119, -141.0826023405316, 237.490466765159, 218.41482122525304, 229.06663746002414, 279.2385687417991, 54.27655433578184, 0.4626246018051461, 1066.5091911025993, -938.5784503471405, -37.9270698648761, 982.5159604460441, -334.0822063950127, -545.7890266988925, -868.3303665681742, 622.2593393141797, 197.22957319086345, -314.84674587851805, -1426.618574115344, -748.5403459920417, 472.685916724804, -615.7227578725215, -1040.237073885246, 815.8753949548718, -126.53678018073879, -39.09621947299456, -624.134710197517, -280.587558348996, -687.2779934997416, -392.6061168361266, 512.5224518798495, 461.3723763785347, -1588.6088148440358, -1016.2753665681739, -704.1662498489313, 443.68460303669053, -357.5729341357419, 129.15557763783545, 142.12352861596264, -269.36369990150706, 983.3581254953187, -293.6495871408133, -379.42464367660796, -1445.9568433614222, 196.16231635865552, -323.2605212073486, 195.87789334372064, 16.262490574683397, 450.0042753051039, 367.2020802403367, 135.69618381942382, 59.81099706819077, -153.8185533813612, 578.7224595187836, 406.33929362600065, 562.7391322093317, -15.166318949126435, 168.55472958567225, -83.49755406817349, -275.8305698202057, -297.62524960910923, -201.67679513960138, 222.40815893071704, -295.6682963140629, 477.23922217641484, 174.97099069977776, -622.4546051468533, 815.6354785022486, -428.1033565179223, -178.60042360239459, -137.8050698322677, -357.65339288396353, -205.3930784325803, 271.00574454293746, 818.0051376335068, -175.4815236509221, 48.92468524529795, 1984.4946334318265, -106.83115842337793, 139.05557707533808, 1136.9491788863725, 51.67580026908399, 263.21390717484246, -307.48485374766096, -289.6750094253166, -96.91763475647531, -165.26333587159752, 55.937536313364035, 231.49463343182651, -57.14706697303154, -487.6616617924865, -636.9608825824089, 1881.5715565087503, -1680.0053665681735, 2299.3469061590986, 1134.2146334318259, -87.51776792104829, 507.2684429556357, 15.749721627213148, 535.1184519573471, 424.0439292064748, 67.53777068672935, 56.24799666052604, 1219.1646334318266, 445.9872706473561, 351.7446334318265, -190.64428383068662, -490.12705968986666, 185.62892599777297, -251.41989648270282, -751.0716930987855, -1724.3672086734368, 104.64818673131958, 159.4573785298653, 349.1250682144346, -1405.868003930811, -675.8141900975861, -583.0820861448938, -202.28053435340917, 161.1589276192517, 376.35050267402585, -233.80735571826335, -757.4824658048146, 527.9518492683528, -19.70492063729216, -481.10617847615686, 465.7317341689268, -21.262088719262465, -873.7383762769114, -1083.829927971683, 306.78688695295386, 653.8616629808148, 63.791400175476156, -589.0839379967456, 197.28402960266612, 120.64658415051235, 742.1708736407036, -84.16003473465207, -807.9485665681732, 2283.094633431827, 59.917168643094556, -710.1126964111063, 108.44974825437384, 1363.283849118101, 19.940961115442406, -363.8616418718175, 613.2290596613348, 390.23442935019375, -1137.3542330669134, -216.77099156817349, -348.6551325588134, -1888.355059819707, -77.24106676541305, -683.7432697939803, -129.33869990150743, 290.79092972812214, -180.0165189845302, -641.7231387834418, 205.98309497028822, -545.8258963694989, 1236.3056933396601, -792.3710382099653, 194.00582746167674, -497.116275659082, -74.46594748103598, 1882.9361918733848, 9.182269006663773, -18.021922859563347, -143.64968143697843, 464.5774359795978, -311.11207797757015, 687.9576559398647, -531.6345178596857, 62.09363092556123, 767.6341184103676, 598.0472650107731, -572.96075937776, 39.49042290551006, -371.89291421747475, -568.0860117294633, 151.85260597670458, -497.13073529973735, 155.07270652152692, 434.29875714316586, -217.00272106552802, 64.42310267359971, -14.945366568173995, 1328.0879944276767, -1648.5614203798323, -122.07243164121428, 504.61165470842207, 19.60110524810989, 829.0957263280015, 116.44886684143785, -728.1369455155418, -115.6916556888882, -53.85915718189244, 389.84520814447023, 339.42503636222864, -127.72563683844419, 193.8755858127788, 400.537157437313, 187.43868937588195, 367.2322481107258, -913.1572653023504, -61.6646586035713, -37.121645637940674, 11.781565250008498, 7.439016079211797, 1107.8735154194037, -289.0514575833422, 567.2366872215571, -463.01641629193, 22.379560498276987, -635.3964776792855, -325.028255683128, -209.54985595138896, 313.3154923275324, 60.19897133137056, 191.39982530541602, 135.81761479828674, 263.9951763199915, -154.61347467628184, -339.3067976951861, -472.9438692419699, -433.7775184669081, -2508.2866165681735, 36.82444873525674, -344.82910757536774, 458.3855946943804, 101.31908076602667, -659.9833077446438, 452.02869337733136, -79.65656931731428, -2.1695079823148262, 16.544220208685147, 447.359149560858, -349.749811012618, 1464.061512412718, 245.55003509387643, -65.01815974514648, -1129.2073370115231, 473.21458535490274, -1412.4498110126187, -597.1591343889468, -631.0716930987855, -1173.3783824411894, 3.372609622303571, 230.64847958567225, -25.804636641165416, 161.22124339537368, -320.2606857171104, 449.91450920822354, -712.7160583920722, 604.6768764224798, 405.9610904548881, 619.538289639193, 1264.4200065661553, 362.9747470681905, 63.87641217369128, 1137.2315703687636, -154.2280556438036, -146.43309766061066, -134.17778036127675, 12.96780416353431, -201.68569443702654, -306.73976791724635, 663.5269717402844, 1588.9946334318265, 688.5794819166749, 58.00948491697454, 718.9723237205399, -845.8512785178591, -123.07940678755222, -400.37329109647544, -528.5302203693427, -215.5797851728239, -124.53704077631846, 222.4100563173979, 469.04699482812975, -214.68183715640953, 2165.5926726475136, 219.6824063575914, 201.37371444754535, 762.7582317581855, -95.38171065419556, -183.54254856425905, -3663.2553665681735, 862.3483883725385, -135.99878762080516, -379.91009097762253, 832.8232048603986, -3435.933937996744, 319.9739722748018, -287.5369967384904, -36.89885769243301, -176.27007245052664, 213.7684429556357, 360.6724392325832, 110.22604297677572, 537.0888218085802, -234.91611925634606, 1023.3051429859661, 450.89046676516045, -2787.197674260482, -88.47521581440378, -0.6278736906806444, 516.0465814837753, -141.78546484827166, -417.19208855987563, -529.7336902675961, 452.7728592382773, -516.8727135069494, -53.529729801839494, -502.295442904051, 425.4304623088319, 243.7824485578767, 336.80423095504557, 231.5496334318268, 711.5301173027947, -269.26212332493014, 1.3580480659729801, 680.2185499647312, 1173.9588366650823, 554.9994213935224, 172.92769128306645, 231.27615835851248, 741.2667422753639, -181.74838621657, 48.23723024276114, -406.9129912016051, -212.53890315353965, -996.3002383630446, -670.4608121127276, -1129.79561600128, 591.9842666056702, 252.12000216339038, -381.5855552474186, 61.61642830362143, -172.35124470437404, -464.6218587147705, 1011.4188758560686, -562.8037958875448, -879.6650887903961, 230.747023489188, -329.09814490317876, -161.2573665681739, 758.9414419424647, -343.3821061307972, -118.7818586509984, 150.11830834348802, -1069.3309893439746, -781.1690302318366, 223.3685073057004, -328.5262482387079, 11.368228937444655, -780.1286304570622, -775.7268035528614, -867.8220521527364, 389.44552628896963, -8.076438887375843, 19.871275767593033, -650.0361884859813, 799.2233156023685, -557.5724460315378, -63.51081913087728, -275.1021407617227, 2182.6508834318265, 944.8218223719196, 361.54307093182615, 88.10270259609206, 69.39368331306105, 167.36607705669485, -723.8345032588204, 505.14392920647515, -224.56786656817349, 804.9465814837749, 462.7321334318258, 1148.8833126771096, 424.45296676516045, -90.21124892111402, 2773.531670468863, -899.3924889847076, 114.67671435668126, -442.2228806924668, 77.45567239286538, 4083.4946334318265, 349.9702118379955, -184.6373665681731, -68.45152041432812, 516.7759237544069, -155.17298834467692, 291.74701438420743, 232.6327549787875, 1559.5582697954633, -124.36612606184462, 2875.408426535274, -744.0191280360632, 1247.3962727760882, 599.0932612191336, 112.31755009849257, 0.8680600052539376, 333.008704726386, 321.0626679890611, 146.52046766218155, 221.27128317801908, -3.7075643703719834, 115.729725174946, 196.90046897559296, 362.2898552748302, 761.5524369000341, -196.87886054407682, 846.5747911190792, -365.3185849589772, 113.40993397827515, 791.0169798005409, -735.3583077446438, 88.42760444631858, -313.06832953113735, -443.09397416311003, 797.656031102375, 497.73416831554823, -437.4911821710102, -411.95017711183027, 1609.8098508231305, 652.6768252126476, -711.5323935952001, 704.7000388372326, -555.2391795178137, 2184.644633431826, -168.63228428086586, -458.20777943680696, -191.65652935887192, -664.2882237110298, -348.28990604185856, -1303.4465430387609, 271.6535738291768, -462.46254001571106, -711.5927559487045, -437.18333266986883, 182.71797347206848, -220.51075014825437, 958.2766847138773, 227.0065951543147, 286.63342941844894, 542.5546650274027, 826.8167983802796, 390.23137016856344, 221.96429362600065, -321.77382294401286, 194.1232048603979, 476.3537243409173, -416.54874556360664, 882.6598508231309, 91.65797281476625, 553.2872260244185, 2910.1397947221485, 326.3073906334721, 1870.6613000984926, 528.7682652726216, 939.0846334318267, 525.1132380829895, -635.9720332348406, 169.68196496821474, 453.82508325881645, -1077.612622088678, 1441.0175092488207, 341.8546334318271, 1432.6500388372315, -173.62512704721485, 723.8511551709562, 633.6232641372208, -905.3929405326708, -587.1968266232707, -136.57051314797718, 683.0276912830668, 63.427966765159, -1268.9687812023203, -1.7653665681737039, 303.7067187398825, 709.760353512962, 511.0991447100223, -559.3234358751033, 32.031518677727945, 453.71404271452775, -347.3240976859979, -210.13650023991613, -437.0707161122464, -43.85643039796014, -346.62231167557184, 564.076342577253, 102.74593325851674, 6.3952251478021935, -493.21825172223544, 190.94580262027193, -573.0986813314048, 2026.9363512232376, -31.155314321569676, -308.74536656817327, 1008.2485275128238, -145.84318786560289, 459.3578047873252, -1153.910538981967, 367.8897553830466, -226.3611659412145, -550.1126964111063, -971.0893665681742, -460.3477089105163, 107.02272331946733, 174.08395805056352, -1113.4913103432737, -329.12542735844727, -709.3773665681729, 379.78078727797947, -424.3817503320115, -175.85516893971544, -183.5414676512064, 383.7553338209309, -52.86010662933586, 882.7047783593625, 2025.0855425227364, -8.806168707211327, -140.07459733740507, 58.56660892953005, -164.55545004062697, 435.93378687098084, -94.3277964747158, 273.6221234716668, -493.8518420759392, -849.7048915087908, -371.6326957607198, -322.8847404171611, -3379.3178665681735, 246.40055677677447, 259.0483057482106, -132.84756309996556, 148.00993955427475, -288.59081383119155, 1705.1350828700288, -180.53492321841986]\n"
     ]
    }
   ],
   "source": [
    "import random\n",
    "random.shuffle(sample_sizes_big)\n",
    "for x in sample_sizes_big:\n",
    "    new_sample = df.sample(n=x)\n",
    "    df_new_sample_mean = new_sample[\"TUITIONFEE_IN\"].mean()\n",
    "    df_population_mean = df[\"TUITIONFEE_IN\"].mean()\n",
    "    diff_new = df_new_sample_mean - df_population_mean  \n",
    "    means_diff_big.append (diff_new)\n",
    "  # print(means_diff)\n",
    "print(means_diff_big)"
   ]
  },
  {
   "cell_type": "code",
   "execution_count": 34,
   "metadata": {},
   "outputs": [
    {
     "data": {
      "image/png": "[encoded data removed]",
      "text/plain": [
       "<Figure size 720x720 with 1 Axes>"
      ]
     },
     "metadata": {
      "needs_background": "light"
     },
     "output_type": "display_data"
    }
   ],
   "source": [
    "x = sample_sizes_big\n",
    "y = means_diff_big\n",
    "\n",
    "plt.figure(num = None, figsize = (10,10))\n",
    "plt.scatter(x,y)\n",
    "plt.xlabel('Sample Size')\n",
    "plt.ylabel('Mean Difference')\n",
    "plt.show()\n"
   ]
  },
  {
   "cell_type": "code",
   "execution_count": null,
   "metadata": {},
   "outputs": [],
   "source": []
  }
 ],
 "metadata": {
  "kernelspec": {
   "display_name": "Python 3",
   "language": "python",
   "name": "python3"
  },
  "language_info": {
   "codemirror_mode": {
    "name": "ipython",
    "version": 3
   },
   "file_extension": ".py",
   "mimetype": "text/x-python",
   "name": "python",
   "nbconvert_exporter": "python",
   "pygments_lexer": "ipython3",
   "version": "3.7.3"
  }
 },
 "nbformat": 4,
 "nbformat_minor": 2
}
