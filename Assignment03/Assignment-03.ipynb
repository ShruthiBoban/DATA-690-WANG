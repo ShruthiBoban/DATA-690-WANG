{
  "nbformat": 4,
  "nbformat_minor": 0,
  "metadata": {
    "colab": {
      "name": "Untitled2.ipynb",
      "provenance": [],
      "collapsed_sections": [],
      "authorship_tag": "ABX9TyPuIijtMI0MajRD85G6CMuq",
      "include_colab_link": true
    },
    "kernelspec": {
      "name": "python3",
      "display_name": "Python 3"
    }
  },
  "cells": [
    {
      "cell_type": "markdown",
      "metadata": {
        "id": "view-in-github",
        "colab_type": "text"
      },
      "source": [
        "<a href=\"https://colab.research.google.com/github/ShruthiBoban/DATA-690-WANG/blob/master/Assignment03/Assignment-03.ipynb\" target=\"_parent\"><img src=\"https://colab.research.google.com/assets/colab-badge.svg\" alt=\"Open In Colab\"/></a>"
      ]
    },
    {
      "cell_type": "markdown",
      "metadata": {
        "id": "gQlS6Z1auBIu",
        "colab_type": "text"
      },
      "source": [
        "Write a program that generates 100 random integers between 0 and 9.\n",
        "\n",
        "1. Print them in a 10 by 10 matrix neatly arranged like the following (one space between each number)"
      ]
    },
    {
      "cell_type": "code",
      "metadata": {
        "id": "7aoP81iq9zyZ",
        "colab_type": "code",
        "colab": {
          "base_uri": "https://localhost:8080/",
          "height": 185
        },
        "outputId": "48518faa-a12c-4800-ebf1-c4725a08f87e"
      },
      "source": [
        "from random import randint\n",
        "#https://stackoverflow.com/questions/3996904/generate-random-integers-between-0-and-9 and https://stackoverflow.com/questions/22116482/what-does-print-sep-t-mean#\n",
        "for i in range(10):\n",
        "  a = [randint(0, 9) for p in range(0, 10)] \n",
        "  print(*a, sep = ' ')"
      ],
      "execution_count": 1,
      "outputs": [
        {
          "output_type": "stream",
          "text": [
            "7 0 4 2 6 8 1 5 6 2\n",
            "1 4 4 5 1 3 5 4 8 1\n",
            "2 6 3 1 0 2 4 6 8 8\n",
            "1 7 6 9 6 6 0 8 3 5\n",
            "5 8 4 2 9 4 9 6 8 9\n",
            "2 2 3 6 6 9 7 2 7 2\n",
            "4 5 1 3 7 7 7 9 6 2\n",
            "8 8 4 3 3 1 3 5 9 4\n",
            "7 2 0 9 5 7 8 3 6 8\n",
            "9 1 2 9 9 2 9 6 1 3\n"
          ],
          "name": "stdout"
        }
      ]
    },
    {
      "cell_type": "markdown",
      "metadata": {
        "id": "l5Yq00r9t_3r",
        "colab_type": "text"
      },
      "source": [
        "2. If the random number is an odd number, print \"@\" instead. like the following"
      ]
    },
    {
      "cell_type": "code",
      "metadata": {
        "id": "CMxg0DffIM9s",
        "colab_type": "code",
        "colab": {
          "base_uri": "https://localhost:8080/",
          "height": 185
        },
        "outputId": "7bc3c9be-febb-4045-a7f1-7f7eb8bb02c2"
      },
      "source": [
        "from random import randint\n",
        "\n",
        "for i in range(10):\n",
        "  x = [randint(0, 9) for p in range(0, 10)] \n",
        "  \n",
        "  for i in range(10):\n",
        "    if x[i]%2 != 0:   \n",
        "      x[i] = \"@\"\n",
        "  print(*x, sep = ' ')\n"
      ],
      "execution_count": 2,
      "outputs": [
        {
          "output_type": "stream",
          "text": [
            "@ 8 4 @ @ @ @ 2 2 @\n",
            "8 0 4 @ @ @ 8 0 @ @\n",
            "@ @ @ @ 4 4 @ 8 4 8\n",
            "2 0 6 @ 2 @ @ 0 6 @\n",
            "0 @ 4 8 6 @ 4 4 @ @\n",
            "@ @ @ @ @ @ 4 @ 4 4\n",
            "0 4 6 2 @ 8 @ 2 4 4\n",
            "@ @ 6 @ @ 6 @ 8 @ 0\n",
            "0 2 @ @ 0 @ 6 6 @ 8\n",
            "@ 2 @ 6 0 0 @ @ 0 @\n"
          ],
          "name": "stdout"
        }
      ]
    },
    {
      "cell_type": "markdown",
      "metadata": {
        "id": "hZVWtqimuW-9",
        "colab_type": "text"
      },
      "source": [
        "3. Calculate and Print the total of each row like the following (use \"*\" to separate the total from the numbers)"
      ]
    },
    {
      "cell_type": "code",
      "metadata": {
        "id": "x4hFuoKBQP6K",
        "colab_type": "code",
        "colab": {
          "base_uri": "https://localhost:8080/",
          "height": 185
        },
        "outputId": "000796ee-d9de-44d1-ca28-b8498279e84a"
      },
      "source": [
        "from random import randint\n",
        "sum = 0\n",
        "for i in range(10):\n",
        "  a = [randint(0, 9) for p in range(0, 10)] \n",
        "  for i in range(10):\n",
        "    sum += a[i]\n",
        "  print(*a,\"*\",sum, sep=' ')\n",
        "  sum = 0\n"
      ],
      "execution_count": 3,
      "outputs": [
        {
          "output_type": "stream",
          "text": [
            "7 8 5 1 9 2 0 0 0 9 * 41\n",
            "5 9 7 7 5 3 6 3 5 8 * 58\n",
            "5 8 9 3 9 4 6 3 7 3 * 57\n",
            "9 6 6 6 6 7 0 6 6 3 * 55\n",
            "6 8 6 2 6 4 4 0 0 1 * 37\n",
            "4 1 1 8 7 7 0 1 8 9 * 46\n",
            "9 2 3 9 3 9 5 1 1 2 * 44\n",
            "6 4 6 8 7 5 4 4 3 7 * 54\n",
            "6 8 4 2 2 4 5 1 2 5 * 39\n",
            "6 2 6 4 7 4 1 9 2 5 * 46\n"
          ],
          "name": "stdout"
        }
      ]
    }
  ]
}