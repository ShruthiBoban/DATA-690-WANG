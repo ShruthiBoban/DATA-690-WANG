{
  "nbformat": 4,
  "nbformat_minor": 0,
  "metadata": {
    "colab": {
      "name": "Untitled2.ipynb",
      "provenance": [],
      "include_colab_link": true
    },
    "kernelspec": {
      "name": "python3",
      "display_name": "Python 3"
    }
  },
  "cells": [
    {
      "cell_type": "markdown",
      "metadata": {
        "id": "view-in-github",
        "colab_type": "text"
      },
      "source": [
        "<a href=\"https://colab.research.google.com/github/ShruthiBoban/DATA-690-WANG/blob/master/Assignment03/InClassExercise.ipynb\" target=\"_parent\"><img src=\"https://colab.research.google.com/assets/colab-badge.svg\" alt=\"Open In Colab\"/></a>"
      ]
    },
    {
      "cell_type": "code",
      "metadata": {
        "id": "kCKf0d92rSc7",
        "colab_type": "code",
        "colab": {
          "base_uri": "https://localhost:8080/",
          "height": 54
        },
        "outputId": "2ccf76e2-a6bd-4dda-e663-4839c1c7dc8e"
      },
      "source": [
        "people_list = \"Wang, Chaojie; Seelam, Arjun Reddy; Rius, Jonathan; Liang, Jinqing; Chowdhury, Debanjan; Maszkiewicz, Lori; Negussie, Neftalem; Steinruck, Michaella; Phogat, Shreshta; Fatima, Misha; Hirabayashi, Scott; Soroush, Masoud; Bolz, Jessica; Mbu Nyamsi, Tchuissi; Dokuzoglu, Yuksel; Gogineni, Shailesh; Pabbisetty, Sai Vinay; Preis, Liam; Jyesta, Vishnu Priya; Narne, Yoshita; Boban, Shruthi; Oberoi, Ashreen Kaur; Cohens, Nashika; Noppinger, Ken; Kakani, Goutham; Hayo, Alyssa\"\n",
        "print(people_list)"
      ],
      "execution_count": 7,
      "outputs": [
        {
          "output_type": "stream",
          "text": [
            "Wang, Chaojie; Seelam, Arjun Reddy; Rius, Jonathan; Liang, Jinqing; Chowdhury, Debanjan; Maszkiewicz, Lori; Negussie, Neftalem; Steinruck, Michaella; Phogat, Shreshta; Fatima, Misha; Hirabayashi, Scott; Soroush, Masoud; Bolz, Jessica; Mbu Nyamsi, Tchuissi; Dokuzoglu, Yuksel; Gogineni, Shailesh; Pabbisetty, Sai Vinay; Preis, Liam; Jyesta, Vishnu Priya; Narne, Yoshita; Boban, Shruthi; Oberoi, Ashreen Kaur; Cohens, Nashika; Noppinger, Ken; Kakani, Goutham; Hayo, Alyssa\n"
          ],
          "name": "stdout"
        }
      ]
    },
    {
      "cell_type": "code",
      "metadata": {
        "id": "tqn6heJ3fhPE",
        "colab_type": "code",
        "colab": {
          "base_uri": "https://localhost:8080/",
          "height": 212
        },
        "outputId": "f510b236-b47b-4bbf-e5ea-b8489df442cb"
      },
      "source": [
        "firstname = []\n",
        "for i in range(0,len(people_list)):\n",
        "  firstname.append(people_list[i].split()[0])\n",
        "print(firstname)"
      ],
      "execution_count": 13,
      "outputs": [
        {
          "output_type": "error",
          "ename": "IndexError",
          "evalue": "ignored",
          "traceback": [
            "\u001b[0;31m---------------------------------------------------------------------------\u001b[0m",
            "\u001b[0;31mIndexError\u001b[0m                                Traceback (most recent call last)",
            "\u001b[0;32m<ipython-input-13-7e240b633f45>\u001b[0m in \u001b[0;36m<module>\u001b[0;34m()\u001b[0m\n\u001b[1;32m      1\u001b[0m \u001b[0mfirstname\u001b[0m \u001b[0;34m=\u001b[0m \u001b[0;34m[\u001b[0m\u001b[0;34m]\u001b[0m\u001b[0;34m\u001b[0m\u001b[0;34m\u001b[0m\u001b[0m\n\u001b[1;32m      2\u001b[0m \u001b[0;32mfor\u001b[0m \u001b[0mi\u001b[0m \u001b[0;32min\u001b[0m \u001b[0mrange\u001b[0m\u001b[0;34m(\u001b[0m\u001b[0;36m0\u001b[0m\u001b[0;34m,\u001b[0m\u001b[0mlen\u001b[0m\u001b[0;34m(\u001b[0m\u001b[0mpeople_list\u001b[0m\u001b[0;34m)\u001b[0m\u001b[0;34m)\u001b[0m\u001b[0;34m:\u001b[0m\u001b[0;34m\u001b[0m\u001b[0;34m\u001b[0m\u001b[0m\n\u001b[0;32m----> 3\u001b[0;31m   \u001b[0mfirstname\u001b[0m\u001b[0;34m.\u001b[0m\u001b[0mappend\u001b[0m\u001b[0;34m(\u001b[0m\u001b[0mpeople_list\u001b[0m\u001b[0;34m[\u001b[0m\u001b[0mi\u001b[0m\u001b[0;34m]\u001b[0m\u001b[0;34m.\u001b[0m\u001b[0msplit\u001b[0m\u001b[0;34m(\u001b[0m\u001b[0;34m)\u001b[0m\u001b[0;34m[\u001b[0m\u001b[0;36m0\u001b[0m\u001b[0;34m]\u001b[0m\u001b[0;34m)\u001b[0m\u001b[0;34m\u001b[0m\u001b[0;34m\u001b[0m\u001b[0m\n\u001b[0m\u001b[1;32m      4\u001b[0m \u001b[0mprint\u001b[0m\u001b[0;34m(\u001b[0m\u001b[0mfirstname\u001b[0m\u001b[0;34m)\u001b[0m\u001b[0;34m\u001b[0m\u001b[0;34m\u001b[0m\u001b[0m\n",
            "\u001b[0;31mIndexError\u001b[0m: list index out of range"
          ]
        }
      ]
    },
    {
      "cell_type": "code",
      "metadata": {
        "id": "n8Tz2FGDdJSV",
        "colab_type": "code",
        "colab": {}
      },
      "source": [
        "list = people_list.split()"
      ],
      "execution_count": 6,
      "outputs": []
    },
    {
      "cell_type": "code",
      "metadata": {
        "id": "jJcVjMpJdlPb",
        "colab_type": "code",
        "colab": {}
      },
      "source": [
        ""
      ],
      "execution_count": null,
      "outputs": []
    }
  ]
}