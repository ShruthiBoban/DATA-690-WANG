{
  "nbformat": 4,
  "nbformat_minor": 0,
  "metadata": {
    "colab": {
      "name": "Untitled2.ipynb",
      "provenance": [],
      "include_colab_link": true
    },
    "kernelspec": {
      "name": "python3",
      "display_name": "Python 3"
    }
  },
  "cells": [
    {
      "cell_type": "markdown",
      "metadata": {
        "id": "view-in-github",
        "colab_type": "text"
      },
      "source": [
        "<a href=\"https://colab.research.google.com/github/ShruthiBoban/DATA-690-WANG/blob/master/Assignment03/In.ipynb\" target=\"_parent\"><img src=\"https://colab.research.google.com/assets/colab-badge.svg\" alt=\"Open In Colab\"/></a>"
      ]
    },
    {
      "cell_type": "code",
      "metadata": {
        "id": "kCKf0d92rSc7",
        "colab_type": "code",
        "colab": {
          "base_uri": "https://localhost:8080/",
          "height": 54
        },
        "outputId": "2ccf76e2-a6bd-4dda-e663-4839c1c7dc8e"
      },
      "source": [
        "people_list = \"Wang, Chaojie; Seelam, Arjun Reddy; Rius, Jonathan; Liang, Jinqing; Chowdhury, Debanjan; Maszkiewicz, Lori; Negussie, Neftalem; Steinruck, Michaella; Phogat, Shreshta; Fatima, Misha; Hirabayashi, Scott; Soroush, Masoud; Bolz, Jessica; Mbu Nyamsi, Tchuissi; Dokuzoglu, Yuksel; Gogineni, Shailesh; Pabbisetty, Sai Vinay; Preis, Liam; Jyesta, Vishnu Priya; Narne, Yoshita; Boban, Shruthi; Oberoi, Ashreen Kaur; Cohens, Nashika; Noppinger, Ken; Kakani, Goutham; Hayo, Alyssa\"\n",
        "print(people_list)"
      ],
      "execution_count": 7,
      "outputs": [
        {
          "output_type": "stream",
          "text": [
            "Wang, Chaojie; Seelam, Arjun Reddy; Rius, Jonathan; Liang, Jinqing; Chowdhury, Debanjan; Maszkiewicz, Lori; Negussie, Neftalem; Steinruck, Michaella; Phogat, Shreshta; Fatima, Misha; Hirabayashi, Scott; Soroush, Masoud; Bolz, Jessica; Mbu Nyamsi, Tchuissi; Dokuzoglu, Yuksel; Gogineni, Shailesh; Pabbisetty, Sai Vinay; Preis, Liam; Jyesta, Vishnu Priya; Narne, Yoshita; Boban, Shruthi; Oberoi, Ashreen Kaur; Cohens, Nashika; Noppinger, Ken; Kakani, Goutham; Hayo, Alyssa\n"
          ],
          "name": "stdout"
        }
      ]
    },
    {
      "cell_type": "code",
      "metadata": {
        "id": "n8Tz2FGDdJSV",
        "colab_type": "code",
        "colab": {}
      },
      "source": [
        "list = people_list.split(\";\")"
      ],
      "execution_count": 14,
      "outputs": []
    },
    {
      "cell_type": "code",
      "metadata": {
        "id": "jJcVjMpJdlPb",
        "colab_type": "code",
        "colab": {
          "base_uri": "https://localhost:8080/",
          "height": 454
        },
        "outputId": "6af3f8d5-a6f0-41ba-b875-2ab3ecbc9ea7"
      },
      "source": [
        "for person in list:\n",
        "  print(person)"
      ],
      "execution_count": 15,
      "outputs": [
        {
          "output_type": "stream",
          "text": [
            "Wang, Chaojie\n",
            " Seelam, Arjun Reddy\n",
            " Rius, Jonathan\n",
            " Liang, Jinqing\n",
            " Chowdhury, Debanjan\n",
            " Maszkiewicz, Lori\n",
            " Negussie, Neftalem\n",
            " Steinruck, Michaella\n",
            " Phogat, Shreshta\n",
            " Fatima, Misha\n",
            " Hirabayashi, Scott\n",
            " Soroush, Masoud\n",
            " Bolz, Jessica\n",
            " Mbu Nyamsi, Tchuissi\n",
            " Dokuzoglu, Yuksel\n",
            " Gogineni, Shailesh\n",
            " Pabbisetty, Sai Vinay\n",
            " Preis, Liam\n",
            " Jyesta, Vishnu Priya\n",
            " Narne, Yoshita\n",
            " Boban, Shruthi\n",
            " Oberoi, Ashreen Kaur\n",
            " Cohens, Nashika\n",
            " Noppinger, Ken\n",
            " Kakani, Goutham\n",
            " Hayo, Alyssa\n"
          ],
          "name": "stdout"
        }
      ]
    }
  ]
}