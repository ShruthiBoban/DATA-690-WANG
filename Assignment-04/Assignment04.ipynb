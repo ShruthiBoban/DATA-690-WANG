{
  "nbformat": 4,
  "nbformat_minor": 0,
  "metadata": {
    "colab": {
      "name": "Assignment04.ipynb",
      "provenance": [],
      "collapsed_sections": [],
      "authorship_tag": "ABX9TyOgUIkac8ZUd5CnYm2LxxwL",
      "include_colab_link": true
    },
    "kernelspec": {
      "name": "python3",
      "display_name": "Python 3"
    }
  },
  "cells": [
    {
      "cell_type": "markdown",
      "metadata": {
        "id": "view-in-github",
        "colab_type": "text"
      },
      "source": [
        "<a href=\"https://colab.research.google.com/github/ShruthiBoban/DATA-690-WANG/blob/master/Assignment-04/Assignment04.ipynb\" target=\"_parent\"><img src=\"https://colab.research.google.com/assets/colab-badge.svg\" alt=\"Open In Colab\"/></a>"
      ]
    },
    {
      "cell_type": "markdown",
      "metadata": {
        "id": "x-pZPmiixLOp",
        "colab_type": "text"
      },
      "source": [
        "Write code to open the text file census_cost.txt and read all lines into a list named \"line_list\". Print line_list."
      ]
    },
    {
      "cell_type": "code",
      "metadata": {
        "id": "wq6fN30Ghbz8",
        "colab_type": "code",
        "colab": {}
      },
      "source": [
        "with open(\"CensusCost.txt\", \"rt\") as f:\n",
        "    line_list = f.readlines()"
      ],
      "execution_count": 1,
      "outputs": []
    },
    {
      "cell_type": "code",
      "metadata": {
        "id": "aakti53Zh29c",
        "colab_type": "code",
        "colab": {
          "base_uri": "https://localhost:8080/",
          "height": 34
        },
        "outputId": "0a5353b1-e59f-4d53-9413-36cdc223fea1"
      },
      "source": [
        "# Print the list of lines\n",
        "type(line_list)"
      ],
      "execution_count": 2,
      "outputs": [
        {
          "output_type": "execute_result",
          "data": {
            "text/plain": [
              "list"
            ]
          },
          "metadata": {
            "tags": []
          },
          "execution_count": 2
        }
      ]
    },
    {
      "cell_type": "code",
      "metadata": {
        "id": "yKHdVTBuh9L2",
        "colab_type": "code",
        "colab": {
          "base_uri": "https://localhost:8080/",
          "height": 54
        },
        "outputId": "84f41cb4-7760-4e65-fed1-e8301573d723"
      },
      "source": [
        "# Boiler plate print() looks ugly\n",
        "\n",
        "print(line_list)"
      ],
      "execution_count": 3,
      "outputs": [
        {
          "output_type": "stream",
          "text": [
            "['Source: https://www.genealogybranches.com/censuscosts.html\\n', 'Census Year\\tTotal Population\\tCensus Cost\\tAverage Cost Per Person\\n', '1790\\t3,929,214\\t$44,377\\t1.13 cents\\n', '1800\\t5,308,483\\t$66,109\\t1.24 cents\\n', '1810\\t7,239,881\\t$178,445\\t2.46 cents\\n', '1820\\t9,633,822\\t$208,526\\t2.16 cents\\n', '1830\\t12,866,020\\t$378,545\\t2.94 cents\\n', '1840\\t17,069,458\\t$833,371\\t4.88 cents\\n', '1850\\t23,191,876\\t$1,423,351\\t6.14 cents\\n', '1860\\t31,443,321\\t$1,969,377\\t6.26 cents\\n', '1870\\t38,558,371\\t$3,421,198\\t8.87 cents\\n', '1880\\t50,155,783\\t$5,790,678\\t11.54 cents\\n', '1890\\t62,979,766\\t$11,547,127\\t18.33 cents\\n', '1900\\t76,303,387\\t$11,854,000\\t15.54 cents\\n', '1910\\t91,972,266\\t$15,968,000\\t17.07 cents\\n', '1920\\t105,710,620\\t$25,117,000\\t23.76 cents\\n', '1930\\t122,775,046\\t$40,156,000\\t32.71 cents\\n', '1940\\t131,669,275\\t$67,527,000\\t51.29 cents\\n', '1950\\t151,325,798\\t$91,462,000\\t60.44 cents\\n', '1960\\t179,323,175\\t$127,934,000\\t71.34 cents\\n', '1970\\t203,302,031\\t$247,653,000\\t$1.22\\n', '1980\\t226,542,199\\t$1,078,488,000\\t$4.76\\n', '1990\\t248,718,301\\t$2,492,830,000\\t$10.02\\n', '2000\\t281,421,906\\t$4.5 Billion\\t$15.99\\n', '2010*\\t308,745,538\\t$13 Billion\\t$42.11']\n"
          ],
          "name": "stdout"
        }
      ]
    },
    {
      "cell_type": "code",
      "metadata": {
        "id": "r90dMh5Oh90e",
        "colab_type": "code",
        "colab": {
          "base_uri": "https://localhost:8080/",
          "height": 840
        },
        "outputId": "cc113f1f-02ec-485d-ad55-59f8c31f9b22"
      },
      "source": [
        "# We print one line at a time using loop\n",
        "\n",
        "for row in line_list:\n",
        "    print(row)"
      ],
      "execution_count": 4,
      "outputs": [
        {
          "output_type": "stream",
          "text": [
            "Source: https://www.genealogybranches.com/censuscosts.html\n",
            "\n",
            "Census Year\tTotal Population\tCensus Cost\tAverage Cost Per Person\n",
            "\n",
            "1790\t3,929,214\t$44,377\t1.13 cents\n",
            "\n",
            "1800\t5,308,483\t$66,109\t1.24 cents\n",
            "\n",
            "1810\t7,239,881\t$178,445\t2.46 cents\n",
            "\n",
            "1820\t9,633,822\t$208,526\t2.16 cents\n",
            "\n",
            "1830\t12,866,020\t$378,545\t2.94 cents\n",
            "\n",
            "1840\t17,069,458\t$833,371\t4.88 cents\n",
            "\n",
            "1850\t23,191,876\t$1,423,351\t6.14 cents\n",
            "\n",
            "1860\t31,443,321\t$1,969,377\t6.26 cents\n",
            "\n",
            "1870\t38,558,371\t$3,421,198\t8.87 cents\n",
            "\n",
            "1880\t50,155,783\t$5,790,678\t11.54 cents\n",
            "\n",
            "1890\t62,979,766\t$11,547,127\t18.33 cents\n",
            "\n",
            "1900\t76,303,387\t$11,854,000\t15.54 cents\n",
            "\n",
            "1910\t91,972,266\t$15,968,000\t17.07 cents\n",
            "\n",
            "1920\t105,710,620\t$25,117,000\t23.76 cents\n",
            "\n",
            "1930\t122,775,046\t$40,156,000\t32.71 cents\n",
            "\n",
            "1940\t131,669,275\t$67,527,000\t51.29 cents\n",
            "\n",
            "1950\t151,325,798\t$91,462,000\t60.44 cents\n",
            "\n",
            "1960\t179,323,175\t$127,934,000\t71.34 cents\n",
            "\n",
            "1970\t203,302,031\t$247,653,000\t$1.22\n",
            "\n",
            "1980\t226,542,199\t$1,078,488,000\t$4.76\n",
            "\n",
            "1990\t248,718,301\t$2,492,830,000\t$10.02\n",
            "\n",
            "2000\t281,421,906\t$4.5 Billion\t$15.99\n",
            "\n",
            "2010*\t308,745,538\t$13 Billion\t$42.11\n"
          ],
          "name": "stdout"
        }
      ]
    },
    {
      "cell_type": "markdown",
      "metadata": {
        "id": "IAah2NdjxZ5W",
        "colab_type": "text"
      },
      "source": [
        "Extract the first two lines and put them in a different list named \"top2_list\". You will need to use them later. Print the top2_list."
      ]
    },
    {
      "cell_type": "code",
      "metadata": {
        "id": "0j6JhTZWihfq",
        "colab_type": "code",
        "colab": {
          "base_uri": "https://localhost:8080/",
          "height": 34
        },
        "outputId": "5d3da46e-99c7-4118-d64d-e81aae82b88b"
      },
      "source": [
        "top2_list = line_list[:2]\n",
        "print(top2_list)\n"
      ],
      "execution_count": 5,
      "outputs": [
        {
          "output_type": "stream",
          "text": [
            "['Source: https://www.genealogybranches.com/censuscosts.html\\n', 'Census Year\\tTotal Population\\tCensus Cost\\tAverage Cost Per Person\\n']\n"
          ],
          "name": "stdout"
        }
      ]
    },
    {
      "cell_type": "markdown",
      "metadata": {
        "id": "xwCCDU1nxefP",
        "colab_type": "text"
      },
      "source": [
        "Put the rest of the lines (containing useful data elements) in a new list named \"data_list\". Print data_list."
      ]
    },
    {
      "cell_type": "code",
      "metadata": {
        "id": "eNJBk6ugi58L",
        "colab_type": "code",
        "colab": {
          "base_uri": "https://localhost:8080/",
          "height": 54
        },
        "outputId": "e956aadd-8c50-4d27-be6d-43e8e54fb704"
      },
      "source": [
        "data_list = line_list[2:]\n",
        "print(data_list)"
      ],
      "execution_count": 6,
      "outputs": [
        {
          "output_type": "stream",
          "text": [
            "['1790\\t3,929,214\\t$44,377\\t1.13 cents\\n', '1800\\t5,308,483\\t$66,109\\t1.24 cents\\n', '1810\\t7,239,881\\t$178,445\\t2.46 cents\\n', '1820\\t9,633,822\\t$208,526\\t2.16 cents\\n', '1830\\t12,866,020\\t$378,545\\t2.94 cents\\n', '1840\\t17,069,458\\t$833,371\\t4.88 cents\\n', '1850\\t23,191,876\\t$1,423,351\\t6.14 cents\\n', '1860\\t31,443,321\\t$1,969,377\\t6.26 cents\\n', '1870\\t38,558,371\\t$3,421,198\\t8.87 cents\\n', '1880\\t50,155,783\\t$5,790,678\\t11.54 cents\\n', '1890\\t62,979,766\\t$11,547,127\\t18.33 cents\\n', '1900\\t76,303,387\\t$11,854,000\\t15.54 cents\\n', '1910\\t91,972,266\\t$15,968,000\\t17.07 cents\\n', '1920\\t105,710,620\\t$25,117,000\\t23.76 cents\\n', '1930\\t122,775,046\\t$40,156,000\\t32.71 cents\\n', '1940\\t131,669,275\\t$67,527,000\\t51.29 cents\\n', '1950\\t151,325,798\\t$91,462,000\\t60.44 cents\\n', '1960\\t179,323,175\\t$127,934,000\\t71.34 cents\\n', '1970\\t203,302,031\\t$247,653,000\\t$1.22\\n', '1980\\t226,542,199\\t$1,078,488,000\\t$4.76\\n', '1990\\t248,718,301\\t$2,492,830,000\\t$10.02\\n', '2000\\t281,421,906\\t$4.5 Billion\\t$15.99\\n', '2010*\\t308,745,538\\t$13 Billion\\t$42.11']\n"
          ],
          "name": "stdout"
        }
      ]
    },
    {
      "cell_type": "code",
      "metadata": {
        "id": "zspdFy4zmwkn",
        "colab_type": "code",
        "colab": {
          "base_uri": "https://localhost:8080/",
          "height": 54
        },
        "outputId": "c949fdc9-6e9e-43a1-b7af-e5d64f7e0800"
      },
      "source": [
        "converted_list = []\n",
        "for element in data_list:\n",
        "    converted_list.append(element.strip())\n",
        "print(converted_list)"
      ],
      "execution_count": 7,
      "outputs": [
        {
          "output_type": "stream",
          "text": [
            "['1790\\t3,929,214\\t$44,377\\t1.13 cents', '1800\\t5,308,483\\t$66,109\\t1.24 cents', '1810\\t7,239,881\\t$178,445\\t2.46 cents', '1820\\t9,633,822\\t$208,526\\t2.16 cents', '1830\\t12,866,020\\t$378,545\\t2.94 cents', '1840\\t17,069,458\\t$833,371\\t4.88 cents', '1850\\t23,191,876\\t$1,423,351\\t6.14 cents', '1860\\t31,443,321\\t$1,969,377\\t6.26 cents', '1870\\t38,558,371\\t$3,421,198\\t8.87 cents', '1880\\t50,155,783\\t$5,790,678\\t11.54 cents', '1890\\t62,979,766\\t$11,547,127\\t18.33 cents', '1900\\t76,303,387\\t$11,854,000\\t15.54 cents', '1910\\t91,972,266\\t$15,968,000\\t17.07 cents', '1920\\t105,710,620\\t$25,117,000\\t23.76 cents', '1930\\t122,775,046\\t$40,156,000\\t32.71 cents', '1940\\t131,669,275\\t$67,527,000\\t51.29 cents', '1950\\t151,325,798\\t$91,462,000\\t60.44 cents', '1960\\t179,323,175\\t$127,934,000\\t71.34 cents', '1970\\t203,302,031\\t$247,653,000\\t$1.22', '1980\\t226,542,199\\t$1,078,488,000\\t$4.76', '1990\\t248,718,301\\t$2,492,830,000\\t$10.02', '2000\\t281,421,906\\t$4.5 Billion\\t$15.99', '2010*\\t308,745,538\\t$13 Billion\\t$42.11']\n"
          ],
          "name": "stdout"
        }
      ]
    },
    {
      "cell_type": "code",
      "metadata": {
        "id": "oGKiRD7RoqrH",
        "colab_type": "code",
        "colab": {
          "base_uri": "https://localhost:8080/",
          "height": 54
        },
        "outputId": "ba6d06be-4f51-4622-aead-61a388d3e78e"
      },
      "source": [
        "final_list = []\n",
        "for element in data_list:\n",
        "    final_list.append(element.split(\"\\t\"))\n",
        "print(*final_list, sep='')"
      ],
      "execution_count": 8,
      "outputs": [
        {
          "output_type": "stream",
          "text": [
            "['1790', '3,929,214', '$44,377', '1.13 cents\\n']['1800', '5,308,483', '$66,109', '1.24 cents\\n']['1810', '7,239,881', '$178,445', '2.46 cents\\n']['1820', '9,633,822', '$208,526', '2.16 cents\\n']['1830', '12,866,020', '$378,545', '2.94 cents\\n']['1840', '17,069,458', '$833,371', '4.88 cents\\n']['1850', '23,191,876', '$1,423,351', '6.14 cents\\n']['1860', '31,443,321', '$1,969,377', '6.26 cents\\n']['1870', '38,558,371', '$3,421,198', '8.87 cents\\n']['1880', '50,155,783', '$5,790,678', '11.54 cents\\n']['1890', '62,979,766', '$11,547,127', '18.33 cents\\n']['1900', '76,303,387', '$11,854,000', '15.54 cents\\n']['1910', '91,972,266', '$15,968,000', '17.07 cents\\n']['1920', '105,710,620', '$25,117,000', '23.76 cents\\n']['1930', '122,775,046', '$40,156,000', '32.71 cents\\n']['1940', '131,669,275', '$67,527,000', '51.29 cents\\n']['1950', '151,325,798', '$91,462,000', '60.44 cents\\n']['1960', '179,323,175', '$127,934,000', '71.34 cents\\n']['1970', '203,302,031', '$247,653,000', '$1.22\\n']['1980', '226,542,199', '$1,078,488,000', '$4.76\\n']['1990', '248,718,301', '$2,492,830,000', '$10.02\\n']['2000', '281,421,906', '$4.5 Billion', '$15.99\\n']['2010*', '308,745,538', '$13 Billion', '$42.11']\n"
          ],
          "name": "stdout"
        }
      ]
    },
    {
      "cell_type": "markdown",
      "metadata": {
        "id": "T21wgZh0xjen",
        "colab_type": "text"
      },
      "source": [
        "Extract the column \"Census Year\" from data_list and assign them to a list named year_list. Remove the \"\" from the last element \"2010\". Print the cleansed year_list."
      ]
    },
    {
      "cell_type": "code",
      "metadata": {
        "id": "F9mXO2q4pIWL",
        "colab_type": "code",
        "colab": {
          "base_uri": "https://localhost:8080/",
          "height": 54
        },
        "outputId": "0f4aa05c-9336-48d9-f6f3-1e6f090d5476"
      },
      "source": [
        "year_list = []\n",
        "year_list = [item[0] for item in final_list] \n",
        "year_list[22] = year_list[22].replace(\"*\",\"\")\n",
        "print(year_list)\n",
        "\n"
      ],
      "execution_count": 9,
      "outputs": [
        {
          "output_type": "stream",
          "text": [
            "['1790', '1800', '1810', '1820', '1830', '1840', '1850', '1860', '1870', '1880', '1890', '1900', '1910', '1920', '1930', '1940', '1950', '1960', '1970', '1980', '1990', '2000', '2010']\n"
          ],
          "name": "stdout"
        }
      ]
    },
    {
      "cell_type": "markdown",
      "metadata": {
        "id": "it1-vxqixmRx",
        "colab_type": "text"
      },
      "source": [
        "Extract the \"Total Population\" column from the data_list and assign them to a list named \"pop_list\". Remove the \",\" from the numbers since Python doesn't recognize them. Print the cleansed \"pop_list\"."
      ]
    },
    {
      "cell_type": "code",
      "metadata": {
        "id": "OEFnku_szxYp",
        "colab_type": "code",
        "colab": {
          "base_uri": "https://localhost:8080/",
          "height": 54
        },
        "outputId": "41ee1bbd-933c-4371-83f7-9c1b3ec597dd"
      },
      "source": [
        "pop_list = []\n",
        "pop_list = [item[1] for item in final_list] \n",
        "\n",
        "for i in range(23):\n",
        "  pop_list[i] = pop_list[i].replace(\",\",\"\")\n",
        "print(pop_list)"
      ],
      "execution_count": 10,
      "outputs": [
        {
          "output_type": "stream",
          "text": [
            "['3929214', '5308483', '7239881', '9633822', '12866020', '17069458', '23191876', '31443321', '38558371', '50155783', '62979766', '76303387', '91972266', '105710620', '122775046', '131669275', '151325798', '179323175', '203302031', '226542199', '248718301', '281421906', '308745538']\n"
          ],
          "name": "stdout"
        }
      ]
    },
    {
      "cell_type": "markdown",
      "metadata": {
        "id": "kZVSWL1ZxqCN",
        "colab_type": "text"
      },
      "source": [
        "Extract the \"Census Cost\" column from the data_list and assign them to a list named \"cost_list\". Remove the \",\", and \"$\", and \"Billion\". Make sure to add the \"0\"s to the numbers from which you removed \"Billion\". Print the cleansed cost_list."
      ]
    },
    {
      "cell_type": "code",
      "metadata": {
        "id": "8jrargJoz65U",
        "colab_type": "code",
        "colab": {
          "base_uri": "https://localhost:8080/",
          "height": 54
        },
        "outputId": "36cabad8-6258-4409-cf59-d70b27769f3e"
      },
      "source": [
        "cost_list = []\n",
        "cost_list = [item[2] for item in final_list] \n",
        "\n",
        "for i in range(23):\n",
        "  cost_list[i] = cost_list[i].replace(\",\",\"\")\n",
        "  cost_list[i] = cost_list[i].replace(\"$\",\"\")\n",
        "cost_list[21] = cost_list[21].replace(\"4.5 Billion\",\"4500000000\")\n",
        "cost_list[22] = cost_list[22].replace(\"13 Billion\", \"13000000000\")\n",
        "print(cost_list)"
      ],
      "execution_count": 11,
      "outputs": [
        {
          "output_type": "stream",
          "text": [
            "['44377', '66109', '178445', '208526', '378545', '833371', '1423351', '1969377', '3421198', '5790678', '11547127', '11854000', '15968000', '25117000', '40156000', '67527000', '91462000', '127934000', '247653000', '1078488000', '2492830000', '4500000000', '13000000000']\n"
          ],
          "name": "stdout"
        }
      ]
    },
    {
      "cell_type": "markdown",
      "metadata": {
        "id": "74VvwhdxxuC3",
        "colab_type": "text"
      },
      "source": [
        "Extract the \"Average Cost per Person\" column from the data_list and assign them to a list named \"avg_list\". Remove the \"cents\", and \"$\". Make sure to divide the numbers in cents by 100 so that all numbers are measured in dollar. Print the cleansed avg_list."
      ]
    },
    {
      "cell_type": "code",
      "metadata": {
        "id": "_6TmicYx81pr",
        "colab_type": "code",
        "colab": {
          "base_uri": "https://localhost:8080/",
          "height": 54
        },
        "outputId": "27fd51b0-c1f4-4245-964d-2fc17a17aa9d"
      },
      "source": [
        "avg_list = []\n",
        "avg_list = [item[3] for item in final_list] \n",
        "myInt = 100\n",
        "quotient = []\n",
        "for i in range(23):\n",
        "  avg_list[i] = avg_list[i].replace(\" cents\\n\",\"\")\n",
        "  avg_list[i] = avg_list[i].replace(\"\\n\",\"\")\n",
        "  avg_list[i] = avg_list[i].replace(\"$\",\"\")\n",
        "for i in range(18):\n",
        "  avg_list[i] = '{:.4f}'.format(float(avg_list[i])/100)\n",
        "print(avg_list)"
      ],
      "execution_count": 12,
      "outputs": [
        {
          "output_type": "stream",
          "text": [
            "['0.0113', '0.0124', '0.0246', '0.0216', '0.0294', '0.0488', '0.0614', '0.0626', '0.0887', '0.1154', '0.1833', '0.1554', '0.1707', '0.2376', '0.3271', '0.5129', '0.6044', '0.7134', '1.22', '4.76', '10.02', '15.99', '42.11']\n"
          ],
          "name": "stdout"
        }
      ]
    },
    {
      "cell_type": "markdown",
      "metadata": {
        "id": "B-el1ZZfxzcG",
        "colab_type": "text"
      },
      "source": [
        "Coalesce the cleansed data and save them to a text file named \"census_cost.csv\". The new file should look similar to the original source file except that it is in comma-delimited format and the numbers have been cleansed. The top two lines from the original file should be retained in the new file."
      ]
    },
    {
      "cell_type": "code",
      "metadata": {
        "id": "kGrfFZQJ8IrM",
        "colab_type": "code",
        "colab": {}
      },
      "source": [
        "rows = zip(year_list,pop_list,cost_list,avg_list)"
      ],
      "execution_count": 13,
      "outputs": []
    },
    {
      "cell_type": "code",
      "metadata": {
        "id": "MpzjCGv33tco",
        "colab_type": "code",
        "colab": {}
      },
      "source": [
        "import csv\n",
        "firstline = True\n",
        "with open(\"census_cost.csv\", \"w\") as f:\n",
        "    writer = csv.writer(f)\n",
        "    for row in rows:\n",
        "        writer.writerow(row)"
      ],
      "execution_count": 14,
      "outputs": []
    },
    {
      "cell_type": "markdown",
      "metadata": {
        "id": "JNIxIFg3x203",
        "colab_type": "text"
      },
      "source": [
        "Open the newly-created file \"census_cost.csv\", read all lines and display them. How does it look?"
      ]
    },
    {
      "cell_type": "code",
      "metadata": {
        "id": "4Zyqhy-iAZnD",
        "colab_type": "code",
        "colab": {}
      },
      "source": [
        "with open(\"census_cost.csv\", \"rt\") as f:\n",
        "    display_list = f.readlines()"
      ],
      "execution_count": 15,
      "outputs": []
    },
    {
      "cell_type": "code",
      "metadata": {
        "id": "7w3Q6ojWGWq-",
        "colab_type": "code",
        "colab": {
          "base_uri": "https://localhost:8080/",
          "height": 790
        },
        "outputId": "8747ee7e-a2eb-463b-afc7-ba31b329b32a"
      },
      "source": [
        "for row in display_list:\n",
        "    print(row)"
      ],
      "execution_count": 16,
      "outputs": [
        {
          "output_type": "stream",
          "text": [
            "1790,3929214,44377,0.0113\n",
            "\n",
            "1800,5308483,66109,0.0124\n",
            "\n",
            "1810,7239881,178445,0.0246\n",
            "\n",
            "1820,9633822,208526,0.0216\n",
            "\n",
            "1830,12866020,378545,0.0294\n",
            "\n",
            "1840,17069458,833371,0.0488\n",
            "\n",
            "1850,23191876,1423351,0.0614\n",
            "\n",
            "1860,31443321,1969377,0.0626\n",
            "\n",
            "1870,38558371,3421198,0.0887\n",
            "\n",
            "1880,50155783,5790678,0.1154\n",
            "\n",
            "1890,62979766,11547127,0.1833\n",
            "\n",
            "1900,76303387,11854000,0.1554\n",
            "\n",
            "1910,91972266,15968000,0.1707\n",
            "\n",
            "1920,105710620,25117000,0.2376\n",
            "\n",
            "1930,122775046,40156000,0.3271\n",
            "\n",
            "1940,131669275,67527000,0.5129\n",
            "\n",
            "1950,151325798,91462000,0.6044\n",
            "\n",
            "1960,179323175,127934000,0.7134\n",
            "\n",
            "1970,203302031,247653000,1.22\n",
            "\n",
            "1980,226542199,1078488000,4.76\n",
            "\n",
            "1990,248718301,2492830000,10.02\n",
            "\n",
            "2000,281421906,4500000000,15.99\n",
            "\n",
            "2010,308745538,13000000000,42.11\n",
            "\n"
          ],
          "name": "stdout"
        }
      ]
    },
    {
      "cell_type": "code",
      "metadata": {
        "id": "Tap4ga5RGdgi",
        "colab_type": "code",
        "colab": {}
      },
      "source": [
        ""
      ],
      "execution_count": null,
      "outputs": []
    }
  ]
}