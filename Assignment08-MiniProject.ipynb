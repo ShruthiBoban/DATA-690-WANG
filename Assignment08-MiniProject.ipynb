{
 "cells": [
  {
   "cell_type": "markdown",
   "metadata": {},
   "source": [
    "# MiniProject 1"
   ]
  },
  {
   "cell_type": "markdown",
   "metadata": {},
   "source": [
    "## Employee salaries of Baltimore City\n",
    "\n",
    "Data Source : https://data.baltimorecity.gov/City-Government/Baltimore-City-Employee-Salaries-FY2018/biyh-j8tc/data\n",
    "\n",
    "Every time a person relocates to any place, he/she would want to know about the cost of living of the place they are living in. Simultaneously that would lead them to know the salaries provided in that place so they can manage with the living expenses. So I was interested to know about the salaries increase/decrease every year and number of employees per year of the Baltimore City Employees.\n",
    "\n",
    "- Number of Rows in the dataset : 13683 \n",
    "- Number of columns in the dataset : 7 \n",
    "- Data Size : 1.55MB"
   ]
  },
  {
   "cell_type": "markdown",
   "metadata": {},
   "source": [
    "### 1. Importing required libraries like pandas, numpy, seaborn and matplotlib. Seaborn and matplotlib are used for visualization."
   ]
  },
  {
   "cell_type": "code",
   "execution_count": 1,
   "metadata": {},
   "outputs": [],
   "source": [
    "import matplotlib.pyplot as plt\n",
    "from matplotlib.pyplot import figure #library\n",
    "import pandas as pd\n",
    "import numpy as np\n",
    "import os"
   ]
  },
  {
   "cell_type": "markdown",
   "metadata": {},
   "source": [
    "### 2. Data Loading and Exploring the dataframe"
   ]
  },
  {
   "cell_type": "markdown",
   "metadata": {},
   "source": [
    "**Reading the excel file as csv into pandas to generate dataframe for data processing**"
   ]
  },
  {
   "cell_type": "code",
   "execution_count": 2,
   "metadata": {},
   "outputs": [
    {
     "name": "stdout",
     "output_type": "stream",
     "text": [
      "<class 'pandas.core.frame.DataFrame'>\n"
     ]
    }
   ],
   "source": [
    "#reading the excel file as csv which consists of the dataset\n",
    "#citation - https://www.shanelynn.ie/using-pandas-dataframe-creating-editing-viewing-data-in-python/\n",
    "df = pd.read_csv(\"Baltimore_City_Employee_Salaries_FY2018.csv\",encoding = 'utf-8')\n",
    "print(type(df))"
   ]
  },
  {
   "cell_type": "markdown",
   "metadata": {},
   "source": [
    "**Number of rows present in the dataframe**"
   ]
  },
  {
   "cell_type": "code",
   "execution_count": 3,
   "metadata": {},
   "outputs": [
    {
     "data": {
      "text/plain": [
       "13683"
      ]
     },
     "execution_count": 3,
     "metadata": {},
     "output_type": "execute_result"
    }
   ],
   "source": [
    "#counting the number of rows in the dataframe\n",
    "#citation - https://stackoverflow.com/questions/15943769/how-do-i-get-the-row-count-of-a-pandas-dataframe\n",
    "len(df.index)"
   ]
  },
  {
   "cell_type": "markdown",
   "metadata": {},
   "source": [
    "**Number of columns present in dataframe**"
   ]
  },
  {
   "cell_type": "code",
   "execution_count": 4,
   "metadata": {},
   "outputs": [
    {
     "data": {
      "text/plain": [
       "7"
      ]
     },
     "execution_count": 4,
     "metadata": {},
     "output_type": "execute_result"
    }
   ],
   "source": [
    "#counting the number of columns in the dataframe\n",
    "#citation - https://stackoverflow.com/questions/15943769/how-do-i-get-the-row-count-of-a-pandas-dataframe\n",
    "len(df.columns)"
   ]
  },
  {
   "cell_type": "markdown",
   "metadata": {},
   "source": [
    "**Displaying the first five rows of the dataframe**"
   ]
  },
  {
   "cell_type": "code",
   "execution_count": 5,
   "metadata": {},
   "outputs": [
    {
     "data": {
      "text/html": [
       "<div>\n",
       "<style scoped>\n",
       "    .dataframe tbody tr th:only-of-type {\n",
       "        vertical-align: middle;\n",
       "    }\n",
       "\n",
       "    .dataframe tbody tr th {\n",
       "        vertical-align: top;\n",
       "    }\n",
       "\n",
       "    .dataframe thead th {\n",
       "        text-align: right;\n",
       "    }\n",
       "</style>\n",
       "<table border=\"1\" class=\"dataframe\">\n",
       "  <thead>\n",
       "    <tr style=\"text-align: right;\">\n",
       "      <th></th>\n",
       "      <th>NAME</th>\n",
       "      <th>JOBTITLE</th>\n",
       "      <th>DEPTID</th>\n",
       "      <th>DESCR</th>\n",
       "      <th>HIRE_DT</th>\n",
       "      <th>ANNUAL_RT</th>\n",
       "      <th>GROSS</th>\n",
       "    </tr>\n",
       "  </thead>\n",
       "  <tbody>\n",
       "    <tr>\n",
       "      <th>0</th>\n",
       "      <td>Aaron,Patricia G</td>\n",
       "      <td>Facilities/Office Services II</td>\n",
       "      <td>A03031</td>\n",
       "      <td>OED-Employment Dev (031)</td>\n",
       "      <td>10/24/1979 12:00:00 AM</td>\n",
       "      <td>60,200.00</td>\n",
       "      <td>58,480.46</td>\n",
       "    </tr>\n",
       "    <tr>\n",
       "      <th>1</th>\n",
       "      <td>Aaron,Petra L</td>\n",
       "      <td>Assistant State's Attorney</td>\n",
       "      <td>A29045</td>\n",
       "      <td>States Attorneys Office (045)</td>\n",
       "      <td>09/25/2006 12:00:00 AM</td>\n",
       "      <td>81,200.00</td>\n",
       "      <td>79,220.72</td>\n",
       "    </tr>\n",
       "    <tr>\n",
       "      <th>2</th>\n",
       "      <td>Abadir,Adam O</td>\n",
       "      <td>Council Technician</td>\n",
       "      <td>A02002</td>\n",
       "      <td>City Council (002)</td>\n",
       "      <td>12/12/2016 12:00:00 AM</td>\n",
       "      <td>64,823.00</td>\n",
       "      <td>57,375.31</td>\n",
       "    </tr>\n",
       "    <tr>\n",
       "      <th>3</th>\n",
       "      <td>Abaku,Aigbolosimuan O</td>\n",
       "      <td>Police Officer Trainee</td>\n",
       "      <td>A99416</td>\n",
       "      <td>Police Department (416)</td>\n",
       "      <td>04/17/2018 12:00:00 AM</td>\n",
       "      <td>50,440.00</td>\n",
       "      <td>11,881.34</td>\n",
       "    </tr>\n",
       "    <tr>\n",
       "      <th>4</th>\n",
       "      <td>Abbeduto,Mack</td>\n",
       "      <td>Law Clerk SAO</td>\n",
       "      <td>A29017</td>\n",
       "      <td>States Attorneys Office (017)</td>\n",
       "      <td>05/22/2017 12:00:00 AM</td>\n",
       "      <td>38,926.00</td>\n",
       "      <td>35,138.40</td>\n",
       "    </tr>\n",
       "  </tbody>\n",
       "</table>\n",
       "</div>"
      ],
      "text/plain": [
       "                    NAME                       JOBTITLE  DEPTID  \\\n",
       "0       Aaron,Patricia G  Facilities/Office Services II  A03031   \n",
       "1          Aaron,Petra L     Assistant State's Attorney  A29045   \n",
       "2          Abadir,Adam O             Council Technician  A02002   \n",
       "3  Abaku,Aigbolosimuan O         Police Officer Trainee  A99416   \n",
       "4          Abbeduto,Mack                  Law Clerk SAO  A29017   \n",
       "\n",
       "                           DESCR                 HIRE_DT  ANNUAL_RT      GROSS  \n",
       "0       OED-Employment Dev (031)  10/24/1979 12:00:00 AM  60,200.00  58,480.46  \n",
       "1  States Attorneys Office (045)  09/25/2006 12:00:00 AM  81,200.00  79,220.72  \n",
       "2             City Council (002)  12/12/2016 12:00:00 AM  64,823.00  57,375.31  \n",
       "3        Police Department (416)  04/17/2018 12:00:00 AM  50,440.00  11,881.34  \n",
       "4  States Attorneys Office (017)  05/22/2017 12:00:00 AM  38,926.00  35,138.40  "
      ]
     },
     "execution_count": 5,
     "metadata": {},
     "output_type": "execute_result"
    }
   ],
   "source": [
    "#displaying the content in the dataframe\n",
    "df.head()"
   ]
  },
  {
   "cell_type": "markdown",
   "metadata": {},
   "source": [
    "**Displaying the last five rows of the dataframe**"
   ]
  },
  {
   "cell_type": "code",
   "execution_count": 6,
   "metadata": {},
   "outputs": [
    {
     "data": {
      "text/html": [
       "<div>\n",
       "<style scoped>\n",
       "    .dataframe tbody tr th:only-of-type {\n",
       "        vertical-align: middle;\n",
       "    }\n",
       "\n",
       "    .dataframe tbody tr th {\n",
       "        vertical-align: top;\n",
       "    }\n",
       "\n",
       "    .dataframe thead th {\n",
       "        text-align: right;\n",
       "    }\n",
       "</style>\n",
       "<table border=\"1\" class=\"dataframe\">\n",
       "  <thead>\n",
       "    <tr style=\"text-align: right;\">\n",
       "      <th></th>\n",
       "      <th>NAME</th>\n",
       "      <th>JOBTITLE</th>\n",
       "      <th>DEPTID</th>\n",
       "      <th>DESCR</th>\n",
       "      <th>HIRE_DT</th>\n",
       "      <th>ANNUAL_RT</th>\n",
       "      <th>GROSS</th>\n",
       "    </tr>\n",
       "  </thead>\n",
       "  <tbody>\n",
       "    <tr>\n",
       "      <th>13678</th>\n",
       "      <td>Zorzi,Matthew J</td>\n",
       "      <td>Recreation Leader II</td>\n",
       "      <td>A04009</td>\n",
       "      <td>R&amp;P-Recreation (009)</td>\n",
       "      <td>07/07/2016 12:00:00 AM</td>\n",
       "      <td>33,199.00</td>\n",
       "      <td>34,888.80</td>\n",
       "    </tr>\n",
       "    <tr>\n",
       "      <th>13679</th>\n",
       "      <td>Zou,Zhi Fan</td>\n",
       "      <td>Police Cadet</td>\n",
       "      <td>A99416</td>\n",
       "      <td>Police Department (416)</td>\n",
       "      <td>04/11/2018 12:00:00 AM</td>\n",
       "      <td>31,388.00</td>\n",
       "      <td>7,650.19</td>\n",
       "    </tr>\n",
       "    <tr>\n",
       "      <th>13680</th>\n",
       "      <td>Zovistoski,Zachary D</td>\n",
       "      <td>Police Officer</td>\n",
       "      <td>A99006</td>\n",
       "      <td>Police Department (006)</td>\n",
       "      <td>12/17/2013 12:00:00 AM</td>\n",
       "      <td>64,556.00</td>\n",
       "      <td>75,743.78</td>\n",
       "    </tr>\n",
       "    <tr>\n",
       "      <th>13681</th>\n",
       "      <td>Zuhoski,Timothy C</td>\n",
       "      <td>Police Officer Trainee</td>\n",
       "      <td>A99261</td>\n",
       "      <td>Police Department (261)</td>\n",
       "      <td>01/31/2017 12:00:00 AM</td>\n",
       "      <td>50,561.00</td>\n",
       "      <td>60,078.31</td>\n",
       "    </tr>\n",
       "    <tr>\n",
       "      <th>13682</th>\n",
       "      <td>Zuniga,Linette</td>\n",
       "      <td>Grant Services Specialist I</td>\n",
       "      <td>A65527</td>\n",
       "      <td>HLTH-Health Department (527)</td>\n",
       "      <td>10/20/2016 12:00:00 AM</td>\n",
       "      <td>29,129.00</td>\n",
       "      <td>22,817.57</td>\n",
       "    </tr>\n",
       "  </tbody>\n",
       "</table>\n",
       "</div>"
      ],
      "text/plain": [
       "                       NAME                     JOBTITLE  DEPTID  \\\n",
       "13678       Zorzi,Matthew J         Recreation Leader II  A04009   \n",
       "13679           Zou,Zhi Fan                 Police Cadet  A99416   \n",
       "13680  Zovistoski,Zachary D               Police Officer  A99006   \n",
       "13681     Zuhoski,Timothy C       Police Officer Trainee  A99261   \n",
       "13682        Zuniga,Linette  Grant Services Specialist I  A65527   \n",
       "\n",
       "                              DESCR                 HIRE_DT  ANNUAL_RT  \\\n",
       "13678          R&P-Recreation (009)  07/07/2016 12:00:00 AM  33,199.00   \n",
       "13679       Police Department (416)  04/11/2018 12:00:00 AM  31,388.00   \n",
       "13680       Police Department (006)  12/17/2013 12:00:00 AM  64,556.00   \n",
       "13681       Police Department (261)  01/31/2017 12:00:00 AM  50,561.00   \n",
       "13682  HLTH-Health Department (527)  10/20/2016 12:00:00 AM  29,129.00   \n",
       "\n",
       "           GROSS  \n",
       "13678  34,888.80  \n",
       "13679   7,650.19  \n",
       "13680  75,743.78  \n",
       "13681  60,078.31  \n",
       "13682  22,817.57  "
      ]
     },
     "execution_count": 6,
     "metadata": {},
     "output_type": "execute_result"
    }
   ],
   "source": [
    "df.tail()"
   ]
  },
  {
   "cell_type": "code",
   "execution_count": 7,
   "metadata": {},
   "outputs": [
    {
     "data": {
      "text/html": [
       "<div>\n",
       "<style scoped>\n",
       "    .dataframe tbody tr th:only-of-type {\n",
       "        vertical-align: middle;\n",
       "    }\n",
       "\n",
       "    .dataframe tbody tr th {\n",
       "        vertical-align: top;\n",
       "    }\n",
       "\n",
       "    .dataframe thead th {\n",
       "        text-align: right;\n",
       "    }\n",
       "</style>\n",
       "<table border=\"1\" class=\"dataframe\">\n",
       "  <thead>\n",
       "    <tr style=\"text-align: right;\">\n",
       "      <th></th>\n",
       "      <th>NAME</th>\n",
       "      <th>JOBTITLE</th>\n",
       "      <th>DEPTID</th>\n",
       "      <th>DESCR</th>\n",
       "      <th>HIRE_DT</th>\n",
       "      <th>ANNUAL_RT</th>\n",
       "      <th>GROSS</th>\n",
       "    </tr>\n",
       "  </thead>\n",
       "  <tbody>\n",
       "    <tr>\n",
       "      <th>12133</th>\n",
       "      <td>Thompson,Frank</td>\n",
       "      <td>Pumping Technician III</td>\n",
       "      <td>A50302</td>\n",
       "      <td>DPW-Water &amp; Waste Water (302)</td>\n",
       "      <td>03/03/2003 12:00:00 AM</td>\n",
       "      <td>51,253.00</td>\n",
       "      <td>51,665.14</td>\n",
       "    </tr>\n",
       "    <tr>\n",
       "      <th>10473</th>\n",
       "      <td>Roman,Jessica G</td>\n",
       "      <td>Victim/Witness Coordinator SAO</td>\n",
       "      <td>A29022</td>\n",
       "      <td>States Attorneys Office (022)</td>\n",
       "      <td>10/11/2017 12:00:00 AM</td>\n",
       "      <td>56,919.00</td>\n",
       "      <td>42,538.99</td>\n",
       "    </tr>\n",
       "    <tr>\n",
       "      <th>12084</th>\n",
       "      <td>Thomas,Peter R</td>\n",
       "      <td>Heavy Equipment Operator II</td>\n",
       "      <td>A50553</td>\n",
       "      <td>DPW-Water &amp; Waste Water (553)</td>\n",
       "      <td>08/26/1991 12:00:00 AM</td>\n",
       "      <td>48,260.00</td>\n",
       "      <td>92,837.91</td>\n",
       "    </tr>\n",
       "    <tr>\n",
       "      <th>5141</th>\n",
       "      <td>Hall,Edward M</td>\n",
       "      <td>Fire Captain Suppression</td>\n",
       "      <td>A64065</td>\n",
       "      <td>Fire Department (065)</td>\n",
       "      <td>08/30/1993 12:00:00 AM</td>\n",
       "      <td>101,075.00</td>\n",
       "      <td>120,454.80</td>\n",
       "    </tr>\n",
       "    <tr>\n",
       "      <th>8591</th>\n",
       "      <td>Montgomery,James</td>\n",
       "      <td>Seasonal Maint Aide</td>\n",
       "      <td>A70320</td>\n",
       "      <td>DPW-Solid Waste (320)</td>\n",
       "      <td>05/30/2007 12:00:00 AM</td>\n",
       "      <td>29,120.00</td>\n",
       "      <td>15,256.50</td>\n",
       "    </tr>\n",
       "  </tbody>\n",
       "</table>\n",
       "</div>"
      ],
      "text/plain": [
       "                   NAME                        JOBTITLE  DEPTID  \\\n",
       "12133    Thompson,Frank          Pumping Technician III  A50302   \n",
       "10473   Roman,Jessica G  Victim/Witness Coordinator SAO  A29022   \n",
       "12084    Thomas,Peter R     Heavy Equipment Operator II  A50553   \n",
       "5141      Hall,Edward M        Fire Captain Suppression  A64065   \n",
       "8591   Montgomery,James             Seasonal Maint Aide  A70320   \n",
       "\n",
       "                               DESCR                 HIRE_DT   ANNUAL_RT  \\\n",
       "12133  DPW-Water & Waste Water (302)  03/03/2003 12:00:00 AM   51,253.00   \n",
       "10473  States Attorneys Office (022)  10/11/2017 12:00:00 AM   56,919.00   \n",
       "12084  DPW-Water & Waste Water (553)  08/26/1991 12:00:00 AM   48,260.00   \n",
       "5141           Fire Department (065)  08/30/1993 12:00:00 AM  101,075.00   \n",
       "8591           DPW-Solid Waste (320)  05/30/2007 12:00:00 AM   29,120.00   \n",
       "\n",
       "            GROSS  \n",
       "12133   51,665.14  \n",
       "10473   42,538.99  \n",
       "12084   92,837.91  \n",
       "5141   120,454.80  \n",
       "8591    15,256.50  "
      ]
     },
     "execution_count": 7,
     "metadata": {},
     "output_type": "execute_result"
    }
   ],
   "source": [
    "df.sample(5)"
   ]
  },
  {
   "cell_type": "markdown",
   "metadata": {},
   "source": [
    "**Datatype of every column to help us work better with plots and data cleaning**"
   ]
  },
  {
   "cell_type": "code",
   "execution_count": 8,
   "metadata": {},
   "outputs": [
    {
     "data": {
      "text/plain": [
       "NAME         object\n",
       "JOBTITLE     object\n",
       "DEPTID       object\n",
       "DESCR        object\n",
       "HIRE_DT      object\n",
       "ANNUAL_RT    object\n",
       "GROSS        object\n",
       "dtype: object"
      ]
     },
     "execution_count": 8,
     "metadata": {},
     "output_type": "execute_result"
    }
   ],
   "source": [
    "#returning the data type of each column\n",
    "df.dtypes"
   ]
  },
  {
   "cell_type": "markdown",
   "metadata": {},
   "source": [
    "### 3. Data Cleaning"
   ]
  },
  {
   "cell_type": "markdown",
   "metadata": {},
   "source": [
    "**Replacing commas to help us work better with numbers as commas can cause hindrance for data analyzing and visualization**"
   ]
  },
  {
   "cell_type": "code",
   "execution_count": 9,
   "metadata": {},
   "outputs": [
    {
     "data": {
      "text/html": [
       "<div>\n",
       "<style scoped>\n",
       "    .dataframe tbody tr th:only-of-type {\n",
       "        vertical-align: middle;\n",
       "    }\n",
       "\n",
       "    .dataframe tbody tr th {\n",
       "        vertical-align: top;\n",
       "    }\n",
       "\n",
       "    .dataframe thead th {\n",
       "        text-align: right;\n",
       "    }\n",
       "</style>\n",
       "<table border=\"1\" class=\"dataframe\">\n",
       "  <thead>\n",
       "    <tr style=\"text-align: right;\">\n",
       "      <th></th>\n",
       "      <th>NAME</th>\n",
       "      <th>JOBTITLE</th>\n",
       "      <th>DEPTID</th>\n",
       "      <th>DESCR</th>\n",
       "      <th>HIRE_DT</th>\n",
       "      <th>ANNUAL_RT</th>\n",
       "      <th>GROSS</th>\n",
       "    </tr>\n",
       "  </thead>\n",
       "  <tbody>\n",
       "    <tr>\n",
       "      <th>0</th>\n",
       "      <td>Aaron,Patricia G</td>\n",
       "      <td>Facilities/Office Services II</td>\n",
       "      <td>A03031</td>\n",
       "      <td>OED-Employment Dev (031)</td>\n",
       "      <td>10/24/1979 12:00:00 AM</td>\n",
       "      <td>60200.00</td>\n",
       "      <td>58480.46</td>\n",
       "    </tr>\n",
       "    <tr>\n",
       "      <th>1</th>\n",
       "      <td>Aaron,Petra L</td>\n",
       "      <td>Assistant State's Attorney</td>\n",
       "      <td>A29045</td>\n",
       "      <td>States Attorneys Office (045)</td>\n",
       "      <td>09/25/2006 12:00:00 AM</td>\n",
       "      <td>81200.00</td>\n",
       "      <td>79220.72</td>\n",
       "    </tr>\n",
       "    <tr>\n",
       "      <th>2</th>\n",
       "      <td>Abadir,Adam O</td>\n",
       "      <td>Council Technician</td>\n",
       "      <td>A02002</td>\n",
       "      <td>City Council (002)</td>\n",
       "      <td>12/12/2016 12:00:00 AM</td>\n",
       "      <td>64823.00</td>\n",
       "      <td>57375.31</td>\n",
       "    </tr>\n",
       "    <tr>\n",
       "      <th>3</th>\n",
       "      <td>Abaku,Aigbolosimuan O</td>\n",
       "      <td>Police Officer Trainee</td>\n",
       "      <td>A99416</td>\n",
       "      <td>Police Department (416)</td>\n",
       "      <td>04/17/2018 12:00:00 AM</td>\n",
       "      <td>50440.00</td>\n",
       "      <td>11881.34</td>\n",
       "    </tr>\n",
       "    <tr>\n",
       "      <th>4</th>\n",
       "      <td>Abbeduto,Mack</td>\n",
       "      <td>Law Clerk SAO</td>\n",
       "      <td>A29017</td>\n",
       "      <td>States Attorneys Office (017)</td>\n",
       "      <td>05/22/2017 12:00:00 AM</td>\n",
       "      <td>38926.00</td>\n",
       "      <td>35138.40</td>\n",
       "    </tr>\n",
       "  </tbody>\n",
       "</table>\n",
       "</div>"
      ],
      "text/plain": [
       "                    NAME                       JOBTITLE  DEPTID  \\\n",
       "0       Aaron,Patricia G  Facilities/Office Services II  A03031   \n",
       "1          Aaron,Petra L     Assistant State's Attorney  A29045   \n",
       "2          Abadir,Adam O             Council Technician  A02002   \n",
       "3  Abaku,Aigbolosimuan O         Police Officer Trainee  A99416   \n",
       "4          Abbeduto,Mack                  Law Clerk SAO  A29017   \n",
       "\n",
       "                           DESCR                 HIRE_DT ANNUAL_RT     GROSS  \n",
       "0       OED-Employment Dev (031)  10/24/1979 12:00:00 AM  60200.00  58480.46  \n",
       "1  States Attorneys Office (045)  09/25/2006 12:00:00 AM  81200.00  79220.72  \n",
       "2             City Council (002)  12/12/2016 12:00:00 AM  64823.00  57375.31  \n",
       "3        Police Department (416)  04/17/2018 12:00:00 AM  50440.00  11881.34  \n",
       "4  States Attorneys Office (017)  05/22/2017 12:00:00 AM  38926.00  35138.40  "
      ]
     },
     "execution_count": 9,
     "metadata": {},
     "output_type": "execute_result"
    }
   ],
   "source": [
    "#replacing the occurances of commas in gross and annual_rt columns\n",
    "#citation - https://stackoverflow.com/questions/25698710/replace-all-occurrences-of-a-string-in-a-pandas-dataframe-python\n",
    "df['GROSS'] = df['GROSS'].str.replace(',', '')\n",
    "df['ANNUAL_RT'] = df['ANNUAL_RT'].str.replace(',', '')\n",
    "df.head()"
   ]
  },
  {
   "cell_type": "markdown",
   "metadata": {},
   "source": [
    "**Almost every column has got 'object' as its datatype and converting them to proper data type might help us in better data visualization**"
   ]
  },
  {
   "cell_type": "code",
   "execution_count": 10,
   "metadata": {},
   "outputs": [
    {
     "data": {
      "text/plain": [
       "NAME                 object\n",
       "JOBTITLE             object\n",
       "DEPTID               object\n",
       "DESCR                object\n",
       "HIRE_DT      datetime64[ns]\n",
       "ANNUAL_RT           float64\n",
       "GROSS               float64\n",
       "dtype: object"
      ]
     },
     "execution_count": 10,
     "metadata": {},
     "output_type": "execute_result"
    }
   ],
   "source": [
    "#converting the data type of columns gross,annual_rt to float and dates into date data type in the dataframe\n",
    "#citation - https://stackoverflow.com/questions/16852911/how-do-i-convert-dates-in-a-pandas-data-frame-to-a-date-data-type\n",
    "df['GROSS'] = df['GROSS'].astype(float)\n",
    "df['ANNUAL_RT'] = df['ANNUAL_RT'].astype(float)\n",
    "df['HIRE_DT'] = df['HIRE_DT'].astype('datetime64[ns]')\n",
    "df.dtypes"
   ]
  },
  {
   "cell_type": "markdown",
   "metadata": {},
   "source": [
    "**Creating a new column for year to try to analyze better and get a better visualization by getting unique values**"
   ]
  },
  {
   "cell_type": "code",
   "execution_count": 11,
   "metadata": {},
   "outputs": [
    {
     "data": {
      "text/plain": [
       "2017.0    1145\n",
       "2007.0     793\n",
       "2018.0     741\n",
       "2006.0     738\n",
       "2016.0     681\n",
       "2015.0     661\n",
       "2008.0     556\n",
       "2014.0     554\n",
       "2011.0     470\n",
       "2013.0     445\n",
       "2005.0     443\n",
       "2004.0     407\n",
       "2012.0     402\n",
       "2001.0     387\n",
       "2009.0     366\n",
       "2002.0     338\n",
       "2003.0     318\n",
       "2010.0     317\n",
       "1997.0     299\n",
       "2000.0     299\n",
       "1999.0     260\n",
       "1994.0     247\n",
       "1995.0     242\n",
       "1996.0     241\n",
       "1998.0     225\n",
       "1987.0     220\n",
       "1990.0     214\n",
       "1993.0     205\n",
       "1988.0     200\n",
       "1986.0     163\n",
       "1989.0     144\n",
       "1985.0     115\n",
       "1991.0     108\n",
       "1992.0      97\n",
       "1980.0      81\n",
       "1984.0      73\n",
       "1981.0      69\n",
       "1979.0      69\n",
       "1982.0      64\n",
       "1983.0      51\n",
       "1978.0      46\n",
       "1977.0      40\n",
       "1975.0      29\n",
       "1976.0      25\n",
       "1974.0      22\n",
       "1973.0      20\n",
       "1969.0      10\n",
       "1971.0      10\n",
       "1970.0      10\n",
       "1972.0       8\n",
       "1968.0       4\n",
       "1967.0       3\n",
       "1965.0       2\n",
       "1966.0       2\n",
       "1962.0       1\n",
       "Name: Year, dtype: int64"
      ]
     },
     "execution_count": 11,
     "metadata": {},
     "output_type": "execute_result"
    }
   ],
   "source": [
    "#creating a new column for year to try to analyze and plot a different visualization by getting unique values\n",
    "#citation - https://stackoverflow.com/questions/30405413/python-pandas-extract-year-from-datetime-dfyear-dfdate-year-is-not\n",
    "df['Year'] = df.HIRE_DT.dt.year\n",
    "df['Year'].value_counts()"
   ]
  },
  {
   "cell_type": "markdown",
   "metadata": {},
   "source": [
    "**Checking if there are any null values present in the dataframe**"
   ]
  },
  {
   "cell_type": "code",
   "execution_count": 12,
   "metadata": {},
   "outputs": [
    {
     "data": {
      "text/plain": [
       "NAME           0\n",
       "JOBTITLE       0\n",
       "DEPTID         0\n",
       "DESCR          0\n",
       "HIRE_DT        3\n",
       "ANNUAL_RT      0\n",
       "GROSS        161\n",
       "Year           3\n",
       "dtype: int64"
      ]
     },
     "execution_count": 12,
     "metadata": {},
     "output_type": "execute_result"
    }
   ],
   "source": [
    "#counting the null values present in the dataframe\n",
    "#citation - https://stackoverflow.com/questions/26266362/how-to-count-the-nan-values-in-a-column-in-pandas-dataframe\n",
    "df.isnull().sum()"
   ]
  },
  {
   "cell_type": "code",
   "execution_count": 13,
   "metadata": {},
   "outputs": [
    {
     "data": {
      "text/plain": [
       "167"
      ]
     },
     "execution_count": 13,
     "metadata": {},
     "output_type": "execute_result"
    }
   ],
   "source": [
    "df.isnull().sum().sum()"
   ]
  },
  {
   "cell_type": "markdown",
   "metadata": {},
   "source": [
    "**Filling the missing values with ffill (ffill() function is used to fill the missing value in the dataframe. 'ffill' stands for 'forward fill' and will propagate last valid observation forward)**"
   ]
  },
  {
   "cell_type": "code",
   "execution_count": 14,
   "metadata": {},
   "outputs": [],
   "source": [
    "#filling the missing values\n",
    "#citation - https://www.geeksforgeeks.org/python-pandas-dataframe-fillna-to-replace-null-values-in-dataframe/\n",
    "df[\"GROSS\"].fillna( method ='ffill', inplace = True)\n",
    "df[\"HIRE_DT\"].fillna( method ='ffill', inplace = True)\n",
    "df[\"Year\"].fillna( method ='ffill', inplace = True)"
   ]
  },
  {
   "cell_type": "markdown",
   "metadata": {},
   "source": [
    "**After filling all possible missing values, it is necessary to confirm if there are any more null values present and hence re-checking the same here**"
   ]
  },
  {
   "cell_type": "code",
   "execution_count": 15,
   "metadata": {},
   "outputs": [
    {
     "data": {
      "text/plain": [
       "NAME         0\n",
       "JOBTITLE     0\n",
       "DEPTID       0\n",
       "DESCR        0\n",
       "HIRE_DT      0\n",
       "ANNUAL_RT    0\n",
       "GROSS        0\n",
       "Year         0\n",
       "dtype: int64"
      ]
     },
     "execution_count": 15,
     "metadata": {},
     "output_type": "execute_result"
    }
   ],
   "source": [
    "df.isnull().sum()"
   ]
  },
  {
   "cell_type": "markdown",
   "metadata": {},
   "source": [
    "**Statistics of the dataframe**"
   ]
  },
  {
   "cell_type": "code",
   "execution_count": 16,
   "metadata": {},
   "outputs": [
    {
     "data": {
      "text/html": [
       "<div>\n",
       "<style scoped>\n",
       "    .dataframe tbody tr th:only-of-type {\n",
       "        vertical-align: middle;\n",
       "    }\n",
       "\n",
       "    .dataframe tbody tr th {\n",
       "        vertical-align: top;\n",
       "    }\n",
       "\n",
       "    .dataframe thead th {\n",
       "        text-align: right;\n",
       "    }\n",
       "</style>\n",
       "<table border=\"1\" class=\"dataframe\">\n",
       "  <thead>\n",
       "    <tr style=\"text-align: right;\">\n",
       "      <th></th>\n",
       "      <th>ANNUAL_RT</th>\n",
       "      <th>GROSS</th>\n",
       "      <th>Year</th>\n",
       "    </tr>\n",
       "  </thead>\n",
       "  <tbody>\n",
       "    <tr>\n",
       "      <th>count</th>\n",
       "      <td>13683.000000</td>\n",
       "      <td>13683.000000</td>\n",
       "      <td>13683.000000</td>\n",
       "    </tr>\n",
       "    <tr>\n",
       "      <th>mean</th>\n",
       "      <td>56751.774026</td>\n",
       "      <td>60636.971077</td>\n",
       "      <td>2005.044215</td>\n",
       "    </tr>\n",
       "    <tr>\n",
       "      <th>std</th>\n",
       "      <td>25491.250161</td>\n",
       "      <td>36191.805175</td>\n",
       "      <td>10.587632</td>\n",
       "    </tr>\n",
       "    <tr>\n",
       "      <th>min</th>\n",
       "      <td>1800.000000</td>\n",
       "      <td>0.000000</td>\n",
       "      <td>1962.000000</td>\n",
       "    </tr>\n",
       "    <tr>\n",
       "      <th>25%</th>\n",
       "      <td>36399.500000</td>\n",
       "      <td>37387.185000</td>\n",
       "      <td>1999.000000</td>\n",
       "    </tr>\n",
       "    <tr>\n",
       "      <th>50%</th>\n",
       "      <td>52456.000000</td>\n",
       "      <td>56947.940000</td>\n",
       "      <td>2007.000000</td>\n",
       "    </tr>\n",
       "    <tr>\n",
       "      <th>75%</th>\n",
       "      <td>73440.000000</td>\n",
       "      <td>81657.150000</td>\n",
       "      <td>2014.000000</td>\n",
       "    </tr>\n",
       "    <tr>\n",
       "      <th>max</th>\n",
       "      <td>250000.000000</td>\n",
       "      <td>250197.500000</td>\n",
       "      <td>2018.000000</td>\n",
       "    </tr>\n",
       "  </tbody>\n",
       "</table>\n",
       "</div>"
      ],
      "text/plain": [
       "           ANNUAL_RT          GROSS          Year\n",
       "count   13683.000000   13683.000000  13683.000000\n",
       "mean    56751.774026   60636.971077   2005.044215\n",
       "std     25491.250161   36191.805175     10.587632\n",
       "min      1800.000000       0.000000   1962.000000\n",
       "25%     36399.500000   37387.185000   1999.000000\n",
       "50%     52456.000000   56947.940000   2007.000000\n",
       "75%     73440.000000   81657.150000   2014.000000\n",
       "max    250000.000000  250197.500000   2018.000000"
      ]
     },
     "execution_count": 16,
     "metadata": {},
     "output_type": "execute_result"
    }
   ],
   "source": [
    "#generating the statistics of the gross and annual income columns\n",
    "#citation - https://pandas.pydata.org/pandas-docs/stable/reference/api/pandas.DataFrame.describe.html\n",
    "df.describe()"
   ]
  },
  {
   "cell_type": "markdown",
   "metadata": {},
   "source": [
    "### 4. Data Visualization"
   ]
  },
  {
   "cell_type": "markdown",
   "metadata": {},
   "source": [
    "**For better understanding of data present in 'gross income' column, I have tried to analyse the average of gross income using histogram**"
   ]
  },
  {
   "cell_type": "code",
   "execution_count": 17,
   "metadata": {},
   "outputs": [
    {
     "data": {
      "text/plain": [
       "Text(0, 0.5, 'count')"
      ]
     },
     "execution_count": 17,
     "metadata": {},
     "output_type": "execute_result"
    },
    {
     "data": {
      "image/png": "[encoded data removed]",
      "text/plain": [
       "<Figure size 360x360 with 1 Axes>"
      ]
     },
     "metadata": {
      "needs_background": "light"
     },
     "output_type": "display_data"
    }
   ],
   "source": [
    "#plotting a histogram for analysing the average of gross income \n",
    "#citation - https://medium.com/python-pandemonium/data-visualization-in-python-histogram-in-matplotlib-dce38f49f89c\n",
    "df['GROSS'].hist(figsize = (5,5), color = \"grey\")\n",
    "plt.xlabel('grossincome')\n",
    "plt.ylabel('count')"
   ]
  },
  {
   "cell_type": "markdown",
   "metadata": {},
   "source": [
    "**I have tried to analyze the average of annual income similar to average of gross income for a better understanding using histogram**"
   ]
  },
  {
   "cell_type": "code",
   "execution_count": 18,
   "metadata": {},
   "outputs": [
    {
     "data": {
      "text/plain": [
       "Text(0, 0.5, 'count')"
      ]
     },
     "execution_count": 18,
     "metadata": {},
     "output_type": "execute_result"
    },
    {
     "data": {
      "image/png": "[encoded data removed]",
      "text/plain": [
       "<Figure size 360x360 with 1 Axes>"
      ]
     },
     "metadata": {
      "needs_background": "light"
     },
     "output_type": "display_data"
    }
   ],
   "source": [
    "#plotting a histogram for analysing the average of annual income \n",
    "#citation - https://medium.com/python-pandemonium/data-visualization-in-python-histogram-in-matplotlib-dce38f49f89c\n",
    "df['ANNUAL_RT'].hist(figsize = (5,5), color = \"green\")\n",
    "plt.xlabel('annualincome')\n",
    "plt.ylabel('count')"
   ]
  },
  {
   "cell_type": "markdown",
   "metadata": {},
   "source": [
    "### 5. Research Questions"
   ]
  },
  {
   "cell_type": "markdown",
   "metadata": {},
   "source": [
    "1. If there has been overall salary decrease/increase every year? - **As the job profiles are different we can see that salary isn't the same for every job profile but we can also see that even though the job profiles are different, the range of salary has surely increase in 2000s when compared to 1960s or 1970s.**"
   ]
  },
  {
   "cell_type": "code",
   "execution_count": 19,
   "metadata": {},
   "outputs": [
    {
     "data": {
      "image/png": "[encoded data removed]",
      "text/plain": [
       "<Figure size 360x360 with 1 Axes>"
      ]
     },
     "metadata": {
      "needs_background": "light"
     },
     "output_type": "display_data"
    }
   ],
   "source": [
    "#plotting to analyze if there are salary decrease/increase year by year\n",
    "#citation - https://pythonspot.com/matplotlib-scatterplot/\n",
    "plt.figure(num = None, figsize=(5,5))\n",
    "plt.bar(df['Year'], df['ANNUAL_RT'])\n",
    "plt.title('SalaryIncome')\n",
    "plt.xlabel('Year')\n",
    "plt.ylabel('Annualincome')\n",
    "plt.show()"
   ]
  },
  {
   "cell_type": "markdown",
   "metadata": {},
   "source": [
    "2. Which year has got the most number of employees being hired? - **We can see that 2017 has been the year with the maximum number of employees hired in Baltimore.**"
   ]
  },
  {
   "cell_type": "code",
   "execution_count": 20,
   "metadata": {},
   "outputs": [
    {
     "data": {
      "text/plain": [
       "Text(0, 0.5, 'count')"
      ]
     },
     "execution_count": 20,
     "metadata": {},
     "output_type": "execute_result"
    },
    {
     "data": {
      "image/png": "[encoded data removed]",
      "text/plain": [
       "<Figure size 360x360 with 1 Axes>"
      ]
     },
     "metadata": {
      "needs_background": "light"
     },
     "output_type": "display_data"
    }
   ],
   "source": [
    "#trying to know maximum number of employees hired every year\n",
    "df['Year'].hist(bins = 100, figsize = (5,5), color = \"pink\")\n",
    "plt.xlabel('Year')\n",
    "plt.ylabel('count')"
   ]
  },
  {
   "cell_type": "markdown",
   "metadata": {},
   "source": [
    "Conclusion : There were very less people who were employed from 1960-1975 with less salary when compared to the 2000s and maximu number of employees were hired during 2017 in Baltimore.\n",
    "\n",
    "In this project, I learnt to clean the data, handling the data, fill the missing values, remove special characters in the data to make it more consistent, how to get unique values by getting their count and data visualization."
   ]
  }
 ],
 "metadata": {
  "kernelspec": {
   "display_name": "Python 3",
   "language": "python",
   "name": "python3"
  },
  "language_info": {
   "codemirror_mode": {
    "name": "ipython",
    "version": 3
   },
   "file_extension": ".py",
   "mimetype": "text/x-python",
   "name": "python",
   "nbconvert_exporter": "python",
   "pygments_lexer": "ipython3",
   "version": "3.7.3"
  }
 },
 "nbformat": 4,
 "nbformat_minor": 2
}
